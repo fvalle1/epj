{
 "cells": [
  {
   "cell_type": "code",
   "execution_count": null,
   "id": "a261552e",
   "metadata": {},
   "outputs": [],
   "source": [
    "import numpy as np\n",
    "import pandas as pd\n",
    "from scipy.stats import ks_2samp\n",
    "import matplotlib.pyplot as plt\n",
    "import plotly.graph_objects as go\n",
    "import gc\n",
    "import logging\n",
    "log = logging.getLogger(\"slda\")\n",
    "log.addHandler(logging.StreamHandler())"
   ]
  },
  {
   "cell_type": "code",
   "execution_count": null,
   "id": "bca7a79d",
   "metadata": {},
   "outputs": [],
   "source": [
    "seed = 42\n",
    "rng = np.random.RandomState(seed = seed)"
   ]
  },
  {
   "cell_type": "code",
   "execution_count": null,
   "id": "246c76c1",
   "metadata": {},
   "outputs": [],
   "source": [
    "D = 250 # documents\n",
    "W = 1000 # words\n",
    "K = 10 #10 topics\n",
    "alpha = 1./K\n",
    "beta = 1./K\n",
    "eta = 10/K\n",
    "sigma2 = 0.005#0.005\n",
    "\n",
    "Nd = [100 for doc in range(D)]"
   ]
  },
  {
   "cell_type": "code",
   "execution_count": null,
   "id": "8f39c5e8",
   "metadata": {},
   "outputs": [],
   "source": [
    "phi = rng.dirichlet(np.repeat(alpha, W), size=K)\n",
    "assert(phi.shape==(K,W))"
   ]
  },
  {
   "cell_type": "code",
   "execution_count": null,
   "id": "48377f03",
   "metadata": {},
   "outputs": [],
   "source": [
    "fig, ax = plt.subplots()\n",
    "\n",
    "plt.plot(phi[0])\n",
    "\n",
    "ax.set_xlabel(\"W\", fontsize=25)\n",
    "ax.set_ylabel(\"$\\\\phi_K$\", fontsize=25)\n",
    "\n",
    "ax.tick_params(labelsize=20)\n",
    "\n"
   ]
  },
  {
   "cell_type": "code",
   "execution_count": null,
   "id": "b2811905",
   "metadata": {},
   "outputs": [],
   "source": [
    "theta = rng.dirichlet(np.repeat(beta, K), size=D)\n",
    "assert(theta.shape==(D,K))"
   ]
  },
  {
   "cell_type": "code",
   "execution_count": null,
   "id": "ccd8c28d",
   "metadata": {},
   "outputs": [],
   "source": [
    "fig, ax = plt.subplots()\n",
    "\n",
    "ax.plot(theta[0])\n",
    "\n",
    "ax.set_xlabel(\"K\", fontsize=25)\n",
    "ax.set_ylabel(\"$\\\\theta_d$\", fontsize=25)\n",
    "\n",
    "ax.tick_params(labelsize=20)\n",
    "\n",
    "plt.show()"
   ]
  },
  {
   "cell_type": "code",
   "execution_count": null,
   "id": "d189a495",
   "metadata": {},
   "outputs": [],
   "source": [
    "z = np.array([[np.argmax(rng.multinomial(1, theta[i])) for j in range(Nd[i])]\n",
    "     for i in range(D)])"
   ]
  },
  {
   "cell_type": "code",
   "execution_count": null,
   "id": "b753db1c",
   "metadata": {},
   "outputs": [],
   "source": [
    "z_bar = np.average(z, 1)\n",
    "Ys = [[[rng.normal(eta*z_bar_d, sigma2) for _ in range(Nd[d])] for d,z_bar_d in enumerate(z_bar)] for _ in range(10)]\n",
    "\n",
    "#non info \n",
    "#Ys = [[rng.uniform(0,10,size=Nd[d]) for d,z_bar_d in enumerate(z_bar)] for _ in range(10)]\n",
    "Y = [rng.normal(eta*z_bar_d, sigma2) for z_bar_d in z_bar]\n",
    "assert(len(Y)==D)"
   ]
  },
  {
   "cell_type": "code",
   "execution_count": null,
   "id": "6fbd4788",
   "metadata": {},
   "outputs": [],
   "source": [
    "W = np.array([[np.argmax(rng.multinomial(1,phi[z[i,j]])) for j in range(Nd[i])]\n",
    "     for i in range(D)])"
   ]
  },
  {
   "cell_type": "code",
   "execution_count": null,
   "id": "dd77537d",
   "metadata": {},
   "outputs": [],
   "source": [
    "W.shape"
   ]
  },
  {
   "cell_type": "code",
   "execution_count": null,
   "id": "3692975e",
   "metadata": {},
   "outputs": [],
   "source": [
    "df = pd.DataFrame()\n",
    "\n",
    "for doc in range(D):\n",
    "    doc_dict, doc_ab = np.unique(W[doc], return_counts=True)\n",
    "    df = df.join(pd.Series(index=doc_dict, data=doc_ab, name=\"doc_{}\".format(doc)), how=\"outer\")\n",
    "    \n",
    "\n",
    "df = df.fillna(0).astype(int)"
   ]
  },
  {
   "cell_type": "code",
   "execution_count": null,
   "id": "c2e5c573",
   "metadata": {},
   "outputs": [],
   "source": [
    "gamma = np.array([int(y) for y in Y])"
   ]
  },
  {
   "cell_type": "code",
   "execution_count": null,
   "id": "ec1ca3cc",
   "metadata": {},
   "outputs": [],
   "source": [
    "df_meta = pd.DataFrame()\n",
    "\n",
    "\n",
    "for doc in range(D):\n",
    "    doc_dict, doc_ab = np.unique(gamma[doc], return_counts=True)\n",
    "    df_meta = df_meta.join(pd.Series(index=doc_dict, data=doc_ab, name=\"doc_{}\".format(doc)), how=\"outer\")\n",
    "    \n",
    "\n",
    "df_meta = df_meta.fillna(0).astype(int)"
   ]
  },
  {
   "cell_type": "code",
   "execution_count": null,
   "id": "e8b8c95a",
   "metadata": {},
   "outputs": [],
   "source": [
    "fig, ax = plt.subplots()\n",
    "\n",
    "freq = df.sum(1).sort_values(ascending=False).values\n",
    "\n",
    "ax.plot(freq/freq.sum())\n",
    "ax.plot([1,len(freq)], [.1, .1/len(freq)])\n",
    "\n",
    "ax.set_xlabel(\"rank\", fontsize=25)\n",
    "ax.set_ylabel(\"$f_i$\", fontsize=25)\n",
    "\n",
    "ax.tick_params(labelsize=20)\n",
    "\n",
    "ax.set_xscale(\"log\")\n",
    "ax.set_yscale(\"log\")"
   ]
  },
  {
   "cell_type": "code",
   "execution_count": null,
   "id": "dd39352a",
   "metadata": {},
   "outputs": [],
   "source": [
    "fig,ax=plt.subplots()\n",
    "\n",
    "plt.scatter(Y,np.argmax(theta, axis=1))\n",
    "\n",
    "ax.set_xlabel(\"$Y_d$\", fontsize=25)\n",
    "ax.set_ylabel(\"$argmax(\\\\theta_d)$\", fontsize=25)\n",
    "\n",
    "ax.tick_params(labelsize=20)"
   ]
  },
  {
   "cell_type": "markdown",
   "id": "6a27c930",
   "metadata": {},
   "source": [
    "# Models\n",
    "## LDA"
   ]
  },
  {
   "cell_type": "code",
   "execution_count": null,
   "id": "90f647d9",
   "metadata": {},
   "outputs": [],
   "source": [
    "from sklearn.decomposition import LatentDirichletAllocation\n",
    "from scipy.special import kl_div"
   ]
  },
  {
   "cell_type": "code",
   "execution_count": null,
   "id": "d7febb41",
   "metadata": {},
   "outputs": [],
   "source": [
    "lda = LatentDirichletAllocation(n_components=K)"
   ]
  },
  {
   "cell_type": "code",
   "execution_count": null,
   "id": "da33c5ea",
   "metadata": {},
   "outputs": [],
   "source": [
    "topic_dist = lda.fit_transform(df.transpose().values)"
   ]
  },
  {
   "cell_type": "code",
   "execution_count": null,
   "id": "f62dd618",
   "metadata": {},
   "outputs": [],
   "source": [
    "fig, ax = plt.subplots()\n",
    "\n",
    "ax.hist([np.sum(kl_div(topic_dist[i], theta[i])) for i in range(D)], density=True)\n",
    "\n",
    "\n",
    "ax.set_xlabel(\"KL_divergence\", fontsize=25)\n",
    "ax.set_ylabel(\"pdf\", fontsize=25)\n",
    "\n",
    "ax.tick_params(labelsize=20)\n",
    "plt.show()"
   ]
  },
  {
   "cell_type": "markdown",
   "id": "aa00c1f6",
   "metadata": {},
   "source": [
    "## sLDA"
   ]
  },
  {
   "cell_type": "code",
   "execution_count": null,
   "id": "fa67efc8",
   "metadata": {},
   "outputs": [],
   "source": [
    "with open(\"train-data.txt\", \"w\") as file:\n",
    "    for doc in df.columns:\n",
    "        total = (df[doc]>0).sum()\n",
    "        file.write(str(total))\n",
    "        for iw,(w,c) in enumerate(df[doc].items()):\n",
    "            if c>0:\n",
    "                file.write(f\" {iw}:{c}\")\n",
    "        file.write(\"\\n\")"
   ]
  },
  {
   "cell_type": "code",
   "execution_count": null,
   "id": "4cb079d3",
   "metadata": {},
   "outputs": [],
   "source": [
    "with open(\"train-labels.txt\", \"w\") as file:\n",
    "    for y in Y:\n",
    "        file.write(str(int(round(y,0)))+\"\\n\")"
   ]
  },
  {
   "cell_type": "markdown",
   "id": "6bdd6f50",
   "metadata": {},
   "source": [
    "## Run\n",
    "```bash\n",
    "slda est train-data.txt train-labels.txt settings.txt 0.01 10 random sldasyntetic\n",
    "```\n",
    "\n",
    "infer \n",
    "\n",
    "```bash\n",
    "slda inf train-data.txt train-labels.txt settings.txt sldasyntetic/010.model sldasyntetic\n",
    "```"
   ]
  },
  {
   "cell_type": "markdown",
   "id": "e0c127b8",
   "metadata": {},
   "source": [
    "### Postprocess"
   ]
  },
  {
   "cell_type": "code",
   "execution_count": null,
   "id": "052d8c47",
   "metadata": {},
   "outputs": [],
   "source": [
    "import multiprocessing as mp"
   ]
  },
  {
   "cell_type": "code",
   "execution_count": null,
   "id": "7bd4f0fd",
   "metadata": {},
   "outputs": [],
   "source": [
    "slda_topic_dist = pd.read_csv(\"sldasyntetic/final.gamma\", sep=\" \", header=None)\n",
    "slda_topic_dist.columns = [\"Topic %d\"%(t+1) for t in range(slda_topic_dist.shape[1])]\n",
    "slda_topic_dist = slda_topic_dist.divide(slda_topic_dist.sum(1),0)\n",
    "print(slda_topic_dist.shape)\n",
    "slda_topic_dist.head(2)"
   ]
  },
  {
   "cell_type": "code",
   "execution_count": null,
   "id": "e391aa63",
   "metadata": {},
   "outputs": [],
   "source": [
    "slda_word_dist = pd.DataFrame(index=df.index, columns = [\"Topic %d\"%(t+1) for t in range(10)]).fillna(0)\n",
    "print(slda_word_dist.shape)\n",
    "slda_word_dist.head(2)"
   ]
  },
  {
   "cell_type": "code",
   "execution_count": null,
   "id": "e5657783",
   "metadata": {},
   "outputs": [],
   "source": [
    "def assign_word(line, sample):\n",
    "    new_sample = pd.Series(name=sample, index=slda_word_dist.index, dtype=object)\n",
    "    for token in line:\n",
    "        idx, cnt = token.split(\":\")\n",
    "        new_sample.at[new_sample.index[int(idx)]]=int(cnt)\n",
    "    return new_sample\n",
    "    \n",
    "def assign_doc(sample):\n",
    "    global df_word_dist_temp\n",
    "    df_word_dist_temp = df_word_dist_temp.join(sample, how=\"outer\")"
   ]
  },
  {
   "cell_type": "code",
   "execution_count": null,
   "id": "6bf8aa30",
   "metadata": {},
   "outputs": [],
   "source": [
    "pool = mp.Pool(6)\n",
    "df_word_dist_temp = pd.DataFrame()\n",
    "with open(\"sldasyntetic/word-assignments.dat\") as file:\n",
    "    lines = file.read().split(\"\\n\")      \n",
    "    w = [pool.apply_async(assign_word, args=([line.split(\" \")[1:], sample]), callback = assign_doc, error_callback=lambda err:log.error(err)) for line, sample in zip(lines, slda_word_dist.columns)]\n",
    "    \n",
    "    pool.close()\n",
    "\n",
    "pool.join()\n",
    "df_word_dist_temp=df_word_dist_temp.reindex(index=slda_word_dist.index, columns=slda_word_dist.columns)"
   ]
  },
  {
   "cell_type": "code",
   "execution_count": null,
   "id": "ec389dc3",
   "metadata": {},
   "outputs": [],
   "source": [
    "for g, data in df_word_dist_temp.apply(lambda x: np.unique(x[~x.isna()],return_counts=True), 1).items():\n",
    "    for t, c in zip(*data):\n",
    "        slda_word_dist.at[g,slda_word_dist.columns[t]]=c"
   ]
  },
  {
   "cell_type": "code",
   "execution_count": null,
   "id": "b318ddc7",
   "metadata": {},
   "outputs": [],
   "source": [
    "slda_word_dist = slda_word_dist.divide(slda_word_dist.sum(0),1).fillna(0)\n",
    "slda_word_dist.head(2)"
   ]
  },
  {
   "cell_type": "code",
   "execution_count": null,
   "id": "d1b014ae",
   "metadata": {},
   "outputs": [],
   "source": [
    "with open(\"sldasyntetic/likelihood.dat\") as file:\n",
    "    slda_likelihood = float(file.readlines()[-1].split(\"\\t\")[0])"
   ]
  },
  {
   "cell_type": "markdown",
   "id": "def3f934",
   "metadata": {},
   "source": [
    "## hSBM"
   ]
  },
  {
   "cell_type": "code",
   "execution_count": null,
   "id": "2948ba2d",
   "metadata": {},
   "outputs": [],
   "source": [
    "%load_ext autoreload\n",
    "%autoreload 2\n",
    "import sys\n",
    "sys.path.append(\"/home/jovyan/work/phd/hSBM_Topicmodel/\")\n",
    "from sbmtm import sbmtm\n",
    "import graph_tool.all as gt"
   ]
  },
  {
   "cell_type": "code",
   "execution_count": null,
   "id": "179a197d",
   "metadata": {},
   "outputs": [],
   "source": [
    "hsbm = sbmtm()"
   ]
  },
  {
   "cell_type": "code",
   "execution_count": null,
   "id": "75dad8dd",
   "metadata": {},
   "outputs": [],
   "source": [
    "hsbm.make_graph_from_BoW_df(df)"
   ]
  },
  {
   "cell_type": "code",
   "execution_count": null,
   "id": "6d044ae2",
   "metadata": {},
   "outputs": [],
   "source": [
    "hsbm.g"
   ]
  },
  {
   "cell_type": "code",
   "execution_count": null,
   "id": "1f036a55",
   "metadata": {},
   "outputs": [],
   "source": [
    "hsbm.fit(n_init=3, B_min=8, B_max=15, parallel=True, verbose=False)"
   ]
  },
  {
   "cell_type": "code",
   "execution_count": null,
   "id": "cb8b145b",
   "metadata": {},
   "outputs": [],
   "source": [
    "gt.draw_hierarchy(hsbm.state,\n",
    "                 layout=\"bipartite\",\n",
    "                 hedge_pen_width=8, \n",
    "                 hvertex_size=25, \n",
    "                 vertex_kind=hsbm.g.vertex_properties[\"kind\"])"
   ]
  },
  {
   "cell_type": "code",
   "execution_count": null,
   "id": "2f934499",
   "metadata": {},
   "outputs": [],
   "source": [
    "import os\n",
    "import cloudpickle as pickle\n",
    "\n",
    "os.system(\"mkdir -p syntetic\")\n",
    "os.chdir(\"syntetic\")\n",
    "hsbm.save_data()\n",
    "hsbm.save_graph()\n",
    "os.chdir(\"..\")\n",
    "\n",
    "with open(\"sbmtm.pkl\", \"wb\") as file:\n",
    "    pickle.dump(hsbm, file)"
   ]
  },
  {
   "cell_type": "markdown",
   "id": "196a0824",
   "metadata": {},
   "source": [
    "## triSBM"
   ]
  },
  {
   "cell_type": "code",
   "execution_count": null,
   "id": "51e6a0a0",
   "metadata": {},
   "outputs": [],
   "source": [
    "%load_ext autoreload\n",
    "%autoreload 2\n",
    "import sys\n",
    "sys.path.append(\"/home/jovyan/work/phd/trisbm/\")\n",
    "from trisbm import trisbm"
   ]
  },
  {
   "cell_type": "code",
   "execution_count": null,
   "id": "5a7e6929",
   "metadata": {},
   "outputs": [],
   "source": [
    "model = trisbm()"
   ]
  },
  {
   "cell_type": "code",
   "execution_count": null,
   "id": "d04616f5",
   "metadata": {},
   "outputs": [],
   "source": [
    "df_meta.index = [\"#{}\".format(w) for w in df_meta.index]"
   ]
  },
  {
   "cell_type": "code",
   "execution_count": null,
   "id": "adafe90a",
   "metadata": {},
   "outputs": [],
   "source": [
    "model.make_graph(df.append(df_meta), lambda w: 2 if \"#\" in str(w) else 1)"
   ]
  },
  {
   "cell_type": "code",
   "execution_count": null,
   "id": "14b28ff5",
   "metadata": {},
   "outputs": [],
   "source": [
    "model.fit(n_init=3, B_min=12, B_max=20, parallel=True, verbose=False)"
   ]
  },
  {
   "cell_type": "code",
   "execution_count": null,
   "id": "dc2cd3fe",
   "metadata": {},
   "outputs": [],
   "source": [
    "colmap = model.g.vertex_properties[\"color\"] = model.g.new_vertex_property(\"vector<double>\")\n",
    "for v in model.g.vertices():\n",
    "    k = model.g.vertex_properties['kind'][v]\n",
    "    if k < 1:\n",
    "        color = np.array([137,128,193])/255.\n",
    "    elif k < 2:\n",
    "        color = np.array([130,200,93])/255.\n",
    "    elif k < 3:\n",
    "        color = np.array([210,82,58])/255.\n",
    "    else:\n",
    "        color = np.array([114,124,206])/255.\n",
    "    colmap[v] = color"
   ]
  },
  {
   "cell_type": "code",
   "execution_count": null,
   "id": "a3c09b5b",
   "metadata": {},
   "outputs": [],
   "source": [
    "gt.draw_hierarchy(model.state,\n",
    "                 hedge_pen_width=8, \n",
    "                 hvertex_size=25, \n",
    "                 vertex_color=colmap,\n",
    "                 vertex_fill_color=colmap\n",
    "                 )"
   ]
  },
  {
   "cell_type": "code",
   "execution_count": null,
   "id": "ad23b78c",
   "metadata": {},
   "outputs": [],
   "source": [
    "import os\n",
    "import cloudpickle as pickle\n",
    "\n",
    "os.system(\"mkdir -p syntetic_key\")\n",
    "os.chdir(\"syntetic_key\")\n",
    "model.save_data()\n",
    "model.save_graph()\n",
    "os.chdir(\"..\")\n",
    "\n",
    "with open(\"trisbm.pkl\", \"wb\") as file:\n",
    "    pickle.dump(model, file)"
   ]
  },
  {
   "cell_type": "markdown",
   "id": "3be0149b",
   "metadata": {},
   "source": [
    "# Benchmark"
   ]
  },
  {
   "cell_type": "markdown",
   "id": "187d27e9",
   "metadata": {},
   "source": [
    "## Add layers"
   ]
  },
  {
   "cell_type": "code",
   "execution_count": null,
   "id": "80d27a30",
   "metadata": {},
   "outputs": [],
   "source": [
    "df_meta_list = []\n",
    "\n",
    "for i_branch in range(len(Ys)):\n",
    "    df_meta = pd.DataFrame()\n",
    "    for doc in range(D):\n",
    "        doc_dict, doc_ab = np.unique(np.array(Ys[i_branch], dtype=int)[doc], return_counts=True)\n",
    "        df_meta = df_meta.join(pd.Series(index=doc_dict, data=doc_ab, name=\"doc_{}\".format(doc)), how=\"outer\")\n",
    "    df_meta = df_meta.fillna(1).astype(int)\n",
    "    df_meta_list.append(df_meta)"
   ]
  },
  {
   "cell_type": "code",
   "execution_count": null,
   "id": "5b2a1d04",
   "metadata": {},
   "outputs": [],
   "source": [
    "df_meta_list[0].head()"
   ]
  },
  {
   "cell_type": "code",
   "execution_count": null,
   "id": "9a39f12b",
   "metadata": {},
   "outputs": [],
   "source": [
    "results = []\n",
    "for i in range(1,len(df_meta_list)-1):\n",
    "    print(i,len(df_meta_list[:i]))\n",
    "    model = trisbm()\n",
    "    model.make_graph_multiple_df(df, df_meta_list[:i])\n",
    "    model.fit(n_init=3, B_min=10, parallel=True, verbose=False)\n",
    "    results.append((i, model.get_mdl(), model.state.entropy(dl=False), model.g.num_edges()))\n",
    "    model.draw(hedge_pen_width=8, hvertex_size=25)\n",
    "    del model\n",
    "    gc.collect()"
   ]
  },
  {
   "cell_type": "code",
   "execution_count": null,
   "id": "d56a395b",
   "metadata": {},
   "outputs": [],
   "source": [
    "df_N_entropies = pd.DataFrame(data=results, columns=[\"N\",\"sigma\",\"S\",\"E\"])\n",
    "df_N_entropies[\"sigma2\"]=sigma2\n",
    "#df_N_entropies.to_csv(\"N_entropies.csv\", index=False)\n",
    "pd.read_csv(\"N_entropies.csv\").append(df_N_entropies).to_csv(\"N_entropies.csv\", index=False)"
   ]
  },
  {
   "cell_type": "code",
   "execution_count": null,
   "id": "8f95bb53",
   "metadata": {},
   "outputs": [],
   "source": [
    "entropies_N = pd.read_csv(\"N_entropies.csv\")\n",
    "\n",
    "fig = go.Figure()\n",
    "\n",
    "Es = entropies_N.groupby(\"N\").mean()[\"E\"].values\n",
    "\n",
    "for _sigma2 in np.sort(entropies_N[\"sigma2\"].unique()):\n",
    "    subset = entropies_N[entropies_N[\"sigma2\"]==_sigma2]\n",
    "    fig.add_trace(\n",
    "        go.Scatter(x=subset[\"N\"], y=subset[\"sigma\"]/Es, marker={\"size\":25}, line={\"width\":10}, name=_sigma2)\n",
    "    )\n",
    "\n",
    "fig.update_layout({\"xaxis\":{\n",
    "        \"tickfont\":{\n",
    "            \"size\":25\n",
    "        },\n",
    "        \"title\":\"N appended branches\",\n",
    "        \"titlefont_size\":25,\n",
    "    },\n",
    "     \"yaxis\":{\n",
    "        \"title\":\"∑\",\n",
    "        #\"type\":\"log\",\n",
    "        \"titlefont_size\":25,\n",
    "         \"tickfont\":{\n",
    "            \"size\":25\n",
    "        }\n",
    "    }\n",
    "}\n",
    ")\n",
    "fig.show()\n",
    "fig.write_image(\"entropies_NE.pdf\")"
   ]
  },
  {
   "cell_type": "markdown",
   "id": "5b3676b2",
   "metadata": {},
   "source": [
    "### Store entropies"
   ]
  },
  {
   "cell_type": "code",
   "execution_count": null,
   "id": "7e360e20",
   "metadata": {},
   "outputs": [],
   "source": [
    "#pd.DataFrame(columns = [\"sigma2\", \"lda\", \"slda\", \"hsbm\", \"E\", \"trisbm\", \"triE\"]).to_csv(\"sigma_entropies.csv\", index=False)"
   ]
  },
  {
   "cell_type": "code",
   "execution_count": null,
   "id": "84f6918b",
   "metadata": {},
   "outputs": [],
   "source": [
    "file = \"sigma_entropies.csv\"\n",
    "pd.read_csv(file).append(\n",
    "    pd.DataFrame(columns = [\"sigma2\", \"lda\", \"slda\", \"hsbm\", \"E\", \"trisbm\", \"triE\"],\n",
    "                        data= [[\n",
    "                            sigma2,\n",
    "                            np.nan,#-lda.score(df.transpose().values),\n",
    "                            -slda_likelihood,\n",
    "                            np.nan,#hsbm.state.entropy(dl=False),\n",
    "                            np.nan,#hsbm.g.num_edges(),\n",
    "                            model.state.entropy(dl=False),\n",
    "                            model.g.num_edges()\n",
    "                        ]])\n",
    ").to_csv(file, index=False)"
   ]
  },
  {
   "cell_type": "markdown",
   "id": "f86db82c",
   "metadata": {},
   "source": [
    "## Entropy"
   ]
  },
  {
   "cell_type": "code",
   "execution_count": null,
   "id": "5d7ca201",
   "metadata": {},
   "outputs": [],
   "source": [
    "df_seeds = pd.read_csv(\"seed_entropies.csv\")\n",
    "df_seeds[\"lda_e\"] = df_seeds[\"lda\"]/df_seeds[\"E\"]\n",
    "df_seeds[\"slda_e\"] = df_seeds[\"slda\"]/df_seeds[\"triE\"]\n",
    "df_seeds[\"hsbm_e\"] = df_seeds[\"hsbm\"]/df_seeds[\"E\"]\n",
    "df_seeds[\"trisbm_e\"] = df_seeds[\"trisbm\"]/df_seeds[\"triE\"]\n",
    "entropies = df_seeds.mean(0)\n",
    "entropies_errors = df_seeds.apply(lambda s: (s.max()-s.min())/2., axis=0)"
   ]
  },
  {
   "cell_type": "code",
   "execution_count": null,
   "id": "1bef99ef",
   "metadata": {},
   "outputs": [],
   "source": [
    "fig = go.Figure()\n",
    "\n",
    "fig.add_traces([\n",
    "    go.Bar(x=[0], y=[entropies[\"lda_e\"]], name=\"lda\", error_y={\"type\":\"data\", \"array\":[entropies_errors[\"lda_e\"]]}),\n",
    "    go.Bar(x=[1], y=[entropies[\"slda_e\"]], name=\"slda\", error_y={\"type\":\"data\", \"array\":[entropies_errors[\"slda_e\"]]}),\n",
    "    go.Bar(x=[2], y=[entropies[\"hsbm_e\"]], name=\"hsbm\", error_y={\"type\":\"data\", \"array\":[entropies_errors[\"hsbm_e\"]]}),\n",
    "    go.Bar(x=[3], y=[entropies[\"trisbm_e\"]], name=\"trisbm\", error_y={\"type\":\"data\", \"array\":[entropies_errors[\"trisbm_e\"]]})\n",
    "])\n",
    "    \n",
    "fig.update_layout(\n",
    "{\n",
    "    \"xaxis\":{\n",
    "        \"tickfont\":{\n",
    "            \"size\":25\n",
    "        },\n",
    "        \"tickmode\": \"array\",\n",
    "        \"tickvals\": [0,1,2,3],\n",
    "        \"ticktext\": [\"lda\", \"slda\", \"hsbm\", \"trisbm\"],\n",
    "    },\n",
    "     \"yaxis\":{\n",
    "        \"title\":\"-Log-Likelihood (per edge)\",\n",
    "        \"titlefont_size\":25,\n",
    "         \"tickfont\":{\n",
    "            \"size\":25\n",
    "        },\n",
    "        #\"range\":[3,3.35]\n",
    "    }\n",
    "}\n",
    ")\n",
    "fig.show()\n",
    "fig.write_image(\"sigma_topics.pdf\", engine=\"kaleido\")"
   ]
  },
  {
   "cell_type": "markdown",
   "id": "9b408e81",
   "metadata": {},
   "source": [
    "## Entropy vs param"
   ]
  },
  {
   "cell_type": "markdown",
   "id": "dbe7e12f",
   "metadata": {},
   "source": [
    "### K"
   ]
  },
  {
   "cell_type": "code",
   "execution_count": null,
   "id": "2231a636",
   "metadata": {},
   "outputs": [],
   "source": [
    "df_K = pd.read_csv(\"topic_entropies.csv\").sort_values(by=\"K\")\n",
    "df_K[\"lda_e\"] = df_K[\"lda\"]/df_K[\"E\"]\n",
    "df_K[\"slda_e\"] = df_K[\"slda\"]/df_K[\"triE\"]\n",
    "df_K[\"hsbm_e\"] = df_K[\"hsbm\"]/df_K[\"E\"]\n",
    "df_K[\"trisbm_e\"] = df_K[\"trisbm\"]/df_K[\"triE\"]"
   ]
  },
  {
   "cell_type": "code",
   "execution_count": null,
   "id": "5dfdb39a",
   "metadata": {},
   "outputs": [],
   "source": [
    "fig = go.Figure()\n",
    "\n",
    "ls = {\n",
    "    \"width\":5\n",
    "}\n",
    "\n",
    "ms = {\n",
    "    \"size\":12\n",
    "}\n",
    "\n",
    "fig.add_traces(\n",
    "[\n",
    "    go.Scatter(x = df_K[\"K\"], y=df_K[\"lda_e\"], name = \"lda\", line=ls, marker=ms),\n",
    "    go.Scatter(x = df_K[\"K\"], y=df_K[\"slda_e\"], name = \"slda\", line=ls, marker=ms),\n",
    "    go.Scatter(x = df_K[\"K\"], y=df_K[\"hsbm_e\"], name = \"hsbm\", line=ls, marker=ms),\n",
    "    go.Scatter(x = df_K[\"K\"], y=df_K[\"trisbm_e\"], name = \"trisbm\", line=ls, marker=ms)\n",
    "])\n",
    "\n",
    "fig.update_layout(\n",
    "{\n",
    "    \"xaxis\":{\n",
    "        \"title\":\"Number of topics, K\",\n",
    "         \"tickfont\":{\n",
    "            \"size\":25\n",
    "        },\n",
    "        \"titlefont_size\":25\n",
    "    },\n",
    "    \"yaxis\":{\n",
    "        \"title\":\"-Log-Likelihood (per edge)\",\n",
    "         \"titlefont\":{\n",
    "            \"size\":25\n",
    "        },\n",
    "         \"tickfont\":{\n",
    "            \"size\":25\n",
    "        },\n",
    "        #\"range\":[2.5,6]\n",
    "    }\n",
    "})\n",
    "\n",
    "fig.show()\n",
    "\n",
    "fig.write_image(\"K_entropies.pdf\")"
   ]
  },
  {
   "cell_type": "markdown",
   "id": "ba091cdd",
   "metadata": {},
   "source": [
    "### sigma"
   ]
  },
  {
   "cell_type": "code",
   "execution_count": null,
   "id": "efcc47f2",
   "metadata": {},
   "outputs": [],
   "source": [
    "df_K = pd.read_csv(\"sigma_entropies.csv\").sort_values(by=\"sigma2\")"
   ]
  },
  {
   "cell_type": "code",
   "execution_count": null,
   "id": "e1240a0b",
   "metadata": {},
   "outputs": [],
   "source": [
    "fig = go.Figure()\n",
    "\n",
    "\n",
    "ms = {\n",
    "    \"size\":20\n",
    "}\n",
    "\n",
    "#['#636EFA', '#EF553B', '#00CC96', '#AB63FA']\n",
    "\n",
    "fig.add_traces(\n",
    "[\n",
    "    go.Scatter(x = df_K[\"sigma2\"], y=df_K[\"slda\"], name = \"slda\", line={\"color\":\"#EF553B\", \"width\":8}, marker=ms),\n",
    "    go.Scatter(x = df_K[\"sigma2\"], y=df_K[\"trisbm\"], name = \"trisbm\", line={\"color\":\"#AB63FA\", \"width\":8}, marker=ms)\n",
    "])\n",
    "\n",
    "fig.update_layout(\n",
    "{\n",
    "    \"xaxis\":{\n",
    "        \"type\":\"log\",\n",
    "        \"title\":\"sigma^2\",\n",
    "         \"tickfont\":{\n",
    "            \"size\":25\n",
    "        },\n",
    "        \"titlefont_size\":25\n",
    "    },\n",
    "    \"yaxis\":{\n",
    "        \"title\":\"∑/E\",\n",
    "         \"titlefont\":{\n",
    "            \"size\":25\n",
    "        },\n",
    "         \"tickfont\":{\n",
    "            \"size\":25\n",
    "        },\n",
    "    }\n",
    "})\n",
    "\n",
    "fig.show()\n",
    "\n",
    "fig.write_image(\"sigma_entropies.pdf\")"
   ]
  },
  {
   "cell_type": "markdown",
   "id": "ef606afc",
   "metadata": {},
   "source": [
    "## Distributions\n",
    "### Topic dist"
   ]
  },
  {
   "cell_type": "code",
   "execution_count": null,
   "id": "0aa2da58",
   "metadata": {},
   "outputs": [],
   "source": [
    "hsbm_dist = pd.read_csv(\"syntetic/topsbm_level_0_topic-dist.csv\", index_col=1).drop(\"i_doc\",1)"
   ]
  },
  {
   "cell_type": "code",
   "execution_count": null,
   "id": "44e2bc10",
   "metadata": {},
   "outputs": [],
   "source": [
    "trisbm_dist = pd.read_csv(\"syntetic_key/trisbm_level_0_topic-dist.csv\", index_col=1).drop(\"i_doc\",1)"
   ]
  },
  {
   "cell_type": "code",
   "execution_count": null,
   "id": "0e03c1e3",
   "metadata": {},
   "outputs": [],
   "source": [
    "import seaborn as sns"
   ]
  },
  {
   "cell_type": "code",
   "execution_count": null,
   "id": "eb93bb76",
   "metadata": {},
   "outputs": [],
   "source": [
    "def padding(a,b, epsilon = 0):\n",
    "    la = len(a)\n",
    "    lb = len(b)\n",
    "    if la>lb:\n",
    "        return a+epsilon,np.concatenate((b,np.zeros(la-lb)))+epsilon\n",
    "    elif la<lb:\n",
    "        return np.concatenate((a,np.zeors(lb-la)))+epsilon,b+epsilon\n",
    "    return a+epsilon,b+epsilon"
   ]
  },
  {
   "cell_type": "code",
   "execution_count": null,
   "id": "68c8bb20",
   "metadata": {},
   "outputs": [],
   "source": [
    "real_hsbm_kl = [np.sum(kl_div(*padding(theta[idoc], hsbm_dist.values[idoc], 1e-10))) for idoc in range(D)]\n",
    "\n",
    "real_tri_kl = [np.sum(kl_div(*padding(theta[idoc], trisbm_dist.values[idoc], 1e-10))) for idoc in range(D)]\n",
    "\n",
    "real_lda_kl = [np.sum(kl_div(*padding(theta[idoc], topic_dist[idoc], 1e-10))) for idoc in range(D)]\n",
    "\n",
    "real_slda_kl = [np.sum(kl_div(*padding(theta[idoc], slda_topic_dist.values[idoc], 1e-10))) for idoc in range(D)]"
   ]
  },
  {
   "cell_type": "code",
   "execution_count": null,
   "id": "c0665730",
   "metadata": {},
   "outputs": [],
   "source": [
    "fig = go.Figure()\n",
    "\n",
    "def get_scatter(data, name):\n",
    "    hist = np.histogram(data, density=True)\n",
    "\n",
    "    return go.Scatter(x=(hist[1][1:]+hist[1][:-1])/2, \n",
    "                      y=hist[0], \n",
    "                      mode=\"lines\", \n",
    "                      line={\"shape\":\"hvh\", \"width\":8}, \n",
    "                      name=name)\n",
    "    \n",
    "fig.add_traces([\n",
    "    get_scatter(data, name)\n",
    "    \n",
    "    for data, name in zip([real_hsbm_kl, real_tri_kl, real_lda_kl, real_slda_kl],\n",
    "                         [\"hsbm\", \"trisbm\", \"lda\", \"slda\"])\n",
    "])\n",
    "    \n",
    "fig.update_layout(\n",
    "{\n",
    "    \"xaxis\":{\n",
    "        \"title\":\"KL (P(topic|sample),P(planted latent variable|sample))\",\n",
    "        \"titlefont_size\":25\n",
    "    },\n",
    "     \"yaxis\":{\n",
    "        \"title\":\"documents\",\n",
    "        \"titlefont_size\":25\n",
    "    },\n",
    "    \"barmode\":'overlay'\n",
    "}\n",
    ")\n",
    "fig.update_traces(opacity=0.5)\n",
    "fig.show()\n",
    "fig.write_image(\"KL_topics.pdf\", engine=\"kaleido\")"
   ]
  },
  {
   "cell_type": "markdown",
   "id": "242a7de9",
   "metadata": {},
   "source": [
    "### Word-dist"
   ]
  },
  {
   "cell_type": "code",
   "execution_count": null,
   "id": "7558cec9",
   "metadata": {},
   "outputs": [],
   "source": [
    "hsbm_word_dist = pd.read_csv(\"syntetic/topsbm_level_0_word-dist.csv\", index_col=0)"
   ]
  },
  {
   "cell_type": "code",
   "execution_count": null,
   "id": "67f1005f",
   "metadata": {},
   "outputs": [],
   "source": [
    "trisbm_word_dist = pd.read_csv(\"syntetic_key/trisbm_level_0_word-dist.csv\", index_col=0)"
   ]
  },
  {
   "cell_type": "code",
   "execution_count": null,
   "id": "ba5a84a8",
   "metadata": {},
   "outputs": [],
   "source": [
    "lda_word_dist = lda.components_.T\n",
    "lda_word_dist = lda_word_dist/np.sum(lda_word_dist, axis=0)"
   ]
  },
  {
   "cell_type": "code",
   "execution_count": null,
   "id": "30cd4cf5",
   "metadata": {},
   "outputs": [],
   "source": [
    "real_hsbm_kl_words = [[np.sum(kl_div(*padding(phi[ilatent], hsbm_word_dist.values.T[itopic], 1e-10))) for ilatent in range(K)]\n",
    " for itopic in range(hsbm_word_dist.shape[1])]\n",
    "\n",
    "real_tri_kl_words = [[np.sum(kl_div(*padding(phi[ilatent], trisbm_word_dist.values.T[itopic], 1e-10))) for ilatent in range(K)]\n",
    " for itopic in range(trisbm_word_dist.shape[1])]\n",
    "\n",
    "real_lda_kl_words = [[np.sum(kl_div(*padding(phi[ilatent], lda_word_dist.T[itopic], 1e-10))) for ilatent in range(K)]\n",
    " for itopic in range(lda_word_dist.shape[1])]\n",
    "\n",
    "real_slda_kl_words = [[np.sum(kl_div(*padding(phi[ilatent], slda_word_dist.values.T[itopic], 1e-10))) for ilatent in range(K)]\n",
    " for itopic in range(slda_word_dist.shape[1])]"
   ]
  },
  {
   "cell_type": "code",
   "execution_count": null,
   "id": "30dbbe4c",
   "metadata": {},
   "outputs": [],
   "source": [
    "sns.heatmap(np.sort(real_lda_kl_words, axis=1))"
   ]
  },
  {
   "cell_type": "code",
   "execution_count": null,
   "id": "0cf5d43b",
   "metadata": {},
   "outputs": [],
   "source": [
    "sns.heatmap(np.sort(real_tri_kl_words, axis=1))"
   ]
  },
  {
   "cell_type": "code",
   "execution_count": null,
   "id": "ab8447f0",
   "metadata": {},
   "outputs": [],
   "source": [
    "fig = go.Figure()\n",
    "\n",
    "fig.add_traces([\n",
    "    go.Histogram(x=np.ravel(real_hsbm_kl_words), name=\"hsbm\"),\n",
    "    go.Histogram(x=np.ravel(real_tri_kl_words), name=\"trisbm\"),\n",
    "    go.Histogram(x=np.ravel(real_lda_kl_words), name=\"lda\"),\n",
    "    go.Histogram(x=np.ravel(real_slda_kl_words), name=\"slda\")\n",
    "])\n",
    "    \n",
    "fig.update_layout(\n",
    "{\n",
    "    \"xaxis\":{\n",
    "        \"title\":\"KL (P(word|topic),P(word|planted variable))\",\n",
    "        \"titlefont_size\":25\n",
    "    },\n",
    "     \"yaxis\":{\n",
    "        \"title\":\"pait topic-latent variable\",\n",
    "        \"titlefont_size\":25\n",
    "    },\n",
    "    \"barmode\":'overlay'\n",
    "}\n",
    ")\n",
    "fig.update_traces(opacity=0.3)\n",
    "fig.show()\n",
    "fig.write_image(\"KL_words.pdf\", engine=\"kaleido\")"
   ]
  },
  {
   "cell_type": "markdown",
   "id": "152caf82",
   "metadata": {},
   "source": [
    "### Y"
   ]
  },
  {
   "cell_type": "code",
   "execution_count": null,
   "id": "82ed8b11",
   "metadata": {},
   "outputs": [],
   "source": [
    "with open(\"sldasyntetic/inf-labels.dat\") as file:\n",
    "    slda_labels = list(map(lambda row: int(row.split(\"\\n\")[0]),file.readlines()))"
   ]
  },
  {
   "cell_type": "code",
   "execution_count": null,
   "id": "2252554b",
   "metadata": {},
   "outputs": [],
   "source": [
    "trisbm_labels = pd.read_csv(\"syntetic_key/trisbm_level_0_kind_2_metadatum-dist.csv\").drop(\"i_doc\",1).set_index(\"doc\").apply(np.argmax,1)"
   ]
  },
  {
   "cell_type": "code",
   "execution_count": null,
   "id": "9a47f0eb",
   "metadata": {},
   "outputs": [],
   "source": [
    "fig,ax=plt.subplots()\n",
    "\n",
    "\n",
    "plt.scatter(Y, trisbm_labels, color=\"blue\", label=\"trisbm\")\n",
    "plt.scatter(Y, slda_labels, color=\"purple\", label=\"slda\")\n",
    "\n",
    "ax.set_xlabel(\"$Y_d$\", fontsize=25)\n",
    "ax.set_ylabel(\"$Y_d inferred$\", fontsize=25)\n",
    "\n",
    "ax.legend()\n",
    "\n",
    "ax.tick_params(labelsize=20)"
   ]
  },
  {
   "cell_type": "code",
   "execution_count": null,
   "id": "16431bba",
   "metadata": {},
   "outputs": [],
   "source": []
  }
 ],
 "metadata": {
  "kernelspec": {
   "display_name": "Python 3",
   "language": "python",
   "name": "python3"
  },
  "language_info": {
   "codemirror_mode": {
    "name": "ipython",
    "version": 3
   },
   "file_extension": ".py",
   "mimetype": "text/x-python",
   "name": "python",
   "nbconvert_exporter": "python",
   "pygments_lexer": "ipython3",
   "version": "3.8.8"
  },
  "toc-autonumbering": false,
  "toc-showmarkdowntxt": false,
  "toc-showtags": false
 },
 "nbformat": 4,
 "nbformat_minor": 5
}