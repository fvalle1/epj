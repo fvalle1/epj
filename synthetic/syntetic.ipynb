{
 "cells": [
  {
   "cell_type": "code",
   "execution_count": 1,
   "id": "6eb2514e",
   "metadata": {},
   "outputs": [
    {
     "name": "stdout",
     "output_type": "stream",
     "text": [
      "Author: Filippo_Valle\n",
      "\n",
      "Python implementation: CPython\n",
      "Python version       : 3.8.8\n",
      "IPython version      : 7.22.0\n",
      "\n",
      "numpy     : 1.19.0\n",
      "pandas    : 1.2.4\n",
      "graph_tool: 2.37 (commit afba9459, )\n",
      "scipy     : 1.6.2\n",
      "matplotlib: 3.4.1\n",
      "plotly    : 4.14.3\n",
      "\n",
      "Compiler    : GCC 9.3.0\n",
      "OS          : Linux\n",
      "Release     : 5.11.0-16-generic\n",
      "Machine     : x86_64\n",
      "Processor   : x86_64\n",
      "CPU cores   : 12\n",
      "Architecture: 64bit\n",
      "\n",
      "Git hash: 611bfef06b7d374276e3678b2f8a91f5c2bf7a86\n",
      "\n",
      "Git branch: develop\n",
      "\n"
     ]
    }
   ],
   "source": [
    "%load_ext watermark\n",
    "%watermark -a Filippo_Valle -g -b -v -m -p numpy,pandas,graph_tool,scipy,matplotlib,plotly"
   ]
  },
  {
   "cell_type": "code",
   "execution_count": null,
   "id": "52731484",
   "metadata": {},
   "outputs": [],
   "source": [
    "import numpy as np\n",
    "import pandas as pd\n",
    "import graph_tool.all as gt\n",
    "from scipy.stats import ks_2samp\n",
    "import matplotlib.pyplot as plt\n",
    "import plotly.graph_objects as go\n",
    "import gc\n",
    "import logging\n",
    "log = logging.getLogger(\"slda\")\n",
    "log.addHandler(logging.StreamHandler())"
   ]
  },
  {
   "cell_type": "code",
   "execution_count": null,
   "id": "cb5e43aa",
   "metadata": {},
   "outputs": [],
   "source": [
    "%load_ext autoreload\n",
    "%autoreload 2\n",
    "from data_generator import DataGenerator"
   ]
  },
  {
   "cell_type": "code",
   "execution_count": null,
   "id": "34381f45",
   "metadata": {},
   "outputs": [],
   "source": [
    "data_drawer = DataGenerator(\n",
    "                            D = 250, # documents\n",
    "                            W = 1000, # words\n",
    "                            K = 10, #10 topics\n",
    "                            alpha = 1./K,\n",
    "                            beta = 1./K,\n",
    "                            eta = 10/K,\n",
    "                            sigma2 = 0.005, #0.005\n",
    "                            seed = 42,\n",
    "                            Nd = [100 for doc in range(D)],\n",
    ")"
   ]
  },
  {
   "cell_type": "code",
   "execution_count": null,
   "id": "1af94ab6",
   "metadata": {},
   "outputs": [],
   "source": [
    "phi = data_drawer.phi"
   ]
  },
  {
   "cell_type": "code",
   "execution_count": null,
   "id": "c7d638ba",
   "metadata": {},
   "outputs": [],
   "source": [
    "fig, ax = plt.subplots()\n",
    "\n",
    "plt.plot(phi[0])\n",
    "\n",
    "ax.set_xlabel(\"W\", fontsize=25)\n",
    "ax.set_ylabel(\"$\\\\phi_K$\", fontsize=25)\n",
    "\n",
    "ax.tick_params(labelsize=20)\n",
    "\n"
   ]
  },
  {
   "cell_type": "code",
   "execution_count": null,
   "id": "f5865cf0",
   "metadata": {},
   "outputs": [],
   "source": [
    "theta = data_drawer.theta"
   ]
  },
  {
   "cell_type": "code",
   "execution_count": null,
   "id": "b3b4310e",
   "metadata": {},
   "outputs": [],
   "source": [
    "fig, ax = plt.subplots()\n",
    "\n",
    "ax.plot(theta[0])\n",
    "\n",
    "ax.set_xlabel(\"K\", fontsize=25)\n",
    "ax.set_ylabel(\"$\\\\theta_d$\", fontsize=25)\n",
    "\n",
    "ax.tick_params(labelsize=20)\n",
    "\n",
    "plt.show()"
   ]
  },
  {
   "cell_type": "code",
   "execution_count": null,
   "id": "6980fffa",
   "metadata": {},
   "outputs": [],
   "source": [
    "Ys = data_drawer.Ys\n",
    "Ys = data_drawer.Ys_random"
   ]
  },
  {
   "cell_type": "code",
   "execution_count": null,
   "id": "1120f940",
   "metadata": {},
   "outputs": [],
   "source": [
    "df = data_drawer.get_BoW()"
   ]
  },
  {
   "cell_type": "code",
   "execution_count": null,
   "id": "9e115fe1",
   "metadata": {},
   "outputs": [],
   "source": [
    "df_meta = data_drawer.get_BoT()"
   ]
  },
  {
   "cell_type": "code",
   "execution_count": null,
   "id": "d934a879",
   "metadata": {},
   "outputs": [],
   "source": [
    "fig, ax = plt.subplots()\n",
    "\n",
    "freq = df.sum(1).sort_values(ascending=False).values\n",
    "\n",
    "ax.plot(freq/freq.sum())\n",
    "ax.plot([1,len(freq)], [.1, .1/len(freq)])\n",
    "\n",
    "ax.set_xlabel(\"rank\", fontsize=25)\n",
    "ax.set_ylabel(\"$f_i$\", fontsize=25)\n",
    "\n",
    "ax.tick_params(labelsize=20)\n",
    "\n",
    "ax.set_xscale(\"log\")\n",
    "ax.set_yscale(\"log\")"
   ]
  },
  {
   "cell_type": "code",
   "execution_count": null,
   "id": "fc2856d1",
   "metadata": {},
   "outputs": [],
   "source": [
    "fig,ax=plt.subplots()\n",
    "\n",
    "plt.scatter(Y, np.argmax(theta, axis=1))\n",
    "\n",
    "ax.set_xlabel(\"$Y_d$\", fontsize=25)\n",
    "ax.set_ylabel(\"$argmax(\\\\theta_d)$\", fontsize=25)\n",
    "\n",
    "ax.tick_params(labelsize=20)"
   ]
  },
  {
   "cell_type": "markdown",
   "id": "cd09e42d",
   "metadata": {},
   "source": [
    "# Models\n",
    "## LDA"
   ]
  },
  {
   "cell_type": "code",
   "execution_count": null,
   "id": "81107592",
   "metadata": {},
   "outputs": [],
   "source": [
    "from sklearn.decomposition import LatentDirichletAllocation\n",
    "from scipy.special import kl_div"
   ]
  },
  {
   "cell_type": "code",
   "execution_count": null,
   "id": "87a72c1c",
   "metadata": {},
   "outputs": [],
   "source": [
    "lda = LatentDirichletAllocation(n_components=K)"
   ]
  },
  {
   "cell_type": "code",
   "execution_count": null,
   "id": "d7aab24c",
   "metadata": {},
   "outputs": [],
   "source": [
    "topic_dist = lda.fit_transform(df.transpose().values)"
   ]
  },
  {
   "cell_type": "code",
   "execution_count": null,
   "id": "133cdc22",
   "metadata": {},
   "outputs": [],
   "source": [
    "fig, ax = plt.subplots()\n",
    "\n",
    "ax.hist([np.sum(kl_div(topic_dist[i], theta[i])) for i in range(D)], density=True)\n",
    "\n",
    "\n",
    "ax.set_xlabel(\"KL_divergence\", fontsize=25)\n",
    "ax.set_ylabel(\"pdf\", fontsize=25)\n",
    "\n",
    "ax.tick_params(labelsize=20)\n",
    "plt.show()"
   ]
  },
  {
   "cell_type": "markdown",
   "id": "f16886d0",
   "metadata": {},
   "source": [
    "## sLDA"
   ]
  },
  {
   "cell_type": "code",
   "execution_count": null,
   "id": "23f0bdcf",
   "metadata": {},
   "outputs": [],
   "source": [
    "with open(\"train-data.txt\", \"w\") as file:\n",
    "    for doc in df.columns:\n",
    "        total = (df[doc]>0).sum()\n",
    "        file.write(str(total))\n",
    "        for iw,(w,c) in enumerate(df[doc].items()):\n",
    "            if c>0:\n",
    "                file.write(f\" {iw}:{c}\")\n",
    "        file.write(\"\\n\")"
   ]
  },
  {
   "cell_type": "code",
   "execution_count": null,
   "id": "bd2c3636",
   "metadata": {},
   "outputs": [],
   "source": [
    "with open(\"train-labels.txt\", \"w\") as file:\n",
    "    for y in Y:\n",
    "        file.write(str(int(round(y,0)))+\"\\n\")"
   ]
  },
  {
   "cell_type": "markdown",
   "id": "156d9921",
   "metadata": {},
   "source": [
    "## Run\n",
    "```bash\n",
    "slda est train-data.txt train-labels.txt settings.txt 0.01 10 random sldasyntetic\n",
    "```\n",
    "\n",
    "infer \n",
    "\n",
    "```bash\n",
    "slda inf train-data.txt train-labels.txt settings.txt sldasyntetic/010.model sldasyntetic\n",
    "```"
   ]
  },
  {
   "cell_type": "markdown",
   "id": "0c461428",
   "metadata": {},
   "source": [
    "### Postprocess"
   ]
  },
  {
   "cell_type": "code",
   "execution_count": null,
   "id": "4e78212c",
   "metadata": {},
   "outputs": [],
   "source": [
    "import multiprocessing as mp"
   ]
  },
  {
   "cell_type": "code",
   "execution_count": null,
   "id": "a2cc9c47",
   "metadata": {},
   "outputs": [],
   "source": [
    "slda_topic_dist = pd.read_csv(\"sldasyntetic/final.gamma\", sep=\" \", header=None)\n",
    "slda_topic_dist.columns = [\"Topic %d\"%(t+1) for t in range(slda_topic_dist.shape[1])]\n",
    "slda_topic_dist = slda_topic_dist.divide(slda_topic_dist.sum(1),0)\n",
    "print(slda_topic_dist.shape)\n",
    "slda_topic_dist.head(2)"
   ]
  },
  {
   "cell_type": "code",
   "execution_count": null,
   "id": "59bb737c",
   "metadata": {},
   "outputs": [],
   "source": [
    "slda_word_dist = pd.DataFrame(index=df.index, columns = [\"Topic %d\"%(t+1) for t in range(10)]).fillna(0)\n",
    "print(slda_word_dist.shape)\n",
    "slda_word_dist.head(2)"
   ]
  },
  {
   "cell_type": "code",
   "execution_count": null,
   "id": "f52d2ebf",
   "metadata": {},
   "outputs": [],
   "source": [
    "def assign_word(line, sample):\n",
    "    new_sample = pd.Series(name=sample, index=slda_word_dist.index, dtype=object)\n",
    "    for token in line:\n",
    "        idx, cnt = token.split(\":\")\n",
    "        new_sample.at[new_sample.index[int(idx)]]=int(cnt)\n",
    "    return new_sample\n",
    "    \n",
    "def assign_doc(sample):\n",
    "    global df_word_dist_temp\n",
    "    df_word_dist_temp = df_word_dist_temp.join(sample, how=\"outer\")"
   ]
  },
  {
   "cell_type": "code",
   "execution_count": null,
   "id": "fce7b339",
   "metadata": {},
   "outputs": [],
   "source": [
    "pool = mp.Pool(6)\n",
    "df_word_dist_temp = pd.DataFrame()\n",
    "with open(\"sldasyntetic/word-assignments.dat\") as file:\n",
    "    lines = file.read().split(\"\\n\")      \n",
    "    w = [pool.apply_async(assign_word, args=([line.split(\" \")[1:], sample]), callback = assign_doc, error_callback=lambda err:log.error(err)) for line, sample in zip(lines, slda_word_dist.columns)]\n",
    "    \n",
    "    pool.close()\n",
    "\n",
    "pool.join()\n",
    "df_word_dist_temp=df_word_dist_temp.reindex(index=slda_word_dist.index, columns=slda_word_dist.columns)"
   ]
  },
  {
   "cell_type": "code",
   "execution_count": null,
   "id": "87f2a06e",
   "metadata": {},
   "outputs": [],
   "source": [
    "for g, data in df_word_dist_temp.apply(lambda x: np.unique(x[~x.isna()],return_counts=True), 1).items():\n",
    "    for t, c in zip(*data):\n",
    "        slda_word_dist.at[g,slda_word_dist.columns[t]]=c"
   ]
  },
  {
   "cell_type": "code",
   "execution_count": null,
   "id": "f15476e2",
   "metadata": {},
   "outputs": [],
   "source": [
    "slda_word_dist = slda_word_dist.divide(slda_word_dist.sum(0),1).fillna(0)\n",
    "slda_word_dist.head(2)"
   ]
  },
  {
   "cell_type": "code",
   "execution_count": null,
   "id": "8f901175",
   "metadata": {},
   "outputs": [],
   "source": [
    "with open(\"sldasyntetic/likelihood.dat\") as file:\n",
    "    slda_likelihood = float(file.readlines()[-1].split(\"\\t\")[0])"
   ]
  },
  {
   "cell_type": "markdown",
   "id": "9aa75596",
   "metadata": {},
   "source": [
    "## hSBM"
   ]
  },
  {
   "cell_type": "code",
   "execution_count": null,
   "id": "c393be24",
   "metadata": {},
   "outputs": [],
   "source": [
    "%load_ext autoreload\n",
    "%autoreload 2\n",
    "import sys\n",
    "sys.path.append(\"/home/jovyan/work/phd/hSBM_Topicmodel/\")\n",
    "from sbmtm import sbmtm\n",
    "import graph_tool.all as gt"
   ]
  },
  {
   "cell_type": "code",
   "execution_count": null,
   "id": "45e0e47e",
   "metadata": {},
   "outputs": [],
   "source": [
    "hsbm = sbmtm()"
   ]
  },
  {
   "cell_type": "code",
   "execution_count": null,
   "id": "0decd8e9",
   "metadata": {},
   "outputs": [],
   "source": [
    "hsbm.make_graph_from_BoW_df(df)"
   ]
  },
  {
   "cell_type": "code",
   "execution_count": null,
   "id": "7ba08c0a",
   "metadata": {},
   "outputs": [],
   "source": [
    "hsbm.g"
   ]
  },
  {
   "cell_type": "code",
   "execution_count": null,
   "id": "613c0034",
   "metadata": {},
   "outputs": [],
   "source": [
    "hsbm.fit(n_init=3, B_min=8, B_max=15, parallel=True, verbose=False)"
   ]
  },
  {
   "cell_type": "code",
   "execution_count": null,
   "id": "d7f8e144",
   "metadata": {},
   "outputs": [],
   "source": [
    "gt.draw_hierarchy(hsbm.state,\n",
    "                 layout=\"bipartite\",\n",
    "                 hedge_pen_width=8, \n",
    "                 hvertex_size=25, \n",
    "                 vertex_kind=hsbm.g.vertex_properties[\"kind\"])"
   ]
  },
  {
   "cell_type": "code",
   "execution_count": null,
   "id": "5a4fd878",
   "metadata": {},
   "outputs": [],
   "source": [
    "import os\n",
    "import cloudpickle as pickle\n",
    "\n",
    "os.system(\"mkdir -p syntetic\")\n",
    "os.chdir(\"syntetic\")\n",
    "hsbm.save_data()\n",
    "hsbm.save_graph()\n",
    "os.chdir(\"..\")\n",
    "\n",
    "with open(\"sbmtm.pkl\", \"wb\") as file:\n",
    "    pickle.dump(hsbm, file)"
   ]
  },
  {
   "cell_type": "markdown",
   "id": "5e17078a",
   "metadata": {},
   "source": [
    "## triSBM"
   ]
  },
  {
   "cell_type": "code",
   "execution_count": null,
   "id": "56a51b3e",
   "metadata": {},
   "outputs": [],
   "source": [
    "%load_ext autoreload\n",
    "%autoreload 2\n",
    "import sys\n",
    "sys.path.append(\"/home/jovyan/work/phd/trisbm/\")\n",
    "from trisbm import trisbm"
   ]
  },
  {
   "cell_type": "code",
   "execution_count": null,
   "id": "54da13b9",
   "metadata": {},
   "outputs": [],
   "source": [
    "model = trisbm()"
   ]
  },
  {
   "cell_type": "code",
   "execution_count": null,
   "id": "e7f8ef56",
   "metadata": {},
   "outputs": [],
   "source": [
    "df_meta.index = [\"#{}\".format(w) for w in df_meta.index]"
   ]
  },
  {
   "cell_type": "code",
   "execution_count": null,
   "id": "9e04d964",
   "metadata": {},
   "outputs": [],
   "source": [
    "model.make_graph(df.append(df_meta), lambda w: 2 if \"#\" in str(w) else 1)"
   ]
  },
  {
   "cell_type": "code",
   "execution_count": null,
   "id": "39eba97f",
   "metadata": {},
   "outputs": [],
   "source": [
    "model.fit(n_init=3, B_min=12, B_max=20, parallel=True, verbose=False)"
   ]
  },
  {
   "cell_type": "code",
   "execution_count": null,
   "id": "1a01e1f1",
   "metadata": {},
   "outputs": [],
   "source": [
    "colmap = model.g.vertex_properties[\"color\"] = model.g.new_vertex_property(\"vector<double>\")\n",
    "for v in model.g.vertices():\n",
    "    k = model.g.vertex_properties['kind'][v]\n",
    "    if k < 1:\n",
    "        color = np.array([137,128,193])/255.\n",
    "    elif k < 2:\n",
    "        color = np.array([130,200,93])/255.\n",
    "    elif k < 3:\n",
    "        color = np.array([210,82,58])/255.\n",
    "    else:\n",
    "        color = np.array([114,124,206])/255.\n",
    "    colmap[v] = color"
   ]
  },
  {
   "cell_type": "code",
   "execution_count": null,
   "id": "d541ad99",
   "metadata": {},
   "outputs": [],
   "source": [
    "gt.draw_hierarchy(model.state,\n",
    "                 hedge_pen_width=8, \n",
    "                 hvertex_size=25, \n",
    "                 vertex_color=colmap,\n",
    "                 vertex_fill_color=colmap\n",
    "                 )"
   ]
  },
  {
   "cell_type": "code",
   "execution_count": null,
   "id": "59051a3b",
   "metadata": {},
   "outputs": [],
   "source": [
    "import os\n",
    "import cloudpickle as pickle\n",
    "\n",
    "os.system(\"mkdir -p syntetic_key\")\n",
    "os.chdir(\"syntetic_key\")\n",
    "model.save_data()\n",
    "model.save_graph()\n",
    "os.chdir(\"..\")\n",
    "\n",
    "with open(\"trisbm.pkl\", \"wb\") as file:\n",
    "    pickle.dump(model, file)"
   ]
  },
  {
   "cell_type": "markdown",
   "id": "d779f4e9",
   "metadata": {},
   "source": [
    "# Scalings"
   ]
  },
  {
   "cell_type": "code",
   "execution_count": null,
   "id": "3ba0ee11",
   "metadata": {},
   "outputs": [],
   "source": [
    "from plotly.subplots import make_subplots\n",
    "import plotly.graph_objects as go\n",
    "from scipy.optimize import curve_fit"
   ]
  },
  {
   "cell_type": "code",
   "execution_count": null,
   "id": "49791538",
   "metadata": {},
   "outputs": [],
   "source": [
    "df_meta_list = []\n",
    "\n",
    "for i_branch in range(len(Ys)):\n",
    "    df_meta = pd.DataFrame()\n",
    "    for doc in range(D):\n",
    "        doc_dict, doc_ab = np.unique(np.array(Ys[i_branch], dtype=int)[doc], return_counts=True)\n",
    "        df_meta = df_meta.join(pd.Series(index=doc_dict, data=doc_ab, name=\"doc_{}\".format(doc)), how=\"outer\")\n",
    "    df_meta = df_meta.fillna(1).astype(int)\n",
    "    df_meta_list.append(df_meta)"
   ]
  },
  {
   "cell_type": "code",
   "execution_count": null,
   "id": "72643bd6",
   "metadata": {},
   "outputs": [],
   "source": [
    "results = []\n",
    "for i in range(1,len(df_meta_list)-1):\n",
    "    model = trisbm()\n",
    "    model.make_graph_multiple_df(df, df_meta_list[:i])\n",
    "    g = model.g\n",
    "    vp = model.g.new_vertex_property(\"int\")\n",
    "    for v in model.g.vertices():\n",
    "        vp[v]=v\n",
    "        \n",
    "    results.append((i, sigma2, g.num_edges(), g.num_vertices(), gt.BlockState(model.g, b=model.g.vp[\"kind\"]).entropy(), gt.BlockState(model.g, b=vp).entropy()))\n",
    "    del model\n",
    "    gc.collect()"
   ]
  },
  {
   "cell_type": "code",
   "execution_count": null,
   "id": "70faea60",
   "metadata": {},
   "outputs": [],
   "source": [
    "#df_scalings = pd.DataFrame(columns=[\"layer\", \"sigma2\", \"E\", \"V\", \"sigma1\", \"sigmaN\"], data = results)\n",
    "df_scalings = pd.read_csv(\"scalings.csv\").append(pd.DataFrame(columns=[\"layer\", \"sigma2\", \"E\", \"V\", \"sigma1\", \"sigmaN\"], data = results))\n",
    "df_scalings.to_csv(\"scalings.csv\", index=None)"
   ]
  },
  {
   "cell_type": "code",
   "execution_count": null,
   "id": "5f43e165",
   "metadata": {},
   "outputs": [],
   "source": [
    "plots = [[(\"layer\",\"E\",None),(\"layer\",\"V\",None)],\n",
    "         [(\"layer\",\"sigma1\",None),(\"layer\",\"sigmaN\",None)], \n",
    "         [(\"layer\",\"sigma1\",\"E\"),(\"layer\",\"sigmaN\",\"E\")]]\n",
    "\n",
    "nrows, ncols = np.shape(plots)[:2]\n",
    "fig = make_subplots(rows=nrows, cols=ncols, shared_xaxes = False)\n",
    "\n",
    "assert(len(plots) <= nrows * ncols)\n",
    "\n",
    "for sigma2 in [0.005,np.inf]:\n",
    "    subset = df_scalings[df_scalings[\"sigma2\"]==sigma2]\n",
    "    for i, (x, y, z) in enumerate(np.reshape(plots,(-1,3))):\n",
    "\n",
    "        row = int((i / ncols) + 1 )\n",
    "        col = int((i % ncols) + 1 )\n",
    "\n",
    "        y_data = subset[y]\n",
    "        y_label = y\n",
    "\n",
    "        if z is not None:\n",
    "            y_data = subset[y] / subset[z]\n",
    "            y_label = y + \"/\" + z\n",
    "\n",
    "        c = \"blue\"\n",
    "        if sigma2==np.inf:\n",
    "            c = \"red\"\n",
    "            \n",
    "        fig.add_trace(\n",
    "            go.Scatter(x = subset[x], y = y_data, marker_color=c, mode=\"markers+lines\", name=\"data {}\".format(sigma2)),\n",
    "            row=row, col=col\n",
    "        )\n",
    "\n",
    "        fig.update_yaxes(title=y_label, row=row, col=col)\n",
    "    \n",
    "for icol in range(ncols):\n",
    "    fig.update_xaxes(title=\"layer\", row=3, col=icol+1)\n",
    "\n",
    "fig.update_layout(title=\"Scalings\", showlegend=True)\n",
    "\n",
    "fig.show()\n",
    "fig.write_image(\"scalings_l.pdf\", engine=\"kaleido\")"
   ]
  },
  {
   "cell_type": "code",
   "execution_count": null,
   "id": "603147d5",
   "metadata": {},
   "outputs": [],
   "source": [
    "plots = [[(\"E\", \"sigma1\"),(\"E\", \"sigmaN\")],\n",
    "        [(\"V\", \"sigma1\"),(\"V\", \"sigmaN\")]]\n",
    "\n",
    "nrows, ncols = np.shape(plots)[:2]\n",
    "fig = make_subplots(rows=nrows, cols=ncols, shared_xaxes = False)\n",
    "\n",
    "for sigma2 in [0.005,np.inf]:\n",
    "    subset = df_scalings[df_scalings[\"sigma2\"]==sigma2]\n",
    "    for i, (x_label, y_label) in enumerate(np.reshape(plots,(-1,2))): \n",
    "\n",
    "        row = int((i / ncols) + 1 )\n",
    "        col = int((i % ncols) + 1 )\n",
    "\n",
    "        x = subset[x_label]\n",
    "        y = subset[y_label]\n",
    "\n",
    "        fit_func = lambda x, a, b: a+np.power(x,b)\n",
    "\n",
    "        popt, pcov = curve_fit(fit_func, x, y)\n",
    "\n",
    "        c = \"blue\"\n",
    "        if sigma2==np.inf:\n",
    "            c = \"red\"\n",
    "        fig.add_trace(go.Scatter(x = x, y = y, name=\"data {}\".format(sigma2), mode=\"markers\", marker_color=c), row=row, col=col)\n",
    "        fig.add_trace(go.Scatter(x = x, y = fit_func(x,*popt), name=\"y={}+x^{}\".format(*np.round(popt,2)), mode=\"lines\", marker_color=\"dark\"+c), row=row, col=col)\n",
    "\n",
    "        fig.update_xaxes(title=x_label, row=row, col=col)\n",
    "        fig.update_yaxes(title=y_label, row=row, col=col)\n",
    "\n",
    "fig.update_layout(\n",
    "    #xaxis1_type=\"log\",\n",
    "    #yaxis1_type=\"log\",\n",
    "    \n",
    "    #xaxis2_type=\"log\",\n",
    "    #yaxis2_type=\"log\",\n",
    ")\n",
    "\n",
    "fig.show()\n",
    "fig.write_image(\"scalings_scatter.pdf\", engine=\"kaleido\")"
   ]
  },
  {
   "cell_type": "code",
   "execution_count": null,
   "id": "a22814a3",
   "metadata": {},
   "outputs": [],
   "source": []
  },
  {
   "cell_type": "code",
   "execution_count": null,
   "id": "4477108f",
   "metadata": {},
   "outputs": [],
   "source": []
  },
  {
   "cell_type": "markdown",
   "id": "5846366a",
   "metadata": {},
   "source": [
    "# Benchmark"
   ]
  },
  {
   "cell_type": "markdown",
   "id": "308994b1",
   "metadata": {},
   "source": [
    "## Add layers"
   ]
  },
  {
   "cell_type": "code",
   "execution_count": null,
   "id": "f470091f",
   "metadata": {},
   "outputs": [],
   "source": [
    "df_meta_list = []\n",
    "\n",
    "for i_branch in range(len(Ys)):\n",
    "    df_meta = pd.DataFrame()\n",
    "    for doc in range(D):\n",
    "        doc_dict, doc_ab = np.unique(np.array(Ys[i_branch], dtype=int)[doc], return_counts=True)\n",
    "        df_meta = df_meta.join(pd.Series(index=doc_dict, data=doc_ab, name=\"doc_{}\".format(doc)), how=\"outer\")\n",
    "    df_meta = df_meta.fillna(1).astype(int)\n",
    "    df_meta_list.append(df_meta)"
   ]
  },
  {
   "cell_type": "code",
   "execution_count": null,
   "id": "95d81f0f",
   "metadata": {},
   "outputs": [],
   "source": [
    "df_meta_list[0].head()"
   ]
  },
  {
   "cell_type": "code",
   "execution_count": null,
   "id": "1be5d474",
   "metadata": {},
   "outputs": [],
   "source": [
    "results = []\n",
    "for i in range(1,len(df_meta_list)-1):\n",
    "    #print(i,len(df_meta_list[:i]))\n",
    "    model = trisbm()\n",
    "    model.make_graph_multiple_df(df, df_meta_list[:i])\n",
    "    vp=model.g.new_vertex_property(\"int\")\n",
    "    for v in model.g.vertices():\n",
    "        vp[v]=v\n",
    "        \n",
    "    model.fit(n_init=3, B_min=10, parallel=True, verbose=False)\n",
    "    results.append((i, model.get_mdl(), model.state.entropy(dl=False), model.g.num_edges(),gt.BlockState(model.g, b=model.g.vp[\"kind\"]).entropy(), gt.BlockState(model.g, b=vp).entropy()))\n",
    "    #model.draw(hedge_pen_width=8, hvertex_size=25)\n",
    "    del model\n",
    "    gc.collect()"
   ]
  },
  {
   "cell_type": "code",
   "execution_count": null,
   "id": "5cd85840",
   "metadata": {},
   "outputs": [],
   "source": [
    "df_N_entropies = pd.DataFrame(data=results, columns=[\"N\",\"sigma\",\"S\",\"E\",\"sigma1\",\"sigmaN\"])\n",
    "df_N_entropies[\"sigma2\"]=sigma2\n",
    "#df_N_entropies.to_csv(\"N_entropies.csv\", index=False)\n",
    "pd.read_csv(\"N_entropies.csv\").append(df_N_entropies).to_csv(\"N_entropies.csv\", index=False)"
   ]
  },
  {
   "cell_type": "code",
   "execution_count": null,
   "id": "caffa459",
   "metadata": {},
   "outputs": [],
   "source": [
    "entropies_N = pd.read_csv(\"N_entropies.csv\")\n",
    "\n",
    "fig = go.Figure()\n",
    "\n",
    "Es = entropies_N.groupby(\"N\").mean()[\"E\"].values\n",
    "infs = entropies_N[entropies_N[\"sigma2\"]==np.inf][\"sigma\"].values\n",
    "\n",
    "for _sigma2 in np.sort(entropies_N[\"sigma2\"].unique()):\n",
    "    subset = entropies_N[entropies_N[\"sigma2\"]==_sigma2]\n",
    "    fig.add_trace(\n",
    "        go.Scatter(x=subset[\"N\"], y=subset[\"sigma\"]/Es, marker={\"size\":25}, line={\"width\":10}, name=_sigma2)\n",
    "    )\n",
    "\n",
    "fig.update_layout({\"xaxis\":{\n",
    "        \"tickfont\":{\n",
    "            \"size\":25\n",
    "        },\n",
    "        \"title\":\"N appended branches\",\n",
    "        \"titlefont_size\":25,\n",
    "    },\n",
    "     \"yaxis\":{\n",
    "        \"title\":\"∑/E\",\n",
    "        \"type\":\"log\",\n",
    "        \"titlefont_size\":25,\n",
    "         \"tickfont\":{\n",
    "            \"size\":25\n",
    "        }\n",
    "    }\n",
    "}\n",
    ")\n",
    "fig.show()\n",
    "fig.write_image(\"entropies_NE.pdf\")"
   ]
  },
  {
   "cell_type": "markdown",
   "id": "43d5ada2",
   "metadata": {},
   "source": [
    "### Store entropies"
   ]
  },
  {
   "cell_type": "code",
   "execution_count": null,
   "id": "13c28606",
   "metadata": {},
   "outputs": [],
   "source": [
    "#pd.DataFrame(columns = [\"sigma2\", \"lda\", \"slda\", \"hsbm\", \"E\", \"trisbm\", \"triE\"]).to_csv(\"sigma_entropies.csv\", index=False)"
   ]
  },
  {
   "cell_type": "code",
   "execution_count": null,
   "id": "08e00141",
   "metadata": {},
   "outputs": [],
   "source": [
    "file = \"sigma_entropies.csv\"\n",
    "pd.read_csv(file).append(\n",
    "    pd.DataFrame(columns = [\"sigma2\", \"lda\", \"slda\", \"hsbm\", \"E\", \"trisbm\", \"triE\"],\n",
    "                        data= [[\n",
    "                            sigma2,\n",
    "                            -lda.score(df.transpose().values),\n",
    "                            -slda_likelihood,\n",
    "                            hsbm.state.entropy(),\n",
    "                            hsbm.g.num_edges(),\n",
    "                            model.state.entropy,\n",
    "                            model.g.num_edges()\n",
    "                        ]])\n",
    ").to_csv(file, index=False)"
   ]
  },
  {
   "cell_type": "markdown",
   "id": "c13476c4",
   "metadata": {},
   "source": [
    "## Entropy"
   ]
  },
  {
   "cell_type": "code",
   "execution_count": null,
   "id": "98aedb92",
   "metadata": {},
   "outputs": [],
   "source": [
    "df_seeds = pd.read_csv(\"seed_entropies.csv\")\n",
    "df_seeds[\"lda_e\"] = df_seeds[\"lda\"]/df_seeds[\"E\"]\n",
    "df_seeds[\"slda_e\"] = df_seeds[\"slda\"]/df_seeds[\"triE\"]\n",
    "df_seeds[\"hsbm_e\"] = df_seeds[\"hsbm\"]/df_seeds[\"E\"]\n",
    "df_seeds[\"trisbm_e\"] = df_seeds[\"trisbm\"]/df_seeds[\"triE\"]\n",
    "entropies = df_seeds.mean(0)\n",
    "entropies_errors = df_seeds.apply(lambda s: (s.max()-s.min())/2., axis=0)"
   ]
  },
  {
   "cell_type": "code",
   "execution_count": null,
   "id": "438ff3bf",
   "metadata": {},
   "outputs": [],
   "source": [
    "for alg in [\"lda_e\", \"slda_e\", \"hsbm_e\", \"trisbm_e\"]:\n",
    "    print(alg.split(\"_\")[0],\" & \",round(entropies[alg],2),\"+-\",round(entropies_errors[alg],2))"
   ]
  },
  {
   "cell_type": "code",
   "execution_count": null,
   "id": "601ddbc7",
   "metadata": {},
   "outputs": [],
   "source": [
    "fig = go.Figure()\n",
    "\n",
    "fig.add_traces([\n",
    "    go.Bar(x=[0], y=[entropies[\"lda_e\"]], name=\"lda\", error_y={\"type\":\"data\", \"array\":[entropies_errors[\"lda_e\"]]}),\n",
    "    go.Bar(x=[1], y=[entropies[\"slda_e\"]], name=\"slda\", error_y={\"type\":\"data\", \"array\":[entropies_errors[\"slda_e\"]]}),\n",
    "    go.Bar(x=[2], y=[entropies[\"hsbm_e\"]], name=\"hsbm\", error_y={\"type\":\"data\", \"array\":[entropies_errors[\"hsbm_e\"]]}),\n",
    "    go.Bar(x=[3], y=[entropies[\"trisbm_e\"]], name=\"trisbm\", error_y={\"type\":\"data\", \"array\":[entropies_errors[\"trisbm_e\"]]})\n",
    "])\n",
    "    \n",
    "fig.update_layout(\n",
    "{\n",
    "    \"xaxis\":{\n",
    "        \"tickfont\":{\n",
    "            \"size\":25\n",
    "        },\n",
    "        \"tickmode\": \"array\",\n",
    "        \"tickvals\": [0,1,2,3],\n",
    "        \"ticktext\": [\"lda\", \"slda\", \"hsbm\", \"trisbm\"],\n",
    "    },\n",
    "     \"yaxis\":{\n",
    "        \"title\":\"-Log-Likelihood (per edge)\",\n",
    "        \"titlefont_size\":25,\n",
    "         \"tickfont\":{\n",
    "            \"size\":25\n",
    "        },\n",
    "        #\"range\":[3,3.35]\n",
    "    }\n",
    "}\n",
    ")\n",
    "fig.show()\n",
    "fig.write_image(\"sigma_topics.pdf\", engine=\"kaleido\")"
   ]
  },
  {
   "cell_type": "markdown",
   "id": "24ad64a2",
   "metadata": {},
   "source": [
    "## Entropy vs param"
   ]
  },
  {
   "cell_type": "markdown",
   "id": "3dcc6434",
   "metadata": {},
   "source": [
    "### K"
   ]
  },
  {
   "cell_type": "code",
   "execution_count": null,
   "id": "b27ccd10",
   "metadata": {},
   "outputs": [],
   "source": [
    "df_K = pd.read_csv(\"topic_entropies.csv\").sort_values(by=\"K\")\n",
    "df_K[\"lda_e\"] = df_K[\"lda\"]/df_K[\"E\"]\n",
    "df_K[\"slda_e\"] = df_K[\"slda\"]/df_K[\"triE\"]\n",
    "df_K[\"hsbm_e\"] = df_K[\"hsbm\"]/df_K[\"E\"]\n",
    "df_K[\"trisbm_e\"] = df_K[\"trisbm\"]/df_K[\"triE\"]"
   ]
  },
  {
   "cell_type": "code",
   "execution_count": null,
   "id": "44d1a751",
   "metadata": {},
   "outputs": [],
   "source": [
    "fig = go.Figure()\n",
    "\n",
    "lw=4\n",
    "\n",
    "ms = {\n",
    "    \"size\":10\n",
    "}\n",
    "\n",
    "fig.add_traces(\n",
    "[\n",
    "    #go.Scatter(x = df_K[\"K\"], y=df_K[\"lda_e\"], name = \"lda\", line=ls, marker=ms),\n",
    "    #go.Scatter(x = df_K[\"K\"], y=df_K[\"slda_e\"], name = \"slda\", line=ls, marker=ms),\n",
    "    go.Scatter(x = df_K[\"K\"], y=df_K[\"hsbm_e\"], line={\"color\":\"#00CC96\", \"width\":lw}, error_y={\"type\":\"percent\", \"value\":0.01/3.29*100, \"visible\":True}, name = \"hsbm\", marker=ms),\n",
    "    go.Scatter(x = df_K[\"K\"], y=df_K[\"trisbm_e\"],line={\"color\":\"#AB63FA\", \"width\":lw}, error_y={\"type\":\"percent\", \"value\":0.01/3.21*100, \"visible\":True}, name = \"trisbm\", marker=ms)\n",
    "])\n",
    "\n",
    "fig.update_layout(\n",
    "{\n",
    "    \"xaxis\":{\n",
    "        \"title\":\"Number of topics, K\",\n",
    "         \"tickfont\":{\n",
    "            \"size\":25\n",
    "        },\n",
    "        \"titlefont_size\":25\n",
    "    },\n",
    "    \"yaxis\":{\n",
    "        #\"type\":\"log\",\n",
    "        \"title\":\"∑/E\",\n",
    "         \"titlefont\":{\n",
    "            \"size\":25\n",
    "        },\n",
    "         \"tickfont\":{\n",
    "            \"size\":25\n",
    "        },\n",
    "        #\"range\":[2.5,6]\n",
    "    }\n",
    "})\n",
    "\n",
    "fig.show()\n",
    "\n",
    "fig.write_image(\"K_entropies.pdf\")"
   ]
  },
  {
   "cell_type": "markdown",
   "id": "0876a9bf",
   "metadata": {},
   "source": [
    "### sigma"
   ]
  },
  {
   "cell_type": "code",
   "execution_count": null,
   "id": "1a79dc39",
   "metadata": {},
   "outputs": [],
   "source": [
    "df_K = pd.read_csv(\"sigma_entropies.csv\").sort_values(by=\"sigma2\")"
   ]
  },
  {
   "cell_type": "code",
   "execution_count": null,
   "id": "b6805c31",
   "metadata": {},
   "outputs": [],
   "source": [
    "fig = go.Figure()\n",
    "\n",
    "\n",
    "ms = {\n",
    "    \"size\":20\n",
    "}\n",
    "\n",
    "#['#636EFA', '#EF553B', '#00CC96', '#AB63FA']\n",
    "\n",
    "fig.add_traces(\n",
    "[\n",
    "    go.Scatter(x = df_K[\"sigma2\"], y=df_K[\"slda\"], name = \"slda\", line={\"color\":\"#EF553B\", \"width\":8}, marker=ms),\n",
    "    go.Scatter(x = df_K[\"sigma2\"], y=df_K[\"trisbm\"], name = \"trisbm\", line={\"color\":\"#AB63FA\", \"width\":8}, marker=ms)\n",
    "])\n",
    "\n",
    "fig.update_layout(\n",
    "{\n",
    "    \"xaxis\":{\n",
    "        \"type\":\"log\",\n",
    "        \"title\":\"sigma^2\",\n",
    "         \"tickfont\":{\n",
    "            \"size\":25\n",
    "        },\n",
    "        \"titlefont_size\":25\n",
    "    },\n",
    "    \"yaxis\":{\n",
    "        \"title\":\"∑/E\",\n",
    "         \"titlefont\":{\n",
    "            \"size\":25\n",
    "        },\n",
    "         \"tickfont\":{\n",
    "            \"size\":25\n",
    "        },\n",
    "    }\n",
    "})\n",
    "\n",
    "fig.show()\n",
    "\n",
    "fig.write_image(\"sigma_entropies.pdf\")"
   ]
  },
  {
   "cell_type": "markdown",
   "id": "782d62e9",
   "metadata": {},
   "source": [
    "## Distributions\n",
    "### Topic dist"
   ]
  },
  {
   "cell_type": "code",
   "execution_count": null,
   "id": "3b196e40",
   "metadata": {},
   "outputs": [],
   "source": [
    "hsbm_dist = pd.read_csv(\"syntetic/topsbm_level_0_topic-dist.csv\", index_col=1).drop(\"i_doc\",1)"
   ]
  },
  {
   "cell_type": "code",
   "execution_count": null,
   "id": "d266652f",
   "metadata": {},
   "outputs": [],
   "source": [
    "trisbm_dist = pd.read_csv(\"syntetic_key/trisbm_level_0_topic-dist.csv\", index_col=1).drop(\"i_doc\",1)"
   ]
  },
  {
   "cell_type": "code",
   "execution_count": null,
   "id": "42c8d020",
   "metadata": {},
   "outputs": [],
   "source": [
    "import seaborn as sns"
   ]
  },
  {
   "cell_type": "code",
   "execution_count": null,
   "id": "fd23f85f",
   "metadata": {},
   "outputs": [],
   "source": [
    "def padding(a,b, epsilon = 0):\n",
    "    la = len(a)\n",
    "    lb = len(b)\n",
    "    if la>lb:\n",
    "        return a+epsilon,np.concatenate((b,np.zeros(la-lb)))+epsilon\n",
    "    elif la<lb:\n",
    "        return np.concatenate((a,np.zeors(lb-la)))+epsilon,b+epsilon\n",
    "    return a+epsilon,b+epsilon"
   ]
  },
  {
   "cell_type": "code",
   "execution_count": null,
   "id": "be05d680",
   "metadata": {},
   "outputs": [],
   "source": [
    "real_hsbm_kl = [np.sum(kl_div(*padding(theta[idoc], hsbm_dist.values[idoc], 1e-10))) for idoc in range(D)]\n",
    "\n",
    "real_tri_kl = [np.sum(kl_div(*padding(theta[idoc], trisbm_dist.values[idoc], 1e-10))) for idoc in range(D)]\n",
    "\n",
    "real_lda_kl = [np.sum(kl_div(*padding(theta[idoc], topic_dist[idoc], 1e-10))) for idoc in range(D)]\n",
    "\n",
    "real_slda_kl = [np.sum(kl_div(*padding(theta[idoc], slda_topic_dist.values[idoc], 1e-10))) for idoc in range(D)]"
   ]
  },
  {
   "cell_type": "code",
   "execution_count": null,
   "id": "d5f1720b",
   "metadata": {},
   "outputs": [],
   "source": [
    "fig = go.Figure()\n",
    "\n",
    "def get_scatter(data, name):\n",
    "    hist = np.histogram(data, density=True)\n",
    "\n",
    "    return go.Scatter(x=(hist[1][1:]+hist[1][:-1])/2, \n",
    "                      y=hist[0], \n",
    "                      mode=\"lines\", \n",
    "                      line={\"shape\":\"hvh\", \"width\":8}, \n",
    "                      name=name)\n",
    "    \n",
    "fig.add_traces([\n",
    "    get_scatter(data, name)\n",
    "    \n",
    "    for data, name in zip([real_hsbm_kl, real_tri_kl, real_lda_kl, real_slda_kl],\n",
    "                         [\"hsbm\", \"trisbm\", \"lda\", \"slda\"])\n",
    "])\n",
    "    \n",
    "fig.update_layout(\n",
    "{\n",
    "    \"xaxis\":{\n",
    "        \"title\":\"KL (P(topic|sample),P(planted latent variable|sample))\",\n",
    "        \"titlefont_size\":25\n",
    "    },\n",
    "     \"yaxis\":{\n",
    "        \"title\":\"documents\",\n",
    "        \"titlefont_size\":25\n",
    "    },\n",
    "    \"barmode\":'overlay'\n",
    "}\n",
    ")\n",
    "fig.update_traces(opacity=0.5)\n",
    "fig.show()\n",
    "fig.write_image(\"KL_topics.pdf\", engine=\"kaleido\")"
   ]
  },
  {
   "cell_type": "markdown",
   "id": "c38ea121",
   "metadata": {},
   "source": [
    "### Word-dist"
   ]
  },
  {
   "cell_type": "code",
   "execution_count": null,
   "id": "320c1949",
   "metadata": {},
   "outputs": [],
   "source": [
    "hsbm_word_dist = pd.read_csv(\"syntetic/topsbm_level_0_word-dist.csv\", index_col=0)"
   ]
  },
  {
   "cell_type": "code",
   "execution_count": null,
   "id": "53de44f7",
   "metadata": {},
   "outputs": [],
   "source": [
    "trisbm_word_dist = pd.read_csv(\"syntetic_key/trisbm_level_0_word-dist.csv\", index_col=0)"
   ]
  },
  {
   "cell_type": "code",
   "execution_count": null,
   "id": "eaece9d4",
   "metadata": {},
   "outputs": [],
   "source": [
    "lda_word_dist = lda.components_.T\n",
    "lda_word_dist = lda_word_dist/np.sum(lda_word_dist, axis=0)"
   ]
  },
  {
   "cell_type": "code",
   "execution_count": null,
   "id": "eacb62d4",
   "metadata": {},
   "outputs": [],
   "source": [
    "real_hsbm_kl_words = [[np.sum(kl_div(*padding(phi[ilatent], hsbm_word_dist.values.T[itopic], 1e-10))) for ilatent in range(K)]\n",
    " for itopic in range(hsbm_word_dist.shape[1])]\n",
    "\n",
    "real_tri_kl_words = [[np.sum(kl_div(*padding(phi[ilatent], trisbm_word_dist.values.T[itopic], 1e-10))) for ilatent in range(K)]\n",
    " for itopic in range(trisbm_word_dist.shape[1])]\n",
    "\n",
    "real_lda_kl_words = [[np.sum(kl_div(*padding(phi[ilatent], lda_word_dist.T[itopic], 1e-10))) for ilatent in range(K)]\n",
    " for itopic in range(lda_word_dist.shape[1])]\n",
    "\n",
    "real_slda_kl_words = [[np.sum(kl_div(*padding(phi[ilatent], slda_word_dist.values.T[itopic], 1e-10))) for ilatent in range(K)]\n",
    " for itopic in range(slda_word_dist.shape[1])]"
   ]
  },
  {
   "cell_type": "code",
   "execution_count": null,
   "id": "4064d3fa",
   "metadata": {},
   "outputs": [],
   "source": [
    "sns.heatmap(np.sort(real_lda_kl_words, axis=1))"
   ]
  },
  {
   "cell_type": "code",
   "execution_count": null,
   "id": "ae438ae9",
   "metadata": {},
   "outputs": [],
   "source": [
    "sns.heatmap(np.sort(real_tri_kl_words, axis=1))"
   ]
  },
  {
   "cell_type": "code",
   "execution_count": null,
   "id": "a241baab",
   "metadata": {},
   "outputs": [],
   "source": [
    "fig = go.Figure()\n",
    "\n",
    "fig.add_traces([\n",
    "    go.Histogram(x=np.ravel(real_hsbm_kl_words), name=\"hsbm\"),\n",
    "    go.Histogram(x=np.ravel(real_tri_kl_words), name=\"trisbm\"),\n",
    "    go.Histogram(x=np.ravel(real_lda_kl_words), name=\"lda\"),\n",
    "    go.Histogram(x=np.ravel(real_slda_kl_words), name=\"slda\")\n",
    "])\n",
    "    \n",
    "fig.update_layout(\n",
    "{\n",
    "    \"xaxis\":{\n",
    "        \"title\":\"KL (P(word|topic),P(word|planted variable))\",\n",
    "        \"titlefont_size\":25\n",
    "    },\n",
    "     \"yaxis\":{\n",
    "        \"title\":\"pait topic-latent variable\",\n",
    "        \"titlefont_size\":25\n",
    "    },\n",
    "    \"barmode\":'overlay'\n",
    "}\n",
    ")\n",
    "fig.update_traces(opacity=0.3)\n",
    "fig.show()\n",
    "fig.write_image(\"KL_words.pdf\", engine=\"kaleido\")"
   ]
  },
  {
   "cell_type": "markdown",
   "id": "f81c4eb2",
   "metadata": {},
   "source": [
    "### Y"
   ]
  },
  {
   "cell_type": "code",
   "execution_count": null,
   "id": "4a885da5",
   "metadata": {},
   "outputs": [],
   "source": [
    "with open(\"sldasyntetic/inf-labels.dat\") as file:\n",
    "    slda_labels = list(map(lambda row: int(row.split(\"\\n\")[0]),file.readlines()))"
   ]
  },
  {
   "cell_type": "code",
   "execution_count": null,
   "id": "822c0438",
   "metadata": {},
   "outputs": [],
   "source": [
    "trisbm_labels = pd.read_csv(\"syntetic_key/trisbm_level_0_kind_2_metadatum-dist.csv\").drop(\"i_doc\",1).set_index(\"doc\").apply(np.argmax,1)"
   ]
  },
  {
   "cell_type": "code",
   "execution_count": null,
   "id": "713a5d7e",
   "metadata": {},
   "outputs": [],
   "source": [
    "fig,ax=plt.subplots()\n",
    "\n",
    "\n",
    "plt.scatter(Y, trisbm_labels, color=\"blue\", label=\"trisbm\")\n",
    "plt.scatter(Y, slda_labels, color=\"purple\", label=\"slda\")\n",
    "\n",
    "ax.set_xlabel(\"$Y_d$\", fontsize=25)\n",
    "ax.set_ylabel(\"$Y_d inferred$\", fontsize=25)\n",
    "\n",
    "ax.legend()\n",
    "\n",
    "ax.tick_params(labelsize=20)"
   ]
  },
  {
   "cell_type": "code",
   "execution_count": null,
   "id": "3b535c57",
   "metadata": {},
   "outputs": [],
   "source": []
  }
 ],
 "metadata": {
  "kernelspec": {
   "display_name": "Python 3",
   "language": "python",
   "name": "python3"
  },
  "language_info": {
   "codemirror_mode": {
    "name": "ipython",
    "version": 3
   },
   "file_extension": ".py",
   "mimetype": "text/x-python",
   "name": "python",
   "nbconvert_exporter": "python",
   "pygments_lexer": "ipython3",
   "version": "3.8.8"
  },
  "toc-autonumbering": false,
  "toc-showmarkdowntxt": false,
  "toc-showtags": false
 },
 "nbformat": 4,
 "nbformat_minor": 5
}
