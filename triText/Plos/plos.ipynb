{
 "cells": [
  {
   "cell_type": "code",
   "execution_count": null,
   "id": "37ac82cd",
   "metadata": {},
   "outputs": [],
   "source": [
    "import pandas as pd\n",
    "import numpy as np\n",
    "import os,sys\n",
    "sys.path.append(\"../\")\n",
    "from nlp import process_phrase\n",
    "import requests as req\n",
    "import datetime as dt\n",
    "import xml\n",
    "import xml.etree.ElementTree as ET \n",
    "import logging\n",
    "log = logging.getLogger(\"plos\")\n",
    "log.addHandler(logging.StreamHandler())\n",
    "log.setLevel(logging.DEBUG)"
   ]
  },
  {
   "cell_type": "code",
   "execution_count": null,
   "id": "66979f8f",
   "metadata": {},
   "outputs": [],
   "source": [
    "def get_papers_from(date: dt.datetime):\n",
    "    url = \"https://www.ncbi.nlm.nih.gov/pmc/utils/oa/oa.fcgi\"\n",
    "    r = req.get(url, params={\"from\":date.strftime(\"%Y-%m-%d\")})\n",
    "    return ET.fromstring(r.text).findall(\"./records/record\")\n",
    "\n",
    "papers = get_papers_from(dt.datetime(2021, 1, 1, 8, 0, 0))"
   ]
  },
  {
   "cell_type": "code",
   "execution_count": null,
   "id": "2fe21baa",
   "metadata": {},
   "outputs": [],
   "source": [
    "print(len(papers))\n",
    "papers[0].attrib"
   ]
  },
  {
   "cell_type": "code",
   "execution_count": null,
   "id": "35b606cd",
   "metadata": {},
   "outputs": [],
   "source": [
    "def get_info(pmid:str)->xml.etree.ElementTree.Element:\n",
    "    url = \"https://www.ncbi.nlm.nih.gov/pmc/utils/oa/oa.fcgi\"\n",
    "    r = req.get(url, params={\"id\":pmid})\n",
    "    if r.status_code == 200:\n",
    "        return ET.fromstring(r.text).find(\"./records/record\")\n",
    "    else:\n",
    "        return None\n",
    "    \n",
    "def get_paper(paper: xml.etree.ElementTree.Element)->xml.etree.ElementTree.Element:\n",
    "    paper_name = paper.attrib[\"id\"]\n",
    "    paper = get_info(paper_name)\n",
    "    if paper is None:\n",
    "        return None\n",
    "    link = [link.attrib[\"href\"] for link in paper.findall(\"link\") if link.attrib[\"format\"]==\"tgz\"][0].replace(\"ftp://\",\"http://\")\n",
    "    os.system(\"mkdir -p data\")\n",
    "    if paper_name in os.listdir(\"./data\"):\n",
    "        return paper\n",
    "    os.chdir(\"./data\")\n",
    "    os.system(\"wget {}\".format(link))\n",
    "    os.system(\"gunzip {}.tar.gz\".format(paper.attrib[\"id\"]))\n",
    "    os.system(\"tar -xf {}.tar\".format(paper.attrib[\"id\"]))\n",
    "    os.system(\"rm -rf {}.tar\".format(paper.attrib[\"id\"]))\n",
    "    os.chdir(\"../\")\n",
    "    #log.info(os.system(\"{}.* data/.\".format(paper.attrib[\"id\"])))\n",
    "    return paper\n",
    "\n",
    "def parse_paper(paper: xml.etree.ElementTree.Element)->list:\n",
    "    paper_name = paper.attrib[\"id\"]\n",
    "    filename = list(filter(lambda file: \".nxml\" in file, os.listdir(f\"data/{paper_name}/\")))[0]\n",
    "    article = ET.parse(f\"data/{paper_name}/{filename}\").find(\".\")\n",
    "    journal = [meta.text for meta in article.findall(\"front/journal-meta/journal-id\") if meta.attrib['journal-id-type']=='nlm-ta']\n",
    "    keywords = [keyword.text for keyword in article.find(\"./front/article-meta/kwd-group\")]\n",
    "    keywords = [process_phrase(keyword).replace(\" \",\"_\") for keyword in keywords]\n",
    "    keywords = list(filter(lambda x: len(x)>0, keywords)) #remove ''\n",
    "    keywords = [\"#\"+keyword for keyword in keywords]\n",
    "    abstract = ET.tostring(article.find(\"./front/article-meta/abstract/\")).decode(\"utf-8\")\n",
    "    return journal, keywords, process_phrase(abstract)\n",
    "\n",
    "def get_and_parse(paper: xml.etree.ElementTree.Element)->list:\n",
    "    try:\n",
    "        return parse_paper(get_paper(paper))\n",
    "    except:\n",
    "        return None, None, None"
   ]
  },
  {
   "cell_type": "code",
   "execution_count": null,
   "id": "1044a67d",
   "metadata": {},
   "outputs": [],
   "source": [
    "paper = get_paper(papers[5])"
   ]
  },
  {
   "cell_type": "code",
   "execution_count": null,
   "id": "86854eb2",
   "metadata": {},
   "outputs": [],
   "source": [
    "paper.attrib"
   ]
  },
  {
   "cell_type": "code",
   "execution_count": null,
   "id": "58c1717e",
   "metadata": {},
   "outputs": [],
   "source": [
    "parse_paper(papers[5])"
   ]
  },
  {
   "cell_type": "code",
   "execution_count": null,
   "id": "a0ca49f8",
   "metadata": {},
   "outputs": [],
   "source": [
    "def get_paper_dfs(paper):\n",
    "    df = pd.DataFrame()\n",
    "    df_meta = pd.DataFrame()\n",
    "    df_files = pd.DataFrame(columns=[\"journal\"])\n",
    "    \n",
    "    journal, labels, text = get_and_parse(paper)\n",
    "    doi = paper.attrib[\"id\"]\n",
    "    \n",
    "    if text is None:\n",
    "        return None\n",
    "    \n",
    "    words = text.split(\" \")\n",
    "    \n",
    "    df_files=df_files.append(pd.Series(name=doi, index=[\"journal\"], data=journal, dtype=str))\n",
    "    df = df.join(pd.Series(*np.unique(words, return_counts=True)[::-1], name=doi), how=\"outer\")\n",
    "    df_meta = df_meta.join(pd.Series(index=labels, data=1, name=doi), how=\"outer\")\n",
    "    \n",
    "    return df, df_meta, df_files\n",
    "\n",
    "def append_callback(x):\n",
    "    global df\n",
    "    global df_meta\n",
    "    global df_files\n",
    "    if x is None:\n",
    "        return None\n",
    "    \n",
    "    df_j, df_meta_j, df_files_j = x\n",
    "    try:\n",
    "        df = df.join(df_j, how=\"outer\") # join new articles\n",
    "        df_meta = df_meta.join(df_meta_j, how=\"outer\") #join new articles\n",
    "        df_files = df_files.append(df_files_j) \n",
    "    except:\n",
    "        pass"
   ]
  },
  {
   "cell_type": "code",
   "execution_count": null,
   "id": "5c829d16",
   "metadata": {},
   "outputs": [],
   "source": [
    "import multiprocessing as mp"
   ]
  },
  {
   "cell_type": "code",
   "execution_count": null,
   "id": "c4e0d117",
   "metadata": {},
   "outputs": [],
   "source": [
    "df = pd.DataFrame()\n",
    "df_meta = pd.DataFrame()\n",
    "df_files = pd.DataFrame(columns=[\"journal\"])\n",
    "\n",
    "pool = mp.Pool(12)\n",
    "\n",
    "work = [pool.apply_async(get_paper_dfs, args=([paper]), callback=append_callback, error_callback=lambda err: log.debug(err)) for paper in papers]\n",
    "\n",
    "pool.close()\n",
    "pool.join()"
   ]
  },
  {
   "cell_type": "code",
   "execution_count": null,
   "id": "443b2c2a",
   "metadata": {},
   "outputs": [],
   "source": [
    "common_journals = df_files.reset_index().groupby([\"journal\"]).count().sort_values(\"index\")[-10:].index.values\n",
    "df_files = df_files[df_files[\"journal\"].isin(common_journals)] \n",
    "\n",
    "df = df.fillna(0).astype(int).drop_duplicates()\n",
    "\n",
    "'''\n",
    "do reindex in two steps to avoid undefined behaviour\n",
    "the sum is made on the new index\n",
    "'''\n",
    "\n",
    "df = df.reindex(columns=df.columns[df.columns.isin(df_files.index.dropna())]) #be sure every columns has a file\n",
    "df = df.reindex(index=list(filter(lambda x:len(x)>0,df.index))) # remove '' from words\n",
    "\n",
    "O = df.apply(lambda x: (x>0).sum(), axis=1)\n",
    "df = df.reindex(index = df.index[O>5]) #words that appear in at least # papers \n",
    "df = df.reindex(columns = df.columns[df.sum(0) > 5]) #docs that have at least # word with repetition \n",
    "\n",
    "df_meta = df_meta.fillna(0).astype(int).drop_duplicates()\n",
    "\n",
    "df_meta = df_meta.reindex(columns=df.columns) # match df index\n",
    "df_meta = df_meta.reindex(index=df_meta.index[df_meta.sum(1)>1]) # Keywords with at least # paper"
   ]
  },
  {
   "cell_type": "code",
   "execution_count": null,
   "id": "9baf4509",
   "metadata": {},
   "outputs": [],
   "source": [
    "common_journals"
   ]
  },
  {
   "cell_type": "code",
   "execution_count": null,
   "id": "4e8be1c7",
   "metadata": {},
   "outputs": [],
   "source": [
    "df.sum(0).min()"
   ]
  },
  {
   "cell_type": "code",
   "execution_count": null,
   "id": "6ac0e0b4",
   "metadata": {},
   "outputs": [],
   "source": [
    "print(df.shape)\n",
    "print(df_meta.shape)\n",
    "print(df_files.shape)"
   ]
  },
  {
   "cell_type": "code",
   "execution_count": null,
   "id": "f9af042d",
   "metadata": {},
   "outputs": [],
   "source": [
    "df_meta.sum(1)"
   ]
  },
  {
   "cell_type": "code",
   "execution_count": null,
   "id": "8098843c",
   "metadata": {},
   "outputs": [],
   "source": [
    "import matplotlib.pyplot as plt"
   ]
  },
  {
   "cell_type": "code",
   "execution_count": null,
   "id": "cc1e0d73",
   "metadata": {},
   "outputs": [],
   "source": [
    "fig, ax = plt.subplots()\n",
    "df.divide(df.sum(0),1).mean(1).sort_values(ascending=False).plot(ax=ax)\n",
    "\n",
    "x = np.linspace(1,1e3)\n",
    "ax.plot(x,1e-1*x**(-0.9))\n",
    "\n",
    "ax.set_yscale(\"log\")\n",
    "ax.set_xscale(\"log\")\n",
    "fig.savefig(\"zipf.pdf\")"
   ]
  },
  {
   "cell_type": "markdown",
   "id": "a7ad6ef0",
   "metadata": {},
   "source": [
    "# Make hSBM graph"
   ]
  },
  {
   "cell_type": "code",
   "execution_count": null,
   "id": "ecabe587",
   "metadata": {},
   "outputs": [],
   "source": [
    "import sys\n",
    "sys.path.append(\"/home/jovyan/work/phd/hSBM_Topicmodel/\")"
   ]
  },
  {
   "cell_type": "code",
   "execution_count": null,
   "id": "4aa39e5a",
   "metadata": {},
   "outputs": [],
   "source": [
    "import graph_tool.all as gt\n",
    "from sbmtm import sbmtm"
   ]
  },
  {
   "cell_type": "code",
   "execution_count": null,
   "id": "d1d4e44d",
   "metadata": {},
   "outputs": [],
   "source": [
    "sbmtm = sbmtm()\n",
    "sbmtm.make_graph_from_BoW_df(df)\n",
    "sbmtm.save_graph(\"plos.xml.gz\")"
   ]
  },
  {
   "cell_type": "code",
   "execution_count": null,
   "id": "1f885380",
   "metadata": {},
   "outputs": [],
   "source": [
    "g = sbmtm.g\n",
    "g"
   ]
  },
  {
   "cell_type": "code",
   "execution_count": null,
   "id": "b0f66543",
   "metadata": {},
   "outputs": [],
   "source": [
    "sbmtm.fit(n_init=5, verbose=False, B_min=20, parallel=True)"
   ]
  },
  {
   "cell_type": "code",
   "execution_count": null,
   "id": "c157e129",
   "metadata": {},
   "outputs": [],
   "source": [
    "sbmtm.groups[0]=sbmtm.get_groups(0)\n",
    "sbmtm.groups[1]=sbmtm.get_groups(1)"
   ]
  },
  {
   "cell_type": "code",
   "execution_count": null,
   "id": "8377b8dc",
   "metadata": {},
   "outputs": [],
   "source": [
    "os.system(\"rm -rf plos\")\n",
    "os.system(\"mkdir -p plos\")\n",
    "os.chdir(\"plos/\")\n",
    "df_files.to_csv(\"files.dat\")\n",
    "os.system(\"mkdir -p topsbm\")\n",
    "os.chdir(\"topsbm/\")\n",
    "sbmtm.save_data()\n",
    "sbmtm.save_graph()\n",
    "os.chdir(\"../../\")"
   ]
  },
  {
   "cell_type": "code",
   "execution_count": null,
   "id": "ae5bccff",
   "metadata": {},
   "outputs": [],
   "source": [
    "gt.draw_hierarchy(sbmtm.state, layout=\"bipartite\", hedge_pen_width=8, hvertex_size=25)"
   ]
  },
  {
   "cell_type": "markdown",
   "id": "be689018",
   "metadata": {},
   "source": [
    "## triSBM"
   ]
  },
  {
   "cell_type": "code",
   "execution_count": null,
   "id": "063493b9",
   "metadata": {},
   "outputs": [],
   "source": [
    "sys.path.append(\"../../trisbm/\")\n",
    "from trisbm import trisbm"
   ]
  },
  {
   "cell_type": "code",
   "execution_count": null,
   "id": "b98d0024",
   "metadata": {},
   "outputs": [],
   "source": [
    "trisbm = trisbm()\n",
    "trisbm.make_graph(df.append(df_meta), lambda word_keyword: 2 if word_keyword in df_meta.index else 1)"
   ]
  },
  {
   "cell_type": "code",
   "execution_count": null,
   "id": "cb939217",
   "metadata": {},
   "outputs": [],
   "source": [
    "trisbm.save_graph(\"plos_keyword.xml.gz\")"
   ]
  },
  {
   "cell_type": "code",
   "execution_count": null,
   "id": "61fafda3",
   "metadata": {},
   "outputs": [],
   "source": [
    "trisbm.fit(n_init=5, verbose=False, B_min=10)"
   ]
  },
  {
   "cell_type": "code",
   "execution_count": null,
   "id": "b0013b33",
   "metadata": {},
   "outputs": [],
   "source": [
    "import os"
   ]
  },
  {
   "cell_type": "code",
   "execution_count": null,
   "id": "bc28f4f2",
   "metadata": {},
   "outputs": [],
   "source": [
    "os.system(\"rm -rf plos_key\")\n",
    "os.system(\"mkdir -p plos_key\")\n",
    "os.chdir(\"plos_key/\")\n",
    "df_files.to_csv(\"files.dat\")\n",
    "os.system(\"mkdir -p trisbm\")\n",
    "os.chdir(\"trisbm/\")\n",
    "trisbm.save_data()\n",
    "trisbm.save_graph()\n",
    "os.chdir(\"../../\")"
   ]
  },
  {
   "cell_type": "code",
   "execution_count": null,
   "id": "8551a16c",
   "metadata": {},
   "outputs": [],
   "source": [
    "gt.draw_hierarchy(trisbm.state, \n",
    "                  #pos=gt.sfdp_layout(model.g),\n",
    "                  hedge_pen_width=8, \n",
    "                  hvertex_size=25\n",
    "                 )"
   ]
  },
  {
   "cell_type": "markdown",
   "id": "b9ba7544",
   "metadata": {},
   "source": [
    "## Benchmark"
   ]
  },
  {
   "cell_type": "code",
   "execution_count": null,
   "id": "edc95e82",
   "metadata": {},
   "outputs": [],
   "source": [
    "from topicpy.hsbmpy import get_scores, get_scores_shuffled, add_score_lines, normalise_score\n",
    "import matplotlib.pyplot as plt\n",
    "import pandas as pd\n",
    "import os"
   ]
  },
  {
   "cell_type": "code",
   "execution_count": null,
   "id": "2abea523",
   "metadata": {},
   "outputs": [],
   "source": [
    "labels = [\"journal\"]\n",
    "scores = get_scores(\"plos_key\", labels, algorithm=\"trisbm\", verbose=False)\n",
    "scores['trisbm'] = scores[labels[0]]\n",
    "scores[\"hsbm\"]=get_scores(\"plos\", labels, algorithm=\"topsbm\", verbose=False)[labels[0]]\n",
    "scores['shuffle'] = get_scores_shuffled(\"plos\", pd.read_csv(\"plos/files.dat\", sep=\",\", index_col=0), label=labels[0], algorithm='topsbm')\n",
    "normalise_score(scores, base_algorithm=\"shuffle\", operation=lambda x,y: x/y)"
   ]
  },
  {
   "cell_type": "code",
   "execution_count": null,
   "id": "764f7688",
   "metadata": {},
   "outputs": [],
   "source": [
    "fig=plt.figure(figsize=(18,15))\n",
    "ax = fig.subplots(1)\n",
    "add_score_lines(ax,scores,labels=[\"hsbm\",\"trisbm\", \"shuffle\"], V=\"norm_V\", alpha=1)\n",
    "ax.set_xscale('log')\n",
    "ax.set_ylim(0,max(map(lambda s: max(s[\"norm_V\"]), scores.values()))*1.1)\n",
    "ax.set_xlim(0,max(map(lambda s: max(s[\"xl\"]), scores.values()))*1.1)\n",
    "\n",
    "plt.show()\n",
    "fig.savefig(\"metric_scores.pdf\")"
   ]
  },
  {
   "cell_type": "code",
   "execution_count": null,
   "id": "d9e08f90",
   "metadata": {},
   "outputs": [],
   "source": [
    "import plotly.graph_objects as go"
   ]
  },
  {
   "cell_type": "code",
   "execution_count": null,
   "id": "1247f672",
   "metadata": {},
   "outputs": [],
   "source": [
    "fig = go.Figure()\n",
    "fig.add_traces([\n",
    "    go.Bar(y = [sbmtm.get_mdl()/sbmtm.g.num_edges()], name=\"hSBM\"),\n",
    "    go.Bar(y = [trisbm.get_mdl()/trisbm.g.num_edges()], name=\"triSBM\")\n",
    "])\n",
    "\n",
    "titlefont = {\n",
    "    \"size\": 30 \n",
    "}\n",
    "\n",
    "tickfont = {\n",
    "    \"size\":25\n",
    "}\n",
    "\n",
    "layout = {\n",
    "    \"title\":\"Plos dataset\",\n",
    "    \"xaxis\":{\n",
    "        \"title\": \"Resolution\",\n",
    "        \"titlefont\": titlefont,\n",
    "        \"tickfont\": tickfont\n",
    "    },\n",
    "    \"yaxis\":{\n",
    "        \"title\": \"∑/E\",\n",
    "        \"type\":\"log\",\n",
    "        #\"range\": [10e3,20e3],\n",
    "        \"titlefont\": titlefont,\n",
    "        \"tickfont\": tickfont\n",
    "    },\n",
    "    \"legend\":{\n",
    "        \"font_size\":35\n",
    "    }\n",
    "}\n",
    "\n",
    "fig.update_layout(layout)\n",
    "#fig.write_image(\"metric_entropies_bar.pdf\")"
   ]
  },
  {
   "cell_type": "code",
   "execution_count": null,
   "id": "78bc687f",
   "metadata": {},
   "outputs": [],
   "source": [
    "fig = go.Figure()\n",
    "fig.add_traces([\n",
    "    go.Bar(y=scores[\"hsbm\"][\"norm_V\"], name=\"hSBM\"),\n",
    "    go.Bar(y=scores[\"trisbm\"][\"norm_V\"], name=\"triSBM\")\n",
    "])\n",
    "\n",
    "titlefont = {\n",
    "    \"size\": 30 \n",
    "}\n",
    "\n",
    "tickfont = {\n",
    "    \"size\":25\n",
    "}\n",
    "\n",
    "layout = {\n",
    "    \"title\":\"Plos dataset\",\n",
    "    \"xaxis\":{\n",
    "        \"title\": \"Resolution\",\n",
    "        \"titlefont\": titlefont,\n",
    "        \"tickfont\": tickfont\n",
    "    },\n",
    "    \"yaxis\":{\n",
    "        \"title\": \"NMI/NMI*\",\n",
    "        \"titlefont\": titlefont,\n",
    "        \"tickfont\": tickfont\n",
    "    },\n",
    "    \"legend\":{\n",
    "        \"font_size\":35\n",
    "    }\n",
    "}\n",
    "\n",
    "fig.update_layout(layout)\n",
    "#fig.write_image(\"metric_scores_bar.pdf\")"
   ]
  },
  {
   "cell_type": "code",
   "execution_count": null,
   "id": "8ac7027a",
   "metadata": {},
   "outputs": [],
   "source": [
    "from topicpy.hsbmpy import clusteranalysis"
   ]
  },
  {
   "cell_type": "code",
   "execution_count": null,
   "id": "a9082c9d",
   "metadata": {},
   "outputs": [],
   "source": [
    "clusteranalysis(os.getcwd()+\"/plos/\", [\"journal\"], algorithm=\"topsbm\")\n",
    "clusteranalysis(os.getcwd()+\"/plos_key/\", [\"journal\"], algorithm=\"trisbm\")"
   ]
  },
  {
   "cell_type": "code",
   "execution_count": null,
   "id": "55b4ec4a",
   "metadata": {},
   "outputs": [],
   "source": [
    "import cloudpickle as pickle\n",
    "\n",
    "with open(\"sbmtm.pkl\", \"wb\") as file:\n",
    "    pickle.dump(sbmtm, file)\n",
    "    \n",
    "with open(\"trisbm.pkl\", \"wb\") as file:\n",
    "    pickle.dump(trisbm, file)"
   ]
  },
  {
   "cell_type": "code",
   "execution_count": null,
   "id": "6b620fc5",
   "metadata": {},
   "outputs": [],
   "source": []
  }
 ],
 "metadata": {
  "kernelspec": {
   "display_name": "Python 3",
   "language": "python",
   "name": "python3"
  },
  "language_info": {
   "codemirror_mode": {
    "name": "ipython",
    "version": 3
   },
   "file_extension": ".py",
   "mimetype": "text/x-python",
   "name": "python",
   "nbconvert_exporter": "python",
   "pygments_lexer": "ipython3",
   "version": "3.8.8"
  }
 },
 "nbformat": 4,
 "nbformat_minor": 5
}
