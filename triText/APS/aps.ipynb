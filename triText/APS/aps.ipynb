{
 "cells": [
  {
   "cell_type": "code",
   "execution_count": 1,
   "id": "e715c060",
   "metadata": {},
   "outputs": [
    {
     "name": "stdout",
     "output_type": "stream",
     "text": [
      "Author: Filippo_Valle\n",
      "\n",
      "Python implementation: CPython\n",
      "Python version       : 3.8.8\n",
      "IPython version      : 7.22.0\n",
      "\n",
      "pandas     : 1.2.3\n",
      "numpy      : 1.19.0\n",
      "graph_tool : 2.37 (commit afba9459, )\n",
      "cloudpickle: 1.6.0\n",
      "regex      : 2021.4.4\n",
      "topicpy    : 0.2.1\n",
      "matplotlib : 3.4.1\n",
      "plotly     : 4.14.3\n",
      "\n",
      "Compiler    : GCC 9.3.0\n",
      "OS          : Linux\n",
      "Release     : 5.11.0-16-generic\n",
      "Machine     : x86_64\n",
      "Processor   : x86_64\n",
      "CPU cores   : 12\n",
      "Architecture: 64bit\n",
      "\n",
      "Git hash: ff5b19408d9900d8cee7937136d949b49b0fbc3d\n",
      "\n",
      "Git repo: git@github.com:fvalle1/epj.git\n",
      "\n"
     ]
    }
   ],
   "source": [
    "%load_ext watermark\n",
    "%watermark  -a Filippo_Valle -v -m -g -r -v -p pandas,numpy,graph_tool,cloudpickle,regex,topicpy,matplotlib,plotly"
   ]
  },
  {
   "cell_type": "code",
   "execution_count": null,
   "id": "4f4171ca",
   "metadata": {},
   "outputs": [],
   "source": [
    "import pandas as pd\n",
    "import json\n",
    "import os\n",
    "import regex as re\n",
    "import numpy as np\n",
    "import graph_tool.all as gt\n",
    "import logging\n",
    "import cloudpickle as pickle\n",
    "log = logging.getLogger(\"aps\")\n",
    "log.addHandler(logging.StreamHandler())\n",
    "log.setLevel(logging.DEBUG)\n",
    "import sys\n",
    "sys.path.append(\"../\")\n",
    "from nlp import singularize, process_phrase"
   ]
  },
  {
   "cell_type": "code",
   "execution_count": null,
   "id": "bfdecbb3",
   "metadata": {},
   "outputs": [],
   "source": [
    "os.listdir(\"aps-dataset-metadata-2020/\")"
   ]
  },
  {
   "cell_type": "code",
   "execution_count": null,
   "id": "6a170687",
   "metadata": {},
   "outputs": [],
   "source": [
    "def parse_article(filename):\n",
    "    with open(filename, \"r\") as file:\n",
    "        article = json.loads(file.read())\n",
    "    doi = article[\"id\"]\n",
    "    title = article[\"title\"][\"value\"]\n",
    "    try:\n",
    "        labels = [label[\"label\"] for label in article[\"classificationSchemes\"][\"physh\"][\"disciplines\"]]\n",
    "    except:\n",
    "        labels = []\n",
    "    \n",
    "    journal = article[\"journal\"][\"id\"]\n",
    "    authors = [author[\"surname\"] for author in article[\"authors\"]]\n",
    "    \n",
    "    try:\n",
    "        pattern = \"[0-9]{4,11}\" #ZIPCODE\n",
    "        nations = np.unique([re.search(pattern,affiliation[\"name\"]).group() for affiliation in article[\"affiliations\"] if re.search(pattern, affiliation[\"name\"]) is not None])\n",
    "    except:\n",
    "        nations = []\n",
    "    return doi, title, labels, journal, authors, nations\n",
    "    \n",
    "parse_article(\"aps-dataset-metadata-2020/PRX/8/PhysRevX.8.021023.json\")\n",
    "#parse_article(\"aps-dataset-metadata-2020/PRD/102/PhysRevD.102.014505.json\")"
   ]
  },
  {
   "cell_type": "code",
   "execution_count": null,
   "id": "9cef492d",
   "metadata": {},
   "outputs": [],
   "source": [
    "#10.1103/PhysRevD.102.014505"
   ]
  },
  {
   "cell_type": "code",
   "execution_count": null,
   "id": "d1c65d14",
   "metadata": {},
   "outputs": [],
   "source": [
    "def get_journal_dfs(journal):\n",
    "    df = pd.DataFrame()\n",
    "    df_meta = pd.DataFrame()\n",
    "    df_authors = pd.DataFrame()\n",
    "    df_areas = pd.DataFrame()\n",
    "    df_files = pd.DataFrame(columns=[\"journal\"])\n",
    "    issue = \"aps-dataset-metadata-2020/{}/{}/\".format(journal, \"1\" if \"E\" not in journal else \"100\")\n",
    "    articles = os.listdir(issue)[:500]\n",
    "    for article in articles:\n",
    "        doi, title, labels, journal, authors, areas = parse_article(issue+article)\n",
    "        title = process_phrase(title)\n",
    "        words = title.split(\" \")\n",
    "        df_files=df_files.append(pd.Series(name=doi, index=[\"journal\"], data=journal))\n",
    "        df = df.join(pd.Series(*np.unique(words, return_counts=True)[::-1], name=doi), how=\"outer\")\n",
    "        df_meta = df_meta.join(pd.Series(index=labels, data=1, name=doi), how=\"outer\")\n",
    "        df_authors = df_authors.join(pd.Series(index=[len(authors)], data=1, name=doi), how=\"outer\")\n",
    "        df_areas = df_areas.join(pd.Series(index=areas, data=1, name=doi), how=\"outer\")\n",
    "    return df, df_meta, df_files, df_areas"
   ]
  },
  {
   "cell_type": "code",
   "execution_count": null,
   "id": "dcc0afb1",
   "metadata": {},
   "outputs": [],
   "source": [
    "import multiprocessing as mp"
   ]
  },
  {
   "cell_type": "code",
   "execution_count": null,
   "id": "0059af01",
   "metadata": {},
   "outputs": [],
   "source": [
    "pool = mp.Pool(12)\n",
    "\n",
    "work = pool.map_async(get_journal_dfs, [\"PRA\", \"PRB\", \"PRC\", \"PRD\", \"PRE\"], error_callback=lambda err: log.debug(err))\n",
    "\n",
    "pool.close()\n",
    "pool.join()"
   ]
  },
  {
   "cell_type": "code",
   "execution_count": null,
   "id": "af66e4f9",
   "metadata": {},
   "outputs": [],
   "source": [
    "df = pd.DataFrame()\n",
    "df_meta = pd.DataFrame()\n",
    "df_authors = pd.DataFrame()\n",
    "df_files = pd.DataFrame(columns=[\"journal\"])\n",
    "\n",
    "for (df_j, df_meta_j, df_files_j, df_authors_j) in work.get():\n",
    "    df = df.join(df_j, how=\"outer\") # join new articles\n",
    "    df_meta = df_meta.join(df_meta_j, how=\"outer\") #join new articles\n",
    "    df_files = df_files.append(df_files_j) #append new articles\n",
    "    df_authors = df_authors.join(df_authors_j, how=\"outer\") #append new authors"
   ]
  },
  {
   "cell_type": "code",
   "execution_count": null,
   "id": "94f6b444",
   "metadata": {},
   "outputs": [],
   "source": [
    "df = df.fillna(0).astype(int).drop_duplicates()\n",
    "\n",
    "df = df.reindex(index = list(filter(lambda w:len(w)>0,df.index)))\n",
    "\n",
    "'''\n",
    "do reindex in two steps to avoid undefined behaviour\n",
    "the sum is made on the new index\n",
    "'''\n",
    "O = df.apply(lambda x: (x>0).sum(), axis=1)\n",
    "df = df.reindex(index = df.index[O>5]) #words that appear in at least # papers \n",
    "df = df.reindex(columns = df.columns[df.sum(0) > 5]) #titles with at least # word with repetition\n",
    "\n",
    "df_meta = df_meta.fillna(0).astype(int).drop_duplicates()\n",
    "\n",
    "df_meta = df_meta.reindex(index=df_meta.index[df_meta.sum(1)>1]) # Keywords with at least # papers\n",
    "df_meta = df_meta.reindex(columns=df.columns) # match df index\n",
    "\n",
    "df_authors = df_authors.reindex(columns=df.columns)\n",
    "df_authors = df_authors.drop_duplicates()\n",
    "df_authors = df_authors.reindex(index=df_authors.index[~df_authors.index.duplicated(keep=\"first\")])\n",
    "\n",
    "df_authors = df_authors.reindex(index=df_authors.index[df_authors.sum(1)>1]) # Authors with at least # papers\n",
    "\n",
    "df_files=df_files.reindex(index=df.columns)"
   ]
  },
  {
   "cell_type": "code",
   "execution_count": null,
   "id": "a554ce1b",
   "metadata": {},
   "outputs": [],
   "source": [
    "df_files[\"journal\"].unique()"
   ]
  },
  {
   "cell_type": "code",
   "execution_count": null,
   "id": "cff0459a",
   "metadata": {},
   "outputs": [],
   "source": [
    "df.sum(0).min()"
   ]
  },
  {
   "cell_type": "code",
   "execution_count": null,
   "id": "89037bbe",
   "metadata": {},
   "outputs": [],
   "source": [
    "print(df.shape)\n",
    "print(df_meta.shape)\n",
    "print(df_files.shape)\n",
    "print(df_authors.shape)"
   ]
  },
  {
   "cell_type": "code",
   "execution_count": null,
   "id": "5c6a33cd",
   "metadata": {},
   "outputs": [],
   "source": [
    "df_meta.sum(1)"
   ]
  },
  {
   "cell_type": "code",
   "execution_count": null,
   "id": "7b6c348a",
   "metadata": {},
   "outputs": [],
   "source": [
    "import matplotlib.pyplot as plt"
   ]
  },
  {
   "cell_type": "code",
   "execution_count": null,
   "id": "9e2f3cf7",
   "metadata": {},
   "outputs": [],
   "source": [
    "fig, ax = plt.subplots()\n",
    "df.divide(df.sum(0),1).mean(1).sort_values(ascending=False).plot(ax=ax)\n",
    "\n",
    "x = np.linspace(1,1e3)\n",
    "ax.plot(x,1e-1*x**(-0.9))\n",
    "\n",
    "ax.set_yscale(\"log\")\n",
    "ax.set_xscale(\"log\")\n",
    "fig.savefig(\"zipf.pdf\")"
   ]
  },
  {
   "cell_type": "markdown",
   "id": "b859802f",
   "metadata": {},
   "source": [
    "# Make hSBM graph"
   ]
  },
  {
   "cell_type": "code",
   "execution_count": null,
   "id": "6dca9718",
   "metadata": {},
   "outputs": [],
   "source": [
    "%load_ext autoreload\n",
    "%autoreload 2\n",
    "import sys\n",
    "sys.path.append(\"../../hSBM_Topicmodel/\")\n",
    "from sbmtm import sbmtm"
   ]
  },
  {
   "cell_type": "code",
   "execution_count": null,
   "id": "9e083a72",
   "metadata": {},
   "outputs": [],
   "source": [
    "sbmtm = sbmtm()\n",
    "sbmtm.make_graph_from_BoW_df(df)\n",
    "sbmtm.save_graph(\"aps.xml.gz\")"
   ]
  },
  {
   "cell_type": "code",
   "execution_count": null,
   "id": "07bfa505",
   "metadata": {},
   "outputs": [],
   "source": [
    "g = sbmtm.g\n",
    "g"
   ]
  },
  {
   "cell_type": "code",
   "execution_count": null,
   "id": "89450ca6",
   "metadata": {},
   "outputs": [],
   "source": [
    "sbmtm.fit(n_init=5, verbose=False, B_min=10, parallel=True)"
   ]
  },
  {
   "cell_type": "code",
   "execution_count": null,
   "id": "9e288e40",
   "metadata": {},
   "outputs": [],
   "source": [
    "os.system(\"rm -rf aps_zip\")\n",
    "os.system(\"mkdir -p aps_zip\")\n",
    "os.chdir(\"aps_zip/\")\n",
    "df_files.to_csv(\"files.dat\")\n",
    "os.system(\"mkdir -p topsbm\")\n",
    "os.chdir(\"topsbm/\")\n",
    "sbmtm.save_data()\n",
    "sbmtm.save_graph()\n",
    "os.chdir(\"../../\")"
   ]
  },
  {
   "cell_type": "code",
   "execution_count": null,
   "id": "2401be65",
   "metadata": {},
   "outputs": [],
   "source": [
    "gt.draw_hierarchy(sbmtm.state, layout=\"bipartite\", hedge_pen_width=8, hvertex_size=25, vertex_color=sbmtm.g.vertex_properties[\"kind\"])"
   ]
  },
  {
   "cell_type": "code",
   "execution_count": null,
   "id": "1302c543",
   "metadata": {},
   "outputs": [],
   "source": [
    "with open(\"sbmtm.pkl\", \"wb\") as file:\n",
    "    pickle.dump(sbmtm, file)"
   ]
  },
  {
   "cell_type": "markdown",
   "id": "0a0cccbd",
   "metadata": {},
   "source": [
    "## triSBM"
   ]
  },
  {
   "cell_type": "code",
   "execution_count": null,
   "id": "c93dcf8d",
   "metadata": {},
   "outputs": [],
   "source": [
    "%load_ext autoreload\n",
    "%autoreload 2\n",
    "sys.path.append(\"../../trisbm/\")\n",
    "from trisbm import trisbm"
   ]
  },
  {
   "cell_type": "code",
   "execution_count": null,
   "id": "ff2b911e",
   "metadata": {},
   "outputs": [],
   "source": [
    "trisbm = trisbm()\n",
    "trisbm.make_graph(df.append(df_meta), lambda word_keyword: 2 if word_keyword in df_meta.index else 1)\n",
    "#trisbm.make_graph(df.append(df_authors), lambda word_keyword: 2 if word_keyword in df_authors.index else 1)"
   ]
  },
  {
   "cell_type": "code",
   "execution_count": null,
   "id": "996db025",
   "metadata": {},
   "outputs": [],
   "source": [
    "trisbm.save_graph(\"aps_key.xml.gz\")"
   ]
  },
  {
   "cell_type": "code",
   "execution_count": null,
   "id": "b679e910",
   "metadata": {},
   "outputs": [],
   "source": [
    "trisbm.fit(n_init=5, verbose=False, B_min=15)"
   ]
  },
  {
   "cell_type": "code",
   "execution_count": null,
   "id": "0383080f",
   "metadata": {},
   "outputs": [],
   "source": [
    "import os"
   ]
  },
  {
   "cell_type": "code",
   "execution_count": null,
   "id": "c18fec7d",
   "metadata": {},
   "outputs": [],
   "source": [
    "os.system(\"rm -rf aps_key\")\n",
    "os.system(\"mkdir -p aps_key\")\n",
    "os.chdir(\"aps_key/\")\n",
    "df_files.to_csv(\"files.dat\")\n",
    "os.system(\"mkdir -p trisbm\")\n",
    "os.chdir(\"trisbm/\")\n",
    "trisbm.save_data()\n",
    "trisbm.save_graph()\n",
    "os.chdir(\"../../\")"
   ]
  },
  {
   "cell_type": "code",
   "execution_count": null,
   "id": "4d9cefe0",
   "metadata": {},
   "outputs": [],
   "source": [
    "gt.draw_hierarchy(trisbm.state, \n",
    "                  #pos=gt.sfdp_layout(model.g),\n",
    "                  hedge_pen_width=8, \n",
    "                  hvertex_size=25, \n",
    "                  vertex_color=trisbm.g.vertex_properties[\"kind\"]\n",
    "                 )"
   ]
  },
  {
   "cell_type": "code",
   "execution_count": null,
   "id": "86840f20",
   "metadata": {},
   "outputs": [],
   "source": [
    "with open(\"trisbm_key.pkl\", \"wb\") as file:\n",
    "    pickle.dump(trisbm, file)"
   ]
  },
  {
   "cell_type": "markdown",
   "id": "c928fe31",
   "metadata": {},
   "source": [
    "## nSBM"
   ]
  },
  {
   "cell_type": "code",
   "execution_count": null,
   "id": "b2deb6d7",
   "metadata": {},
   "outputs": [],
   "source": [
    "%load_ext autoreload\n",
    "%autoreload 2\n",
    "sys.path.append(\"../../trisbm/\")\n",
    "from trisbm import trisbm"
   ]
  },
  {
   "cell_type": "code",
   "execution_count": null,
   "id": "53c51f7f",
   "metadata": {},
   "outputs": [],
   "source": [
    "nsbm = trisbm()\n",
    "nsbm.make_graph_multiple_df(df, [df_meta, df_authors])"
   ]
  },
  {
   "cell_type": "code",
   "execution_count": null,
   "id": "8591d458",
   "metadata": {},
   "outputs": [],
   "source": [
    "nsbm.save_graph(\"aps_authors.xml.gz\")"
   ]
  },
  {
   "cell_type": "code",
   "execution_count": null,
   "id": "1b0b5b34",
   "metadata": {},
   "outputs": [],
   "source": [
    "nsbm.fit(n_init=5, verbose=False, B_min=20)"
   ]
  },
  {
   "cell_type": "code",
   "execution_count": null,
   "id": "7a209a71",
   "metadata": {},
   "outputs": [],
   "source": [
    "import os"
   ]
  },
  {
   "cell_type": "code",
   "execution_count": null,
   "id": "dd1d785a",
   "metadata": {},
   "outputs": [],
   "source": [
    "os.system(\"rm -rf aps_authors_count\")\n",
    "os.system(\"mkdir -p aps_authors_count\")\n",
    "os.chdir(\"aps_authors_count/\")\n",
    "df_files.to_csv(\"files.dat\")\n",
    "os.system(\"mkdir -p trisbm\")\n",
    "os.chdir(\"trisbm/\")\n",
    "nsbm.save_data()\n",
    "nsbm.save_graph()\n",
    "os.chdir(\"../../\")"
   ]
  },
  {
   "cell_type": "code",
   "execution_count": null,
   "id": "74ced81e",
   "metadata": {},
   "outputs": [],
   "source": [
    "nsbm.draw( \n",
    "                  #subsample_edges=20000,\n",
    "                  hedge_pen_width=8, \n",
    "                  hvertex_size=25, \n",
    "                  vertex_size=8,\n",
    "                  #vertex_color=nsbm.g.vertex_properties[\"kind\"],\n",
    "                  #vertex_fill_color=nsbm.g.vertex_properties[\"kind\"],\n",
    "                  edge_color=\"red\",\n",
    "                  #edge_pen_width=nsbm.g.edge_properties[\"count\"]\n",
    "                  output=\"nsbm_auth.png\"\n",
    "                 )"
   ]
  },
  {
   "cell_type": "code",
   "execution_count": null,
   "id": "d07d8117",
   "metadata": {},
   "outputs": [],
   "source": [
    "with open(\"nsbm.pkl\", \"wb\") as file:\n",
    "    pickle.dump(nsbm, file)"
   ]
  },
  {
   "cell_type": "markdown",
   "id": "63e4941c",
   "metadata": {},
   "source": [
    "## Benchmark"
   ]
  },
  {
   "cell_type": "code",
   "execution_count": null,
   "id": "f010e651",
   "metadata": {},
   "outputs": [],
   "source": [
    "from topicpy.hsbmpy import get_scores, get_scores_shuffled, add_score_lines, normalise_score\n",
    "import matplotlib.pyplot as plt\n",
    "import pandas as pd\n",
    "import os"
   ]
  },
  {
   "cell_type": "code",
   "execution_count": null,
   "id": "34a47349",
   "metadata": {},
   "outputs": [],
   "source": [
    "labels = [\"journal\"]\n",
    "scores = get_scores(\"aps_key\", labels, algorithm=\"trisbm\", verbose=False)\n",
    "scores['trisbm'] = scores[labels[0]]\n",
    "scores[\"hsbm\"]=get_scores(\"aps\", labels, algorithm=\"topsbm\", verbose=False)[labels[0]]\n",
    "scores[\"trisbm_zip\"] = get_scores(\"aps_zip\", labels, algorithm=\"trisbm\", verbose=False)[labels[0]]\n",
    "scores[\"trisbm_nauth\"] = get_scores(\"aps_auth\", labels, algorithm=\"trisbm\", verbose=False)[labels[0]]\n",
    "scores[\"nsbm_nauth\"]=get_scores(\"aps_authors_count\", labels, algorithm=\"trisbm\", verbose=False)[labels[0]]\n",
    "#scores[\"nsbm_zip\"]=get_scores(\"aps_zip\", labels, algorithm=\"trisbm\", verbose=False)[labels[0]]\n",
    "scores['shuffle'] = get_scores_shuffled(\"aps_key\", pd.read_csv(\"aps/files.dat\", sep=\",\", index_col=0), label=labels[0], algorithm='trisbm')\n",
    "normalise_score(scores, base_algorithm=\"shuffle\", operation=lambda x,y: x/y)"
   ]
  },
  {
   "cell_type": "code",
   "execution_count": null,
   "id": "650cad87",
   "metadata": {},
   "outputs": [],
   "source": [
    "fig=plt.figure(figsize=(18,15))\n",
    "ax = fig.subplots(1)\n",
    "add_score_lines(ax,scores,labels=[\"hsbm\", \"trisbm\", \"trisbm_zip\", \"trisbm_nauth\", \"nsbm_nauth\", \"shuffle\"], V=\"norm_V\", alpha=1)\n",
    "ax.set_xscale('log')\n",
    "ax.set_ylim(0,max(map(lambda s: max(s[\"norm_V\"]), scores.values()))*1.1)\n",
    "ax.set_xlim(0,10)\n",
    "ax.set_xscale(\"linear\")\n",
    "\n",
    "plt.show()\n",
    "fig.savefig(\"metric_scores.pdf\")"
   ]
  },
  {
   "cell_type": "code",
   "execution_count": null,
   "id": "954fe973",
   "metadata": {},
   "outputs": [],
   "source": [
    "import plotly.graph_objects as go"
   ]
  },
  {
   "cell_type": "code",
   "execution_count": null,
   "id": "7cc969e6",
   "metadata": {},
   "outputs": [],
   "source": [
    "fig = go.Figure()\n",
    "fig.add_traces([\n",
    "    go.Bar(x=[0], y = [sbmtm.get_mdl()/sbmtm.g.num_edges()], name=\"hSBM\"),\n",
    "    go.Bar(x=[1],y = [trisbm.get_mdl()/trisbm.g.num_edges()], name=\"triSBM\"),\n",
    "    go.Bar(x=[2],y = [nsbm.get_mdl()/nsbm.g.num_edges()], name=\"tetraSBM\")\n",
    "])\n",
    "\n",
    "titlefont = {\n",
    "    \"size\": 30 \n",
    "}\n",
    "\n",
    "tickfont = {\n",
    "    \"size\":25\n",
    "}\n",
    "\n",
    "layout = {\n",
    "    \"title\":\"APS dataset\",\n",
    "    \"xaxis\":{\n",
    "        \"title\": \"Setting\",\n",
    "        \"titlefont\": titlefont,\n",
    "        \"tickfont\": tickfont,\n",
    "        \"tickmode\":\"array\",\n",
    "        \"tickvals\":[0,1,2],\n",
    "        \"ticktext\":[\"hSBM\", \"triSBM\", \"nSBM\"]\n",
    "    },\n",
    "    \"yaxis\":{\n",
    "        \"title\": \"∑/E\",\n",
    "        \"type\":\"log\",\n",
    "        #\"range\": [10e3,20e3],\n",
    "        \"titlefont\": titlefont,\n",
    "        \"tickfont\": tickfont\n",
    "    },\n",
    "    \"legend\":{\n",
    "        \"font_size\":35\n",
    "    }\n",
    "}\n",
    "\n",
    "fig.update_layout(layout)\n",
    "fig.show()\n",
    "\n",
    "fig.write_image(\"metric_entropies_bar_htrisn.pdf\")"
   ]
  },
  {
   "cell_type": "code",
   "execution_count": null,
   "id": "b0e47cf2",
   "metadata": {},
   "outputs": [],
   "source": [
    "fig = go.Figure()\n",
    "fig.add_traces([\n",
    "    go.Bar(x=[0], y = [sbmtm.get_mdl()/sbmtm.g.num_edges()], name=\"just words\"),\n",
    "    go.Bar(x=[1],y = [trisbm.get_mdl()/trisbm.g.num_edges()], name=\"keywords\"),\n",
    "    go.Bar(x=[2],y = [trisbm_zip.get_mdl()/trisbm_zip.g.num_edges()], name=\"zip codes\"),\n",
    "    go.Bar(x=[3],y = [trisbm_nauth.get_mdl()/trisbm_nauth.g.num_edges()], name=\"authors\"),\n",
    "    go.Bar(x=[4],y = [nsbm.get_mdl()/nsbm.g.num_edges()], name=\"tetraSBM\"),\n",
    "])\n",
    "\n",
    "titlefont = {\n",
    "    \"size\": 30 \n",
    "}\n",
    "\n",
    "tickfont = {\n",
    "    \"size\":25\n",
    "}\n",
    "\n",
    "layout = {\n",
    "    \"title\":\"APS dataset\",\n",
    "    \"xaxis\":{\n",
    "        \"title\": \"Setting\",\n",
    "        \"titlefont\": titlefont,\n",
    "        \"tickfont\": tickfont,\n",
    "        \"tickmode\":\"array\",\n",
    "        \"tickvals\":[0,1,2,3,4],\n",
    "        \"ticktext\":[\"hSBM\", \"keywords\", \"zip codes\", \"authors\", \"keywords <br> authors\"]\n",
    "    },\n",
    "    \"yaxis\":{\n",
    "        \"title\": \"∑/E\",\n",
    "        \"type\":\"log\",\n",
    "        #\"range\": [10e3,20e3],\n",
    "        \"titlefont\": titlefont,\n",
    "        \"tickfont\": tickfont\n",
    "    },\n",
    "    \"legend\":{\n",
    "        \"font_size\":35\n",
    "    }\n",
    "}\n",
    "\n",
    "fig.update_layout(layout)\n",
    "fig.show()\n",
    "\n",
    "fig.write_image(\"metric_entropies_bar_kinds.pdf\")"
   ]
  },
  {
   "cell_type": "code",
   "execution_count": null,
   "id": "31cc49f4",
   "metadata": {},
   "outputs": [],
   "source": [
    "fig = go.Figure()\n",
    "fig.add_traces([\n",
    "    go.Bar(y=[max(scores[\"hsbm\"][\"norm_V\"])], name=\"hSBM\"),\n",
    "    go.Bar(y=[max(scores[\"trisbm\"][\"norm_V\"])], name=\"keywords\"),\n",
    "    go.Bar(y=[max(scores[\"trisbm_zip\"][\"norm_V\"])], name=\"zip codes\"),\n",
    "    go.Bar(y=[max(scores[\"trisbm_nauth\"][\"norm_V\"])], name=\"n authors\"),\n",
    "    go.Bar(y=[max(scores[\"nsbm_nauth\"][\"norm_V\"])], name=\"keywords<br>+nauthors\")\n",
    "])\n",
    "\n",
    "titlefont = {\n",
    "    \"size\": 30 \n",
    "}\n",
    "\n",
    "tickfont = {\n",
    "    \"size\":25\n",
    "}\n",
    "\n",
    "layout = {\n",
    "    \"title\":\"APS dataset\",\n",
    "    \"xaxis\":{\n",
    "        \"title\": \"Setting\",\n",
    "        \"titlefont\": titlefont,\n",
    "        \"tickfont\": tickfont\n",
    "    },\n",
    "    \"yaxis\":{\n",
    "        \"title\": \"NMI/NMI*\",\n",
    "        \"titlefont\": titlefont,\n",
    "        \"tickfont\": tickfont\n",
    "    },\n",
    "    \"legend\":{\n",
    "        \"font_size\":35\n",
    "    }\n",
    "}\n",
    "\n",
    "fig.update_layout(layout)\n",
    "fig.show()\n",
    "fig.write_image(\"metric_scores_kinds.pdf\")"
   ]
  },
  {
   "cell_type": "code",
   "execution_count": null,
   "id": "792da2b8",
   "metadata": {},
   "outputs": [],
   "source": [
    "from topicpy.hsbmpy import clusteranalysis"
   ]
  },
  {
   "cell_type": "code",
   "execution_count": null,
   "id": "0b51b0fa",
   "metadata": {},
   "outputs": [],
   "source": [
    "clusteranalysis(os.getcwd()+\"/aps/\", [\"journal\"], algorithm=\"topsbm\")\n",
    "clusteranalysis(os.getcwd()+\"/aps_key/\", [\"journal\"], algorithm=\"trisbm\")"
   ]
  },
  {
   "cell_type": "markdown",
   "id": "cd074b89",
   "metadata": {},
   "source": [
    "# Meta-metadata"
   ]
  },
  {
   "cell_type": "code",
   "execution_count": null,
   "id": "f54409e1",
   "metadata": {},
   "outputs": [],
   "source": [
    "for model in [trisbm, trisbm_zip, trisbm_nauth, nsbm]:\n",
    "    print(model._get_shape())\n",
    "    print(model.keywords)"
   ]
  },
  {
   "cell_type": "markdown",
   "id": "799e1f2c",
   "metadata": {},
   "source": [
    "# Read"
   ]
  },
  {
   "cell_type": "code",
   "execution_count": null,
   "id": "8e814655",
   "metadata": {},
   "outputs": [],
   "source": [
    "import cloudpickle as pickle\n",
    "\n",
    "with open(\"sbmtm.pkl\", \"rb\") as file:\n",
    "    sbmtm = pickle.load(file)\n",
    "    \n",
    "with open(\"trisbm.pkl\", \"rb\") as file:\n",
    "    trisbm = pickle.load(file)\n",
    "\n",
    "with open(\"trisbm_zip.pkl\", \"rb\") as file:\n",
    "    trisbm_zip = pickle.load(file)\n",
    "    \n",
    "with open(\"trisbm_auth.pkl\", \"rb\") as file:\n",
    "    trisbm_nauth = pickle.load(file)\n",
    "    \n",
    "with open(\"nsbm.pkl\", \"rb\") as file:\n",
    "    nsbm = pickle.load(file)"
   ]
  },
  {
   "cell_type": "code",
   "execution_count": null,
   "id": "54fc9d76",
   "metadata": {},
   "outputs": [],
   "source": []
  }
 ],
 "metadata": {
  "kernelspec": {
   "display_name": "Python 3",
   "language": "python",
   "name": "python3"
  },
  "language_info": {
   "codemirror_mode": {
    "name": "ipython",
    "version": 3
   },
   "file_extension": ".py",
   "mimetype": "text/x-python",
   "name": "python",
   "nbconvert_exporter": "python",
   "pygments_lexer": "ipython3",
   "version": "3.8.8"
  }
 },
 "nbformat": 4,
 "nbformat_minor": 5
}
