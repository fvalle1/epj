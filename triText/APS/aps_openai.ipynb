{
 "cells": [
  {
   "cell_type": "code",
   "execution_count": null,
   "id": "05b5881a",
   "metadata": {},
   "outputs": [],
   "source": [
    "%load_ext watermark\n",
    "%watermark  -a Filippo_Valle -v -m -g -r -v -p pandas,numpy,graph_tool,cloudpickle,regex,topicpy,matplotlib,plotly"
   ]
  },
  {
   "cell_type": "code",
   "execution_count": null,
   "id": "03f5de08",
   "metadata": {},
   "outputs": [],
   "source": [
    "import pandas as pd\n",
    "import json\n",
    "import os\n",
    "import regex as re\n",
    "import numpy as np\n",
    "import graph_tool.all as gt\n",
    "import logging\n",
    "import cloudpickle as pickle\n",
    "log = logging.getLogger(\"aps\")\n",
    "log.addHandler(logging.StreamHandler())\n",
    "log.setLevel(logging.DEBUG)\n",
    "import sys\n",
    "sys.path.append(\"../\")\n",
    "from nlp import singularize, process_phrase"
   ]
  },
  {
   "cell_type": "code",
   "execution_count": null,
   "id": "a59ffabe",
   "metadata": {},
   "outputs": [],
   "source": [
    "os.listdir(\"aps-dataset-metadata-2020/\")"
   ]
  },
  {
   "cell_type": "code",
   "execution_count": null,
   "id": "75003e95",
   "metadata": {},
   "outputs": [],
   "source": [
    "def parse_article(filename):\n",
    "    with open(filename, \"r\") as file:\n",
    "        article = json.loads(file.read())\n",
    "    doi = article[\"id\"]\n",
    "    title = article[\"title\"][\"value\"]\n",
    "    try:\n",
    "        labels = [label[\"label\"] for label in article[\"classificationSchemes\"][\"physh\"][\"disciplines\"]]\n",
    "    except:\n",
    "        labels = []\n",
    "    \n",
    "    journal = article[\"journal\"][\"id\"]\n",
    "    authors = [author[\"surname\"] for author in article[\"authors\"]]\n",
    "    \n",
    "    try:\n",
    "        pattern = \"[0-9]{4,11}\" #ZIPCODE\n",
    "        nations = np.unique([re.search(pattern,affiliation[\"name\"]).group() for affiliation in article[\"affiliations\"] if re.search(pattern, affiliation[\"name\"]) is not None])\n",
    "    except:\n",
    "        nations = []\n",
    "    return doi, title, labels, journal, authors, nations\n",
    "    \n",
    "parse_article(\"aps-dataset-metadata-2020/PRX/8/PhysRevX.8.021023.json\")\n",
    "#parse_article(\"aps-dataset-metadata-2020/PRD/102/PhysRevD.102.014505.json\")"
   ]
  },
  {
   "cell_type": "code",
   "execution_count": null,
   "id": "a6f9d681",
   "metadata": {},
   "outputs": [],
   "source": [
    "#10.1103/PhysRevD.102.014505"
   ]
  },
  {
   "cell_type": "code",
   "execution_count": null,
   "id": "0ca17078",
   "metadata": {},
   "outputs": [],
   "source": [
    "def get_journal_dfs(journal):\n",
    "    issue = \"aps-dataset-metadata-2020/{}/{}/\".format(journal, \"1\" if \"E\" not in journal else \"100\")\n",
    "    articles = os.listdir(issue)[:2500]\n",
    "    labelled = []\n",
    "    for article in articles:\n",
    "        doi, title, labels, journal, authors, areas = parse_article(issue+article)\n",
    "        title = process_phrase(title)\n",
    "        words = title.split(\" \")\n",
    "        labelled.append(\n",
    "        {\n",
    "            \"text\": title,\n",
    "            \"label\": journal,\n",
    "            \"metadata\":{\n",
    "                \"labels\": \",\".join(labels),\n",
    "                \"authors\": \",\".join(authors),\n",
    "                \"doi\": doi,\n",
    "                \"areas\": \",\".join(areas)\n",
    "            }\n",
    "        })\n",
    "    return labelled"
   ]
  },
  {
   "cell_type": "code",
   "execution_count": null,
   "id": "ee60d4f2",
   "metadata": {},
   "outputs": [],
   "source": [
    "import multiprocessing as mp"
   ]
  },
  {
   "cell_type": "code",
   "execution_count": null,
   "id": "6ccfb327",
   "metadata": {},
   "outputs": [],
   "source": [
    "pool = mp.Pool(12)\n",
    "\n",
    "work = pool.map_async(get_journal_dfs, [\"PRA\", \"PRB\", \"PRC\", \"PRD\", \"PRE\"], error_callback=lambda err: log.debug(err))\n",
    "\n",
    "pool.close()\n",
    "pool.join()"
   ]
  },
  {
   "cell_type": "code",
   "execution_count": null,
   "id": "b5990e84",
   "metadata": {},
   "outputs": [],
   "source": [
    "data = np.concatenate(work.get())"
   ]
  },
  {
   "cell_type": "code",
   "execution_count": null,
   "id": "cde84736",
   "metadata": {},
   "outputs": [],
   "source": [
    "from sklearn.model_selection import train_test_split"
   ]
  },
  {
   "cell_type": "code",
   "execution_count": null,
   "id": "376467fc",
   "metadata": {},
   "outputs": [],
   "source": [
    "train, test = train_test_split(data, test_size=500)"
   ]
  },
  {
   "cell_type": "code",
   "execution_count": null,
   "id": "e0c4ce6b",
   "metadata": {},
   "outputs": [],
   "source": [
    "len(test)"
   ]
  },
  {
   "cell_type": "code",
   "execution_count": null,
   "id": "080c699a",
   "metadata": {},
   "outputs": [],
   "source": [
    "import json\n",
    "with open(\"train.jsonl\", \"w\") as file:\n",
    "    for article in train:\n",
    "        file.write(json.dumps(article)+\"\\n\")"
   ]
  },
  {
   "cell_type": "markdown",
   "id": "e6904378",
   "metadata": {},
   "source": [
    "# Make OpenAI file"
   ]
  },
  {
   "cell_type": "code",
   "execution_count": null,
   "id": "7bfc5df8",
   "metadata": {},
   "outputs": [],
   "source": [
    "import openai\n",
    "import os\n",
    "openai.api_key = os.environ[\"OPENAI_KEY\"]"
   ]
  },
  {
   "cell_type": "code",
   "execution_count": null,
   "id": "215aa20a",
   "metadata": {},
   "outputs": [],
   "source": [
    "response = openai.File.create(file=open(\"train.jsonl\"), purpose=\"classifications\")\n",
    "response"
   ]
  },
  {
   "cell_type": "code",
   "execution_count": null,
   "id": "c693071b",
   "metadata": {},
   "outputs": [],
   "source": [
    "def get_prediction(text, file_id):\n",
    "    try:\n",
    "        response = openai.Classification.create(\n",
    "            file=file_id,\n",
    "            query=text[\"text\"],\n",
    "            search_model=\"ada\", \n",
    "            model=\"curie\", \n",
    "            max_examples=0\n",
    "        )\n",
    "        return text[\"metadata\"][\"doi\"], response.get(\"label\")\n",
    "    except:\n",
    "        return text[\"metadata\"][\"doi\"], None\n",
    "    \n",
    "get_prediction(test[0], response.get(\"id\"))"
   ]
  },
  {
   "cell_type": "code",
   "execution_count": null,
   "id": "e1f7cbaa",
   "metadata": {},
   "outputs": [],
   "source": [
    "results = pd.DataFrame(columns=[\"doi\", \"class\", \"predicted\"])\n",
    "for article in test:\n",
    "    res = get_prediction(article, response.get(\"id\"))\n",
    "    results = results.append(pd.Series(index=[\"doi\", \"class\", \"predicted\"], data = [res[0], article[\"label\"],res[1]]), ignore_index=True)"
   ]
  },
  {
   "cell_type": "code",
   "execution_count": null,
   "id": "95e5b92a",
   "metadata": {},
   "outputs": [],
   "source": [
    "results.dropna(how=\"any\", axis=0, inplace=True)\n",
    "results.head()"
   ]
  },
  {
   "cell_type": "code",
   "execution_count": null,
   "id": "89e4a22d",
   "metadata": {},
   "outputs": [],
   "source": [
    "from sklearn.metrics import v_measure_score"
   ]
  },
  {
   "cell_type": "code",
   "execution_count": null,
   "id": "68c72cf7",
   "metadata": {},
   "outputs": [],
   "source": [
    "openai_score = v_measure_score(results[\"class\"],results[\"predicted\"])"
   ]
  },
  {
   "cell_type": "markdown",
   "id": "5b5f4270",
   "metadata": {},
   "source": [
    "## Benchmark"
   ]
  },
  {
   "cell_type": "code",
   "execution_count": null,
   "id": "affd5c8f",
   "metadata": {},
   "outputs": [],
   "source": [
    "from topicpy.hsbmpy import get_scores, get_scores_shuffled, add_score_lines, normalise_score\n",
    "import matplotlib.pyplot as plt\n",
    "import pandas as pd\n",
    "import os"
   ]
  },
  {
   "cell_type": "code",
   "execution_count": null,
   "id": "b90d686b",
   "metadata": {},
   "outputs": [],
   "source": [
    "labels = [\"journal\"]\n",
    "scores = get_scores(\"aps_key\", labels, algorithm=\"trisbm\", verbose=False)\n",
    "scores['trisbm'] = scores[labels[0]]\n",
    "scores[\"hsbm\"]=get_scores(\"aps\", labels, algorithm=\"topsbm\", verbose=False)[labels[0]]\n",
    "scores[\"trisbm_zip\"] = get_scores(\"aps_zip\", labels, algorithm=\"trisbm\", verbose=False)[labels[0]]\n",
    "scores[\"trisbm_nauth\"] = get_scores(\"aps_auth\", labels, algorithm=\"trisbm\", verbose=False)[labels[0]]\n",
    "scores[\"nsbm_nauth\"]=get_scores(\"aps_authors_count\", labels, algorithm=\"trisbm\", verbose=False)[labels[0]]\n",
    "#scores[\"nsbm_zip\"]=get_scores(\"aps_zip\", labels, algorithm=\"trisbm\", verbose=False)[labels[0]]\n",
    "scores['shuffle'] = get_scores_shuffled(\"aps_key\", pd.read_csv(\"aps/files.dat\", sep=\",\", index_col=0), label=labels[0], algorithm='trisbm')\n",
    "normalise_score(scores, base_algorithm=\"shuffle\", operation=lambda x,y: x/y)"
   ]
  },
  {
   "cell_type": "code",
   "execution_count": null,
   "id": "8950ff80",
   "metadata": {},
   "outputs": [],
   "source": [
    "openai_x = len(results[\"predicted\"].unique()) \n",
    "norm_fact = np.interp(openai_x,np.sort(scores[\"shuffle\"][\"xl\"]),np.array(scores[\"shuffle\"][\"V\"])[np.argsort(scores[\"shuffle\"][\"xl\"])])\n",
    "openai_score_norm = openai_score/norm_fact"
   ]
  },
  {
   "cell_type": "code",
   "execution_count": null,
   "id": "80b57be7",
   "metadata": {},
   "outputs": [],
   "source": [
    "fig=plt.figure(figsize=(18,15))\n",
    "ax = fig.subplots(1)\n",
    "ax.scatter(openai_x, openai_score_norm, s = 5000, c=\"red\", marker=\".\", label=\"openai\")\n",
    "\n",
    "add_score_lines(ax,scores,labels=[\"hsbm\", \"trisbm\", \"trisbm_zip\", \"trisbm_nauth\", \"nsbm_nauth\", \"shuffle\"], V=\"norm_V\", alpha=1)\n",
    "ax.set_xscale('log')\n",
    "ax.set_ylim(0,max(map(lambda s: max(s[\"norm_V\"]), scores.values()))*1.1)\n",
    "ax.set_xlim(1,10)\n",
    "ax.set_xscale(\"linear\")\n",
    "\n",
    "plt.show()\n",
    "#fig.savefig(\"metric_scores.pdf\")"
   ]
  },
  {
   "cell_type": "code",
   "execution_count": null,
   "id": "ea08e036",
   "metadata": {},
   "outputs": [],
   "source": [
    "import plotly.graph_objects as go"
   ]
  },
  {
   "cell_type": "code",
   "execution_count": null,
   "id": "520fc1aa",
   "metadata": {},
   "outputs": [],
   "source": [
    "fig = go.Figure()\n",
    "fig.add_traces([\n",
    "    go.Bar(y=[max(scores[\"hsbm\"][\"V\"])], name=\"hSBM\"),\n",
    "    go.Bar(y=[max(scores[\"trisbm\"][\"V\"])], name=\"keywords\"),\n",
    "    #go.Bar(y=[max(scores[\"trisbm_zip\"][\"norm_V\"])], name=\"zip codes\"),\n",
    "    #go.Bar(y=[max(scores[\"trisbm_nauth\"][\"norm_V\"])], name=\"n authors\"),\n",
    "    #go.Bar(y=[max(scores[\"nsbm_nauth\"][\"V\"])], name=\"keywords<br>+nauthors\"),\n",
    "    go.Bar(y=[openai_score], name=\"openAI\")\n",
    "])\n",
    "\n",
    "titlefont = {\n",
    "    \"size\": 30 \n",
    "}\n",
    "\n",
    "tickfont = {\n",
    "    \"size\":25\n",
    "}\n",
    "\n",
    "layout = {\n",
    "    \"title\":\"APS dataset\",\n",
    "    \"xaxis\":{\n",
    "        \"title\": \"Setting\",\n",
    "        \"titlefont\": titlefont,\n",
    "        \"tickfont\": tickfont\n",
    "    },\n",
    "    \"yaxis\":{\n",
    "        \"title\": \"NMI\",\n",
    "        \"titlefont\": titlefont,\n",
    "        \"tickfont\": tickfont\n",
    "    },\n",
    "    \"legend\":{\n",
    "        \"font_size\":25\n",
    "    }\n",
    "}\n",
    "\n",
    "fig.update_layout(layout)\n",
    "fig.show()\n",
    "fig.write_image(\"metric_scores_kinds_openai.pdf\")"
   ]
  },
  {
   "cell_type": "code",
   "execution_count": null,
   "id": "5475ff38",
   "metadata": {},
   "outputs": [],
   "source": []
  }
 ],
 "metadata": {
  "kernelspec": {
   "display_name": "Python 3",
   "language": "python",
   "name": "python3"
  },
  "language_info": {
   "codemirror_mode": {
    "name": "ipython",
    "version": 3
   },
   "file_extension": ".py",
   "mimetype": "text/x-python",
   "name": "python",
   "nbconvert_exporter": "python",
   "pygments_lexer": "ipython3",
   "version": "3.8.8"
  }
 },
 "nbformat": 4,
 "nbformat_minor": 5
}
