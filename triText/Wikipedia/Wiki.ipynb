{
 "cells": [
  {
   "cell_type": "code",
   "execution_count": 1,
   "id": "b37925cf",
   "metadata": {},
   "outputs": [
    {
     "name": "stdout",
     "output_type": "stream",
     "text": [
      "Author: Filippo_Valle\n",
      "\n",
      "Python implementation: CPython\n",
      "Python version       : 3.8.8\n",
      "IPython version      : 7.22.0\n",
      "\n",
      "pandas     : 1.2.3\n",
      "numpy      : 1.19.0\n",
      "graph_tool : 2.37 (commit afba9459, )\n",
      "cloudpickle: 1.6.0\n",
      "regex      : 2021.4.4\n",
      "topicpy    : 0.2.1\n",
      "matplotlib : 3.4.1\n",
      "plotly     : 4.14.3\n",
      "requests   : 2.25.1\n",
      "\n",
      "Compiler    : GCC 9.3.0\n",
      "OS          : Linux\n",
      "Release     : 5.8.0-50-generic\n",
      "Machine     : x86_64\n",
      "Processor   : x86_64\n",
      "CPU cores   : 12\n",
      "Architecture: 64bit\n",
      "\n",
      "Git hash: aec0cb27d23e921cf53771b154b07fadbbd6854a\n",
      "\n",
      "Git repo: git@github.com:fvalle1/epj.git\n",
      "\n"
     ]
    }
   ],
   "source": [
    "%load_ext watermark\n",
    "%watermark  -a Filippo_Valle -v -m -g -r -v -p pandas,numpy,graph_tool,cloudpickle,regex,topicpy,matplotlib,plotly,requests"
   ]
  },
  {
   "cell_type": "code",
   "execution_count": 2,
   "id": "cce98076",
   "metadata": {},
   "outputs": [],
   "source": [
    "import requests\n",
    "import pandas as pd"
   ]
  },
  {
   "cell_type": "code",
   "execution_count": 3,
   "id": "c4e4bba4",
   "metadata": {},
   "outputs": [
    {
     "data": {
      "text/plain": [
       "array(['Nuclear_Overhauser_effect', 'Quantum_solvent',\n",
       "       'Rovibrational_coupling'], dtype=object)"
      ]
     },
     "execution_count": 3,
     "metadata": {},
     "output_type": "execute_result"
    }
   ],
   "source": [
    "titles = pd.read_table(\"../../hSBM_Topicmodel/titles.txt\", sep=\" \", header=None)[0].values\n",
    "titles[:3]"
   ]
  },
  {
   "cell_type": "code",
   "execution_count": 4,
   "id": "c8a57e5e",
   "metadata": {},
   "outputs": [],
   "source": [
    "df_files = pd.read_csv(\"../../hSBM_Topicmodel/titles.txt\", sep=\" \", index_col=0, names=[\"Topic\"])"
   ]
  },
  {
   "cell_type": "code",
   "execution_count": null,
   "id": "070a2ce2",
   "metadata": {},
   "outputs": [],
   "source": [
    "url = \"https://en.wikipedia.org/w/api.php\"\n",
    "\n",
    "def get_categories(title):\n",
    "    params = {\n",
    "        \"action\": \"query\",\n",
    "        \"format\": \"json\",\n",
    "        \"prop\": \"categories\",\n",
    "        \"titles\": title\n",
    "    }\n",
    "    to_ret = []\n",
    "    with requests.get(url=url, params=params) as req:\n",
    "        if req.status_code==200:\n",
    "            data = req.json()\n",
    "            pages = data[\"query\"][\"pages\"]\n",
    "            for k, v in pages.items():\n",
    "                if \"categories\" not in v.keys():\n",
    "                    continue\n",
    "                for cat in v['categories']:\n",
    "                    to_ret.append(cat[\"title\"].split(\":\")[1])\n",
    "    return to_ret"
   ]
  },
  {
   "cell_type": "code",
   "execution_count": null,
   "id": "1c31e8a4",
   "metadata": {},
   "outputs": [],
   "source": [
    "df_meta=pd.DataFrame()"
   ]
  },
  {
   "cell_type": "code",
   "execution_count": null,
   "id": "ab90d88f",
   "metadata": {},
   "outputs": [],
   "source": [
    "for title in titles:\n",
    "    df_meta=df_meta.join(pd.Series(name=title, index=get_categories(title), data = 1), how=\"outer\")"
   ]
  },
  {
   "cell_type": "code",
   "execution_count": null,
   "id": "5962ceb1",
   "metadata": {},
   "outputs": [],
   "source": [
    "df_meta = df_meta.fillna(0).astype(int).drop_duplicates()"
   ]
  },
  {
   "cell_type": "code",
   "execution_count": null,
   "id": "6955ac10",
   "metadata": {},
   "outputs": [],
   "source": [
    "df_meta = df_meta.reindex(index=df_meta.index[(df_meta.sum(1)>1)].drop_duplicates())"
   ]
  },
  {
   "cell_type": "code",
   "execution_count": null,
   "id": "0a72e222",
   "metadata": {},
   "outputs": [],
   "source": [
    "with open(\"../../hSBM_Topicmodel/corpus.txt\", \"r\") as file:\n",
    "    texts = file.readlines()\n",
    "texts = [h.split() for h in texts[1:]]"
   ]
  },
  {
   "cell_type": "markdown",
   "id": "09445bc6",
   "metadata": {},
   "source": [
    "# Make hSBM graph"
   ]
  },
  {
   "cell_type": "code",
   "execution_count": null,
   "id": "f50daf6f",
   "metadata": {},
   "outputs": [],
   "source": [
    "import sys\n",
    "import os\n",
    "import graph_tool.all as gt\n",
    "sys.path.append(\"../../hSBM_Topicmodel/\")"
   ]
  },
  {
   "cell_type": "code",
   "execution_count": null,
   "id": "dae32fb0",
   "metadata": {},
   "outputs": [],
   "source": [
    "from sbmtm import sbmtm"
   ]
  },
  {
   "cell_type": "code",
   "execution_count": null,
   "id": "1698a98d",
   "metadata": {},
   "outputs": [],
   "source": [
    "sbmtm = sbmtm()\n",
    "sbmtm.make_graph(texts, list(titles))"
   ]
  },
  {
   "cell_type": "code",
   "execution_count": null,
   "id": "df0b1c84",
   "metadata": {},
   "outputs": [],
   "source": [
    "g = sbmtm.g"
   ]
  },
  {
   "cell_type": "code",
   "execution_count": null,
   "id": "69232103",
   "metadata": {},
   "outputs": [],
   "source": [
    "sbmtm.fit(n_init=5, verbose=False, B_min=6)"
   ]
  },
  {
   "cell_type": "code",
   "execution_count": null,
   "id": "893f49b9",
   "metadata": {},
   "outputs": [],
   "source": [
    "os.system(\"rm -r wikipedia\")\n",
    "os.system(\"mkdir -p wikipedia\")\n",
    "os.chdir(\"wikipedia\")\n",
    "sbmtm.save_data()\n",
    "sbmtm.save_graph()\n",
    "df_files.to_csv(\"files.dat\")\n",
    "os.chdir(\"..\")"
   ]
  },
  {
   "cell_type": "code",
   "execution_count": null,
   "id": "2b9e5830",
   "metadata": {},
   "outputs": [],
   "source": [
    "gt.draw_hierarchy(sbmtm.state, layout=\"bipartite\", hedge_pen_width=8, hvertex_size=25)"
   ]
  },
  {
   "cell_type": "markdown",
   "id": "bec399c9",
   "metadata": {},
   "source": [
    "# Add keywords"
   ]
  },
  {
   "cell_type": "code",
   "execution_count": null,
   "id": "5623a6f6",
   "metadata": {},
   "outputs": [],
   "source": [
    "import graph_tool.all as gt"
   ]
  },
  {
   "cell_type": "code",
   "execution_count": null,
   "id": "65d0e7e9",
   "metadata": {},
   "outputs": [],
   "source": [
    "df_corpus = pd.DataFrame(data=gt.adjacency(g, weight=g.ep[\"count\"]).toarray()[sbmtm.get_D():,:sbmtm.get_D()], index=sbmtm.words, columns=sbmtm.documents)"
   ]
  },
  {
   "cell_type": "code",
   "execution_count": null,
   "id": "652a89ce",
   "metadata": {},
   "outputs": [],
   "source": [
    "df = df_corpus.append(df_meta).fillna(0).astype(int)"
   ]
  },
  {
   "cell_type": "markdown",
   "id": "51c7a16e",
   "metadata": {},
   "source": [
    "### triSBM"
   ]
  },
  {
   "cell_type": "code",
   "execution_count": null,
   "id": "4fd62f11",
   "metadata": {},
   "outputs": [],
   "source": [
    "sys.path.append(\"../../trisbm/\")"
   ]
  },
  {
   "cell_type": "code",
   "execution_count": null,
   "id": "2123eb3a",
   "metadata": {},
   "outputs": [],
   "source": [
    "%load_ext autoreload\n",
    "%autoreload 2\n",
    "from trisbm import trisbm"
   ]
  },
  {
   "cell_type": "code",
   "execution_count": null,
   "id": "7f026dba",
   "metadata": {},
   "outputs": [],
   "source": [
    "trisbm = trisbm()\n",
    "trisbm.make_graph(df, lambda word_keyword: 2 if word_keyword in df_meta.index else 1)"
   ]
  },
  {
   "cell_type": "code",
   "execution_count": null,
   "id": "d659f29f",
   "metadata": {},
   "outputs": [],
   "source": [
    "trisbm.save_graph(\"wikipedia_keyword.xml.gz\")"
   ]
  },
  {
   "cell_type": "code",
   "execution_count": null,
   "id": "9d26eec9",
   "metadata": {},
   "outputs": [],
   "source": [
    "trisbm.fit(n_init=5, B_min=9, verbose=False)"
   ]
  },
  {
   "cell_type": "code",
   "execution_count": null,
   "id": "fdcf6fdd",
   "metadata": {},
   "outputs": [],
   "source": [
    "import os"
   ]
  },
  {
   "cell_type": "code",
   "execution_count": null,
   "id": "31aa7760",
   "metadata": {},
   "outputs": [],
   "source": [
    "os.system(\"rm -r wikipedia_key\")\n",
    "os.system(\"mkdir -p wikipedia_key\")\n",
    "os.chdir(\"wikipedia_key\")\n",
    "trisbm.save_data()\n",
    "trisbm.save_graph()\n",
    "df_files.to_csv(\"files.dat\")\n",
    "os.chdir(\"..\")"
   ]
  },
  {
   "cell_type": "code",
   "execution_count": null,
   "id": "40ccdd25",
   "metadata": {},
   "outputs": [],
   "source": [
    "gt.draw_hierarchy(trisbm.state, \n",
    "                  #pos=gt.sfdp_layout(model.g),\n",
    "                  hedge_pen_width=8, \n",
    "                  hvertex_size=25\n",
    "                 )"
   ]
  },
  {
   "cell_type": "markdown",
   "id": "44521720",
   "metadata": {},
   "source": [
    "## Benchmark"
   ]
  },
  {
   "cell_type": "code",
   "execution_count": null,
   "id": "0aa67b20",
   "metadata": {},
   "outputs": [],
   "source": [
    "from topicpy.hsbmpy import get_scores, get_scores_shuffled, add_score_lines, normalise_score\n",
    "import matplotlib.pyplot as plt\n",
    "import pandas as pd\n",
    "import os"
   ]
  },
  {
   "cell_type": "code",
   "execution_count": null,
   "id": "bfb2e1b2",
   "metadata": {},
   "outputs": [],
   "source": [
    "labels = [\"Topic\"]\n",
    "scores = get_scores(\"wikipedia_key\", labels, algorithm=\"trisbm\", verbose=False)\n",
    "scores['trisbm'] = scores[labels[0]]\n",
    "scores[\"hsbm\"]=get_scores(\"wikipedia\", labels, algorithm=\"topsbm\", verbose=False)[labels[0]]\n",
    "scores['shuffle'] = get_scores_shuffled(\"wikipedia_key\", pd.read_csv(\"wikipedia/files.dat\", sep=\",\", index_col=0), label=labels[0], algorithm='trisbm')\n",
    "normalise_score(scores, base_algorithm=\"shuffle\", operation=lambda x,y: x/y)"
   ]
  },
  {
   "cell_type": "code",
   "execution_count": null,
   "id": "b96d4a95",
   "metadata": {},
   "outputs": [],
   "source": [
    "fig=plt.figure(figsize=(18,15))\n",
    "ax = fig.subplots(1)\n",
    "add_score_lines(ax,scores,labels=[\"hsbm\",\"trisbm\", \"shuffle\"], V=\"norm_V\", alpha=1)\n",
    "ax.set_xscale('log')\n",
    "ax.set_ylim(0,max(map(lambda s: max(s[\"norm_V\"]), scores.values()))*1.1)\n",
    "ax.set_xlim(0,10)\n",
    "\n",
    "plt.show()\n",
    "fig.savefig(\"metric_scores.pdf\")"
   ]
  },
  {
   "cell_type": "code",
   "execution_count": null,
   "id": "c2b46dcb",
   "metadata": {},
   "outputs": [],
   "source": [
    "import plotly.graph_objects as go"
   ]
  },
  {
   "cell_type": "code",
   "execution_count": null,
   "id": "ba2a3861",
   "metadata": {},
   "outputs": [],
   "source": [
    "fig = go.Figure()\n",
    "fig.add_traces([\n",
    "    go.Bar(y = [sbmtm.get_mdl()/sbmtm.g.num_edges()], name=\"hSBM\"),\n",
    "    go.Bar(y = [trisbm.get_mdl()/trisbm.g.num_edges()], name=\"triSBM\")\n",
    "])\n",
    "\n",
    "titlefont = {\n",
    "    \"size\": 30 \n",
    "}\n",
    "\n",
    "tickfont = {\n",
    "    \"size\":25\n",
    "}\n",
    "\n",
    "layout = {\n",
    "    \"title\":\"Wikipedia dataset\",\n",
    "    \"xaxis\":{\n",
    "        \"title\": \"Resolution\",\n",
    "        \"titlefont\": titlefont,\n",
    "        \"tickfont\": tickfont\n",
    "    },\n",
    "    \"yaxis\":{\n",
    "        \"title\": \"∑/E\",\n",
    "        \"type\":\"log\",\n",
    "        #\"range\": [10e3,20e3],\n",
    "        \"titlefont\": titlefont,\n",
    "        \"tickfont\": tickfont\n",
    "    },\n",
    "    \"legend\":{\n",
    "        \"font_size\":35\n",
    "    }\n",
    "}\n",
    "\n",
    "fig.update_layout(layout)\n",
    "#fig.write_image(\"metric_entropies_bar.pdf\")"
   ]
  },
  {
   "cell_type": "code",
   "execution_count": null,
   "id": "efd69b7c",
   "metadata": {},
   "outputs": [],
   "source": [
    "fig = go.Figure()\n",
    "fig.add_traces([\n",
    "    go.Bar(y=scores[\"hsbm\"][\"norm_V\"], name=\"hSBM\"),\n",
    "    go.Bar(y=scores[\"trisbm\"][\"norm_V\"], name=\"triSBM\")\n",
    "])\n",
    "\n",
    "titlefont = {\n",
    "    \"size\": 30 \n",
    "}\n",
    "\n",
    "tickfont = {\n",
    "    \"size\":25\n",
    "}\n",
    "\n",
    "layout = {\n",
    "    \"xaxis\":{\n",
    "        \"title\": \"Resolution\",\n",
    "        \"titlefont\": titlefont,\n",
    "        \"tickfont\": tickfont\n",
    "    },\n",
    "    \"yaxis\":{\n",
    "        \"title\": \"NMI/NMI*\",\n",
    "        \"titlefont\": titlefont,\n",
    "        \"tickfont\": tickfont\n",
    "    },\n",
    "    \"legend\":{\n",
    "        \"font_size\":35\n",
    "    }\n",
    "}\n",
    "\n",
    "fig.update_layout(layout)\n",
    "#fig.write_image(\"metric_scores_bar.pdf\")"
   ]
  },
  {
   "cell_type": "code",
   "execution_count": null,
   "id": "7133f6d2",
   "metadata": {},
   "outputs": [],
   "source": [
    "import cloudpickle as pickle\n",
    "\n",
    "with open(\"sbmtm.pkl\", \"wb\") as file:\n",
    "    pickle.dump(sbmtm, file)\n",
    "    \n",
    "with open(\"trisbm.pkl\", \"wb\") as file:\n",
    "    pickle.dump(trisbm, file)"
   ]
  },
  {
   "cell_type": "code",
   "execution_count": null,
   "id": "a5a2da39",
   "metadata": {},
   "outputs": [],
   "source": []
  }
 ],
 "metadata": {
  "kernelspec": {
   "display_name": "Python 3",
   "language": "python",
   "name": "python3"
  },
  "language_info": {
   "codemirror_mode": {
    "name": "ipython",
    "version": 3
   },
   "file_extension": ".py",
   "mimetype": "text/x-python",
   "name": "python",
   "nbconvert_exporter": "python",
   "pygments_lexer": "ipython3",
   "version": "3.8.8"
  }
 },
 "nbformat": 4,
 "nbformat_minor": 5
}
