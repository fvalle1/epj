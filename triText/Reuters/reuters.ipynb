{
 "cells": [
  {
   "cell_type": "code",
   "execution_count": 1,
   "id": "23c28ac1",
   "metadata": {},
   "outputs": [
    {
     "name": "stdout",
     "output_type": "stream",
     "text": [
      "Author: Filippo_Valle\n",
      "\n",
      "Python implementation: CPython\n",
      "Python version       : 3.8.8\n",
      "IPython version      : 7.22.0\n",
      "\n",
      "nltk       : 3.6.1\n",
      "pandas     : 1.2.3\n",
      "numpy      : 1.19.0\n",
      "graph_tool : 2.37 (commit afba9459, )\n",
      "cloudpickle: 1.6.0\n",
      "topicpy    : 0.2.1\n",
      "matplotlib : 3.4.1\n",
      "plotly     : 4.14.3\n",
      "\n",
      "Compiler    : GCC 9.3.0\n",
      "OS          : Linux\n",
      "Release     : 5.8.0-50-generic\n",
      "Machine     : x86_64\n",
      "Processor   : x86_64\n",
      "CPU cores   : 12\n",
      "Architecture: 64bit\n",
      "\n",
      "Git hash: aec0cb27d23e921cf53771b154b07fadbbd6854a\n",
      "\n",
      "Git repo: git@github.com:fvalle1/epj.git\n",
      "\n"
     ]
    }
   ],
   "source": [
    "%load_ext watermark\n",
    "%watermark  -a Filippo_Valle -v -m -g -r -v -p nltk,pandas,numpy,graph_tool,cloudpickle,topicpy,matplotlib,plotly"
   ]
  },
  {
   "cell_type": "code",
   "execution_count": 2,
   "id": "0e7c0ac2",
   "metadata": {},
   "outputs": [
    {
     "name": "stderr",
     "output_type": "stream",
     "text": [
      "[nltk_data] Downloading package reuters to /home/jovyan/nltk_data...\n",
      "[nltk_data]   Package reuters is already up-to-date!\n",
      "[nltk_data] Downloading package stopwords to /home/jovyan/nltk_data...\n",
      "[nltk_data]   Package stopwords is already up-to-date!\n"
     ]
    }
   ],
   "source": [
    "import pandas as pd\n",
    "import numpy as np\n",
    "import os,sys\n",
    "sys.path.append(\"../\")\n",
    "from nlp import process_phrase\n",
    "import nltk\n",
    "nltk.download(\"reuters\")\n",
    "nltk.download(\"stopwords\")\n",
    "from nltk.corpus import reuters\n",
    "\n",
    "import logging\n",
    "log = logging.getLogger(\"plos\")\n",
    "log.addHandler(logging.StreamHandler())\n",
    "log.setLevel(logging.DEBUG)"
   ]
  },
  {
   "cell_type": "code",
   "execution_count": null,
   "id": "fd44ea90",
   "metadata": {},
   "outputs": [],
   "source": [
    "articles = [d for d in reuters.fileids() if d.startswith(\"test/\")]\n",
    "cat, count = np.unique(np.concatenate([reuters.categories(art) for art in articles]).ravel(), return_counts=True)\n",
    "common_cat = cat[np.argsort(count)[::-1]][:10]\n",
    "articles = np.random.choice([d for d in reuters.fileids() if d.startswith(\"test/\") if reuters.categories(d)[0] in common_cat], 1000, replace=False)"
   ]
  },
  {
   "cell_type": "code",
   "execution_count": null,
   "id": "3832c0e2",
   "metadata": {},
   "outputs": [],
   "source": [
    "print(len(articles))\n",
    "articles[0]"
   ]
  },
  {
   "cell_type": "code",
   "execution_count": null,
   "id": "288cfbbc",
   "metadata": {},
   "outputs": [],
   "source": [
    "def get_article(article):\n",
    "    art = reuters.raw(article).split(\"\\n\")\n",
    "    labels = reuters.categories(article)\n",
    "    text = process_phrase(\" \".join(art[1:]))\n",
    "    return article, process_phrase(art[0]), text, labels"
   ]
  },
  {
   "cell_type": "code",
   "execution_count": null,
   "id": "3ef1edc7",
   "metadata": {},
   "outputs": [],
   "source": [
    "article = get_article(articles[10])\n",
    "article"
   ]
  },
  {
   "cell_type": "code",
   "execution_count": null,
   "id": "807b647d",
   "metadata": {},
   "outputs": [],
   "source": [
    "def get_article_dfs(article):\n",
    "    df = pd.DataFrame()\n",
    "    df_meta = pd.DataFrame()\n",
    "    df_files = pd.DataFrame(columns=[\"category\"])\n",
    "    \n",
    "    docid, title, text, labels = get_article(article)    \n",
    "    if text is None:\n",
    "        return None\n",
    "    \n",
    "    words = text.split(\" \")\n",
    "    title = title.split(\" \")\n",
    "    \n",
    "    df_files=df_files.append(pd.Series(name=docid, index=[\"category\"], data=labels[0], dtype=str))\n",
    "    df = df.join(pd.Series(*np.unique(words, return_counts=True)[::-1], name=docid), how=\"outer\")\n",
    "    df_meta = df_meta.join(pd.Series(*np.unique(title, return_counts=True)[::-1], name=docid), how=\"outer\")\n",
    "    \n",
    "    return df, df_meta, df_files\n",
    "\n",
    "def append_callback(x):\n",
    "    global df\n",
    "    global df_meta\n",
    "    global df_files\n",
    "    if x is None:\n",
    "        return None\n",
    "    \n",
    "    df_j, df_meta_j, df_files_j = x\n",
    "    try:\n",
    "        df = df.join(df_j, how=\"outer\") # join new articles\n",
    "        df_meta = df_meta.join(df_meta_j, how=\"outer\") #join new articles\n",
    "        df_files = df_files.append(df_files_j) \n",
    "    except:\n",
    "        pass"
   ]
  },
  {
   "cell_type": "code",
   "execution_count": null,
   "id": "50b0e071",
   "metadata": {},
   "outputs": [],
   "source": [
    "get_article_dfs('test/14844')"
   ]
  },
  {
   "cell_type": "code",
   "execution_count": null,
   "id": "0d7541c9",
   "metadata": {},
   "outputs": [],
   "source": [
    "import multiprocessing as mp"
   ]
  },
  {
   "cell_type": "code",
   "execution_count": null,
   "id": "22d306c3",
   "metadata": {},
   "outputs": [],
   "source": [
    "df = pd.DataFrame()\n",
    "df_meta = pd.DataFrame()\n",
    "df_files = pd.DataFrame(columns=[\"category\"])\n",
    "\n",
    "pool = mp.Pool(12)\n",
    "\n",
    "work = [pool.apply_async(get_article_dfs, args=([article]), callback=append_callback, error_callback=lambda err: log.debug(err)) for article in articles]\n",
    "\n",
    "pool.close()\n",
    "pool.join()"
   ]
  },
  {
   "cell_type": "code",
   "execution_count": null,
   "id": "0ca12152",
   "metadata": {},
   "outputs": [],
   "source": [
    "df_files = df_files[df_files[\"category\"].isin(common_cat)] \n",
    "\n",
    "df = df.fillna(0).astype(int).drop_duplicates()\n",
    "\n",
    "'''\n",
    "do reindex in two steps to avoid undefined behaviour\n",
    "the sum is made on the new index\n",
    "'''\n",
    "\n",
    "df = df.reindex(columns=df.columns[df.columns.isin(df_files.index.dropna())]) #be sure every columns has a file\n",
    "df = df.reindex(index=list(filter(lambda x:len(x)>0,df.index))) # remove '' from words\n",
    "\n",
    "O = df.apply(lambda x: (x>0).sum(), axis=1)\n",
    "df = df.reindex(index = df.index[O>5]) #words that appear in at least # articles \n",
    "df = df.reindex(columns = df.columns[df.sum(0) > 10]) #docs that have at least # word with repetition \n",
    "\n",
    "df_meta = df_meta.fillna(0).astype(int).drop_duplicates()\n",
    "\n",
    "df_meta = df_meta.reindex(columns=df.columns) # match df index\n",
    "df_meta = df_meta.reindex(index=list(filter(lambda x:len(x)>0,df_meta.index))) # remove '' from words\n",
    "df_meta = df_meta.reindex(index=df_meta.index[df_meta.sum(1)>10]) # Keywords with at least # article\n",
    "\n",
    "df_files = pd.DataFrame(index=df.columns, columns=[\"category\"], data=[reuters.categories(art)[0] for art in df.columns])"
   ]
  },
  {
   "cell_type": "code",
   "execution_count": null,
   "id": "7c500db7",
   "metadata": {},
   "outputs": [],
   "source": [
    "df_files = pd.DataFrame(index=articles, columns=[\"category\"], data=[reuters.categories(art)[0] for art in articles])"
   ]
  },
  {
   "cell_type": "code",
   "execution_count": null,
   "id": "28608b89",
   "metadata": {},
   "outputs": [],
   "source": [
    "common_cat"
   ]
  },
  {
   "cell_type": "code",
   "execution_count": null,
   "id": "4677bf58",
   "metadata": {},
   "outputs": [],
   "source": [
    "df.sum(0).min()"
   ]
  },
  {
   "cell_type": "code",
   "execution_count": null,
   "id": "5f8434de",
   "metadata": {},
   "outputs": [],
   "source": [
    "print(df.shape)\n",
    "print(df_meta.shape)\n",
    "print(df_files.shape)"
   ]
  },
  {
   "cell_type": "code",
   "execution_count": null,
   "id": "04efe23f",
   "metadata": {},
   "outputs": [],
   "source": [
    "df_meta.sum(1)"
   ]
  },
  {
   "cell_type": "code",
   "execution_count": null,
   "id": "37d13c46",
   "metadata": {},
   "outputs": [],
   "source": [
    "import matplotlib.pyplot as plt"
   ]
  },
  {
   "cell_type": "code",
   "execution_count": null,
   "id": "e0f84a92",
   "metadata": {},
   "outputs": [],
   "source": [
    "fig, ax = plt.subplots()\n",
    "df.divide(df.sum(0),1).mean(1).sort_values(ascending=False).plot(ax=ax)\n",
    "\n",
    "x = np.linspace(1,1e3)\n",
    "ax.plot(x,1e-1*x**(-0.9))\n",
    "\n",
    "ax.set_yscale(\"log\")\n",
    "ax.set_xscale(\"log\")\n",
    "fig.savefig(\"zipf.pdf\")"
   ]
  },
  {
   "cell_type": "markdown",
   "id": "9462a5eb",
   "metadata": {},
   "source": [
    "# Make hSBM graph"
   ]
  },
  {
   "cell_type": "code",
   "execution_count": 3,
   "id": "53f9edb3",
   "metadata": {},
   "outputs": [],
   "source": [
    "import sys\n",
    "sys.path.append(\"../../hSBM_Topicmodel/\")"
   ]
  },
  {
   "cell_type": "code",
   "execution_count": 4,
   "id": "f375d259",
   "metadata": {},
   "outputs": [],
   "source": [
    "import graph_tool.all as gt\n",
    "from sbmtm import sbmtm"
   ]
  },
  {
   "cell_type": "code",
   "execution_count": null,
   "id": "4fd77b52",
   "metadata": {},
   "outputs": [],
   "source": [
    "sbmtm = sbmtm()\n",
    "sbmtm.make_graph_from_BoW_df(df)\n",
    "sbmtm.save_graph(\"reuters.xml.gz\")"
   ]
  },
  {
   "cell_type": "code",
   "execution_count": null,
   "id": "474e9341",
   "metadata": {},
   "outputs": [],
   "source": [
    "g = sbmtm.g\n",
    "g"
   ]
  },
  {
   "cell_type": "code",
   "execution_count": null,
   "id": "01c9fc5d",
   "metadata": {},
   "outputs": [],
   "source": [
    "sbmtm.fit(n_init=5, verbose=False, B_min=10, B_max=100, parallel=True)"
   ]
  },
  {
   "cell_type": "code",
   "execution_count": null,
   "id": "24138aa2",
   "metadata": {},
   "outputs": [],
   "source": [
    "sbmtm.groups[0]=sbmtm.get_groups(0)\n",
    "sbmtm.groups[1]=sbmtm.get_groups(1)"
   ]
  },
  {
   "cell_type": "code",
   "execution_count": null,
   "id": "4293ea35",
   "metadata": {},
   "outputs": [],
   "source": [
    "os.system(\"rm -rf reuters\")\n",
    "os.system(\"mkdir -p reuters\")\n",
    "os.chdir(\"reuters/\")\n",
    "df_files.to_csv(\"files.dat\")\n",
    "os.system(\"mkdir -p topsbm\")\n",
    "os.chdir(\"topsbm/\")\n",
    "sbmtm.save_data()\n",
    "sbmtm.save_graph()\n",
    "os.chdir(\"../../\")"
   ]
  },
  {
   "cell_type": "code",
   "execution_count": null,
   "id": "dd88601c",
   "metadata": {},
   "outputs": [],
   "source": [
    "gt.draw_hierarchy(sbmtm.state, layout=\"bipartite\", hedge_pen_width=8, hvertex_size=25, vertex_kind=sbmtm.g.vertex_properties[\"kind\"])"
   ]
  },
  {
   "cell_type": "markdown",
   "id": "2e39ae9d",
   "metadata": {},
   "source": [
    "## triSBM"
   ]
  },
  {
   "cell_type": "code",
   "execution_count": 5,
   "id": "60d88871",
   "metadata": {},
   "outputs": [],
   "source": [
    "sys.path.append(\"../../trisbm/\")\n",
    "from trisbm import trisbm"
   ]
  },
  {
   "cell_type": "code",
   "execution_count": null,
   "id": "d090cf67",
   "metadata": {},
   "outputs": [],
   "source": [
    "df_meta.index = [\"#\"+word for word in df_meta.index]"
   ]
  },
  {
   "cell_type": "code",
   "execution_count": null,
   "id": "e65c2a13",
   "metadata": {},
   "outputs": [],
   "source": [
    "trisbm = trisbm()\n",
    "trisbm.make_graph(df.append(df_meta), lambda word_keyword: 2 if word_keyword in df_meta.index else 1)"
   ]
  },
  {
   "cell_type": "code",
   "execution_count": null,
   "id": "06d67869",
   "metadata": {},
   "outputs": [],
   "source": [
    "trisbm.save_graph(\"reuters_keyword.xml.gz\")"
   ]
  },
  {
   "cell_type": "code",
   "execution_count": null,
   "id": "32b0dc42",
   "metadata": {},
   "outputs": [],
   "source": [
    "trisbm.fit(n_init=5, verbose=False, B_min=10, B_max = 100)"
   ]
  },
  {
   "cell_type": "code",
   "execution_count": null,
   "id": "169621e9",
   "metadata": {},
   "outputs": [],
   "source": [
    "import os"
   ]
  },
  {
   "cell_type": "code",
   "execution_count": null,
   "id": "702b6a82",
   "metadata": {},
   "outputs": [],
   "source": [
    "os.system(\"rm -r reuters_key\")\n",
    "os.system(\"mkdir -p reuters_key\")\n",
    "os.chdir(\"reuters_key/\")\n",
    "df_files.to_csv(\"files.dat\")\n",
    "os.system(\"mkdir -p trisbm\")\n",
    "os.chdir(\"trisbm/\")\n",
    "trisbm.save_data()\n",
    "trisbm.save_graph()\n",
    "os.chdir(\"../../\")"
   ]
  },
  {
   "cell_type": "code",
   "execution_count": null,
   "id": "07b72e63",
   "metadata": {},
   "outputs": [],
   "source": [
    "gt.draw_hierarchy(trisbm.state, \n",
    "                  #pos=gt.sfdp_layout(model.g),\n",
    "                  hedge_pen_width=8, \n",
    "                  hvertex_size=25, \n",
    "                 )"
   ]
  },
  {
   "cell_type": "markdown",
   "id": "ae916109",
   "metadata": {},
   "source": [
    "## Benchmark"
   ]
  },
  {
   "cell_type": "code",
   "execution_count": null,
   "id": "cc1ad7a9",
   "metadata": {},
   "outputs": [],
   "source": [
    "from topicpy.hsbmpy import get_scores, get_scores_shuffled, add_score_lines, normalise_score\n",
    "import matplotlib.pyplot as plt\n",
    "import pandas as pd\n",
    "import os"
   ]
  },
  {
   "cell_type": "code",
   "execution_count": null,
   "id": "2c79a1f3",
   "metadata": {},
   "outputs": [],
   "source": [
    "labels = [\"category\"]\n",
    "scores = get_scores(\"reuters_key\", labels, df_files, algorithm=\"trisbm\", verbose=False)\n",
    "scores['trisbm'] = scores[labels[0]]\n",
    "scores[\"hsbm\"]=get_scores(\"reuters\", labels, df_files,algorithm=\"topsbm\", verbose=False)[labels[0]]\n",
    "scores['shuffle'] = get_scores_shuffled(\"reuters\", df_files, label=labels[0], algorithm='topsbm')\n",
    "normalise_score(scores, base_algorithm=\"shuffle\", operation=lambda x,y: x/y)"
   ]
  },
  {
   "cell_type": "code",
   "execution_count": null,
   "id": "5581b2ed",
   "metadata": {},
   "outputs": [],
   "source": [
    "fig=plt.figure(figsize=(18,15))\n",
    "ax = fig.subplots(1)\n",
    "add_score_lines(ax,scores,labels=[\"hsbm\",\"trisbm\", \"shuffle\"], V=\"norm_V\", alpha=1)\n",
    "ax.set_xscale('log')\n",
    "ax.set_ylim(0,max(map(lambda s: max(s[\"norm_V\"]), scores.values()))*1.1)\n",
    "ax.set_xlim(0,max(map(lambda s: max(s[\"xl\"]), scores.values()))*1.1)\n",
    "\n",
    "plt.show()\n",
    "fig.savefig(\"metric_scores.pdf\")"
   ]
  },
  {
   "cell_type": "code",
   "execution_count": null,
   "id": "e3c90b21",
   "metadata": {},
   "outputs": [],
   "source": [
    "import plotly.graph_objects as go"
   ]
  },
  {
   "cell_type": "code",
   "execution_count": null,
   "id": "3e31740b",
   "metadata": {},
   "outputs": [],
   "source": [
    "fig = go.Figure()\n",
    "fig.add_traces([\n",
    "    go.Bar(y = [sbmtm.get_mdl()/sbmtm.g.num_edges()], name=\"hSBM\"),\n",
    "    go.Bar(y = [trisbm.get_mdl()/trisbm.g.num_edges()], name=\"triSBM\")\n",
    "])\n",
    "\n",
    "titlefont = {\n",
    "    \"size\": 30 \n",
    "}\n",
    "\n",
    "tickfont = {\n",
    "    \"size\":25\n",
    "}\n",
    "\n",
    "layout = {\n",
    "    \"title\":\"Reuters dataset\",\n",
    "    \"xaxis\":{\n",
    "        \"title\": \"Resolution\",\n",
    "        \"titlefont\": titlefont,\n",
    "        \"tickfont\": tickfont\n",
    "    },\n",
    "    \"yaxis\":{\n",
    "        \"title\": \"∑/E\",\n",
    "        \"type\":\"log\",\n",
    "        #\"range\": [10e3,20e3],\n",
    "        \"titlefont\": titlefont,\n",
    "        \"tickfont\": tickfont\n",
    "    },\n",
    "    \"legend\":{\n",
    "        \"font_size\":35\n",
    "    }\n",
    "}\n",
    "\n",
    "fig.update_layout(layout)\n",
    "#fig.write_image(\"metric_entropies_bar.pdf\")"
   ]
  },
  {
   "cell_type": "code",
   "execution_count": null,
   "id": "2b57551e",
   "metadata": {},
   "outputs": [],
   "source": [
    "fig = go.Figure()\n",
    "fig.add_traces([\n",
    "    go.Bar(y=scores[\"hsbm\"][\"norm_V\"], name=\"hSBM\"),\n",
    "    go.Bar(y=scores[\"trisbm\"][\"norm_V\"], name=\"triSBM\")\n",
    "])\n",
    "\n",
    "titlefont = {\n",
    "    \"size\": 30 \n",
    "}\n",
    "\n",
    "tickfont = {\n",
    "    \"size\":25\n",
    "}\n",
    "\n",
    "layout = {\n",
    "    \"title\":\"Plos dataset\",\n",
    "    \"xaxis\":{\n",
    "        \"title\": \"Resolution\",\n",
    "        \"titlefont\": titlefont,\n",
    "        \"tickfont\": tickfont\n",
    "    },\n",
    "    \"yaxis\":{\n",
    "        \"title\": \"NMI/NMI*\",\n",
    "        \"titlefont\": titlefont,\n",
    "        \"tickfont\": tickfont\n",
    "    },\n",
    "    \"legend\":{\n",
    "        \"font_size\":35\n",
    "    }\n",
    "}\n",
    "\n",
    "fig.update_layout(layout)\n",
    "#fig.write_image(\"metric_scores_bar.pdf\")"
   ]
  },
  {
   "cell_type": "code",
   "execution_count": null,
   "id": "ccdbb31a",
   "metadata": {},
   "outputs": [],
   "source": [
    "from topicpy.hsbmpy import clusteranalysis"
   ]
  },
  {
   "cell_type": "code",
   "execution_count": null,
   "id": "3ba74aac",
   "metadata": {},
   "outputs": [],
   "source": [
    "clusteranalysis(os.getcwd()+\"/reuters/\", [\"category\"], algorithm=\"topsbm\")\n",
    "clusteranalysis(os.getcwd()+\"/reuters_key/\", [\"category\"], algorithm=\"trisbm\")"
   ]
  },
  {
   "cell_type": "code",
   "execution_count": null,
   "id": "9e85ca04",
   "metadata": {},
   "outputs": [],
   "source": [
    "import cloudpickle as pickle\n",
    "\n",
    "with open(\"sbmtm.pkl\", \"wb\") as file:\n",
    "    pickle.dump(sbmtm, file)\n",
    "    \n",
    "with open(\"trisbm.pkl\", \"wb\") as file:\n",
    "    pickle.dump(trisbm, file)"
   ]
  },
  {
   "cell_type": "code",
   "execution_count": null,
   "id": "62d31f1c",
   "metadata": {},
   "outputs": [],
   "source": []
  }
 ],
 "metadata": {
  "kernelspec": {
   "display_name": "Python 3",
   "language": "python",
   "name": "python3"
  },
  "language_info": {
   "codemirror_mode": {
    "name": "ipython",
    "version": 3
   },
   "file_extension": ".py",
   "mimetype": "text/x-python",
   "name": "python",
   "nbconvert_exporter": "python",
   "pygments_lexer": "ipython3",
   "version": "3.8.8"
  }
 },
 "nbformat": 4,
 "nbformat_minor": 5
}
