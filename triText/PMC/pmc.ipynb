{
 "cells": [
  {
   "cell_type": "code",
   "execution_count": null,
   "id": "1e4de2d3",
   "metadata": {},
   "outputs": [],
   "source": [
    "%load_ext watermark\n",
    "%watermark  -a Filippo_Valle -v -m -g -r -v -p pandas,numpy,requests,xml,graph_tool,cloudpickle,regex,topicpy,matplotlib,plotly"
   ]
  },
  {
   "cell_type": "code",
   "execution_count": null,
   "id": "1172e350",
   "metadata": {},
   "outputs": [],
   "source": [
    "import pandas as pd\n",
    "import numpy as np\n",
    "import os,sys\n",
    "sys.path.append(\"../\")\n",
    "from nlp import process_phrase\n",
    "import requests as req\n",
    "import datetime as dt\n",
    "import xml\n",
    "import xml.etree.ElementTree as ET \n",
    "import logging\n",
    "log = logging.getLogger(\"pmc\")\n",
    "log.addHandler(logging.StreamHandler())\n",
    "log.setLevel(logging.DEBUG)"
   ]
  },
  {
   "cell_type": "code",
   "execution_count": null,
   "id": "c286301f",
   "metadata": {},
   "outputs": [],
   "source": [
    "def get_papers_from(date: dt.datetime):\n",
    "    url = \"https://www.ncbi.nlm.nih.gov/pmc/utils/oa/oa.fcgi\"\n",
    "    r = req.get(url, params={\"from\":date.strftime(\"%Y-%m-%d\")})\n",
    "    return ET.fromstring(r.text).findall(\"./records/record\")\n",
    "\n",
    "papers = get_papers_from(dt.datetime(2021, 1, 1, 8, 0, 0))"
   ]
  },
  {
   "cell_type": "code",
   "execution_count": null,
   "id": "70b7cd57",
   "metadata": {},
   "outputs": [],
   "source": [
    "print(len(papers))\n",
    "papers[0].attrib"
   ]
  },
  {
   "cell_type": "code",
   "execution_count": null,
   "id": "b2861360",
   "metadata": {},
   "outputs": [],
   "source": [
    "def get_info(pmid:str)->xml.etree.ElementTree.Element:\n",
    "    url = \"https://www.ncbi.nlm.nih.gov/pmc/utils/oa/oa.fcgi\"\n",
    "    r = req.get(url, params={\"id\":pmid})\n",
    "    if r.status_code == 200:\n",
    "        return ET.fromstring(r.text).find(\"./records/record\")\n",
    "    else:\n",
    "        return None\n",
    "    \n",
    "def get_paper(paper: xml.etree.ElementTree.Element)->xml.etree.ElementTree.Element:\n",
    "    paper_name = paper.attrib[\"id\"]\n",
    "    paper = get_info(paper_name)\n",
    "    if paper is None:\n",
    "        return None\n",
    "    link = [link.attrib[\"href\"] for link in paper.findall(\"link\") if link.attrib[\"format\"]==\"tgz\"][0].replace(\"ftp://\",\"http://\")\n",
    "    os.system(\"mkdir -p data\")\n",
    "    if paper_name in os.listdir(\"./data\"):\n",
    "        return paper\n",
    "    os.chdir(\"./data\")\n",
    "    os.system(\"wget {}\".format(link))\n",
    "    os.system(\"gunzip {}.tar.gz\".format(paper.attrib[\"id\"]))\n",
    "    os.system(\"tar -xf {}.tar\".format(paper.attrib[\"id\"]))\n",
    "    os.system(\"rm -rf {}.tar\".format(paper.attrib[\"id\"]))\n",
    "    os.chdir(\"../\")\n",
    "    #log.info(os.system(\"{}.* data/.\".format(paper.attrib[\"id\"])))\n",
    "    return paper\n",
    "\n",
    "def parse_paper(paper: xml.etree.ElementTree.Element)->list:\n",
    "    paper_name = paper.attrib[\"id\"]\n",
    "    filename = list(filter(lambda file: \".nxml\" in file, os.listdir(f\"data/{paper_name}/\")))[0]\n",
    "    article = ET.parse(f\"data/{paper_name}/{filename}\").find(\".\")\n",
    "    journal = [meta.text for meta in article.findall(\"front/journal-meta/journal-id\") if meta.attrib['journal-id-type']=='nlm-ta']\n",
    "    keywords = [keyword.text for keyword in article.find(\"./front/article-meta/kwd-group\")]\n",
    "    keywords = [process_phrase(keyword).replace(\" \",\"_\") for keyword in keywords]\n",
    "    keywords = list(filter(lambda x: len(x)>0, keywords)) #remove ''\n",
    "    keywords = [\"#\"+keyword for keyword in keywords]\n",
    "    authors = [el.text for el in article.findall(\"./front/article-meta/contrib-group/contrib/name/surname\")]\n",
    "    abstract = ET.tostring(article.find(\"./front/article-meta/abstract/\")).decode(\"utf-8\")\n",
    "    return journal, keywords, process_phrase(abstract), authors\n",
    "\n",
    "def get_and_parse(paper: xml.etree.ElementTree.Element)->list:\n",
    "    try:\n",
    "        return parse_paper(get_paper(paper))\n",
    "    except:\n",
    "        return None, None, None, None"
   ]
  },
  {
   "cell_type": "code",
   "execution_count": null,
   "id": "b957cd17",
   "metadata": {},
   "outputs": [],
   "source": [
    "paper = get_paper(papers[5])"
   ]
  },
  {
   "cell_type": "code",
   "execution_count": null,
   "id": "367cbee9",
   "metadata": {},
   "outputs": [],
   "source": [
    "paper.attrib"
   ]
  },
  {
   "cell_type": "code",
   "execution_count": null,
   "id": "a5322511",
   "metadata": {},
   "outputs": [],
   "source": [
    "parse_paper(papers[5])"
   ]
  },
  {
   "cell_type": "code",
   "execution_count": null,
   "id": "5afc9bf7",
   "metadata": {},
   "outputs": [],
   "source": [
    "def get_paper_dfs(paper):\n",
    "    df = pd.DataFrame()\n",
    "    df_meta = pd.DataFrame()\n",
    "    df_auth = pd.DataFrame()\n",
    "    df_nauth = pd.DataFrame()\n",
    "    df_files = pd.DataFrame(columns=[\"journal\"])\n",
    "    \n",
    "    journal, labels, text, authors = get_and_parse(paper)\n",
    "    doi = paper.attrib[\"id\"]\n",
    "    \n",
    "    if text is None:\n",
    "        return None\n",
    "    \n",
    "    words = text.split(\" \")\n",
    "    \n",
    "    df_files=df_files.append(pd.Series(name=doi, index=[\"journal\"], data=journal, dtype=str))\n",
    "    df = df.join(pd.Series(*np.unique(words, return_counts=True)[::-1], name=doi), how=\"outer\")\n",
    "    df_meta = df_meta.join(pd.Series(index=labels, data=1, name=doi), how=\"outer\")\n",
    "    df_auth = df_auth.join(pd.Series(index=authors, data=1, name=doi), how=\"outer\")\n",
    "    df_nauth = df_nauth.join(pd.Series(index=[len(authors)], data=1, name=doi), how=\"outer\")\n",
    "    \n",
    "    return df, df_meta, df_files, df_auth, df_nauth\n",
    "\n",
    "def append_callback(x):\n",
    "    global df\n",
    "    global df_meta\n",
    "    global df_auth\n",
    "    global df_nauth\n",
    "    global df_files\n",
    "    if x is None:\n",
    "        return None\n",
    "    \n",
    "    df_j, df_meta_j, df_files_j, df_auth_j, df_nauth_j = x\n",
    "    try:\n",
    "        df = df.join(df_j, how=\"outer\") # join new articles\n",
    "        df_meta = df_meta.join(df_meta_j, how=\"outer\") #join new articles\n",
    "        df_auth = df_auth.join(df_auth_j, how=\"outer\") #join new authors\n",
    "        df_nauth = df_nauth.join(df_nauth_j, how=\"outer\") #join new nauth\n",
    "        df_files = df_files.append(df_files_j) \n",
    "    except:\n",
    "        pass"
   ]
  },
  {
   "cell_type": "code",
   "execution_count": null,
   "id": "56b371e5",
   "metadata": {},
   "outputs": [],
   "source": [
    "import multiprocessing as mp"
   ]
  },
  {
   "cell_type": "code",
   "execution_count": null,
   "id": "9c9a8121",
   "metadata": {},
   "outputs": [],
   "source": [
    "df = pd.DataFrame()\n",
    "df_meta = pd.DataFrame()\n",
    "df_auth = pd.DataFrame()\n",
    "df_nauth = pd.DataFrame()\n",
    "df_files = pd.DataFrame(columns=[\"journal\"])\n",
    "\n",
    "pool = mp.Pool(12)\n",
    "\n",
    "work = [pool.apply_async(get_paper_dfs, args=([paper]), callback=append_callback, error_callback=lambda err: log.debug(err)) for paper in papers]\n",
    "\n",
    "pool.close()\n",
    "pool.join()"
   ]
  },
  {
   "cell_type": "code",
   "execution_count": null,
   "id": "c1d2cccc",
   "metadata": {},
   "outputs": [],
   "source": [
    "common_journals = df_files.reset_index().groupby([\"journal\"]).count().sort_values(\"index\")[-10:].index.values\n",
    "df_files = df_files[df_files[\"journal\"].isin(common_journals)] \n",
    "\n",
    "df = df.fillna(0).astype(int).drop_duplicates()\n",
    "\n",
    "'''\n",
    "do reindex in two steps to avoid undefined behaviour\n",
    "the sum is made on the new index\n",
    "'''\n",
    "\n",
    "df = df.reindex(columns=df.columns[df.columns.isin(df_files.index.dropna())]) #be sure every columns has a file\n",
    "df = df.reindex(index=list(filter(lambda x:len(x)>0,df.index))) # remove '' from words\n",
    "\n",
    "O = df.apply(lambda x: (x>0).sum(), axis=1)\n",
    "df = df.reindex(index = df.index[O>5]) #words that appear in at least # papers \n",
    "df = df.reindex(columns = df.columns[df.sum(0) > 5]) #docs that have at least # word with repetition \n",
    "\n",
    "df_meta = df_meta.fillna(0).astype(int).drop_duplicates()\n",
    "\n",
    "df_meta = df_meta.reindex(columns=df.columns) # match df index\n",
    "df_meta = df_meta.reindex(index=df_meta.index[df_meta.sum(1)>1]) # Keywords with at least # paper\n",
    "\n",
    "df_auth = df_auth.fillna(0).astype(int).drop_duplicates()\n",
    "df_auth = df_auth.reindex(columns=df.columns) # match df index\n",
    "df_auth = df_auth.reindex(index=df_auth.index[df_auth.sum(1)>1]) # authors with at least # paper\n",
    "\n",
    "df_nauth = df_nauth.fillna(0).astype(int).drop_duplicates()\n",
    "df_nauth = df_nauth.reindex(columns=df.columns) # match df index"
   ]
  },
  {
   "cell_type": "code",
   "execution_count": null,
   "id": "62f9ccfd",
   "metadata": {},
   "outputs": [],
   "source": [
    "common_journals"
   ]
  },
  {
   "cell_type": "code",
   "execution_count": null,
   "id": "92d7650c",
   "metadata": {},
   "outputs": [],
   "source": [
    "df.sum(0).min()"
   ]
  },
  {
   "cell_type": "code",
   "execution_count": null,
   "id": "01294b54",
   "metadata": {},
   "outputs": [],
   "source": [
    "print(df.shape)\n",
    "print(df_meta.shape)\n",
    "print(df_auth.shape)\n",
    "print(df_nauth.shape)\n",
    "print(df_files.shape)"
   ]
  },
  {
   "cell_type": "code",
   "execution_count": null,
   "id": "ce2b05a2",
   "metadata": {},
   "outputs": [],
   "source": [
    "df_meta.sum(1)"
   ]
  },
  {
   "cell_type": "code",
   "execution_count": null,
   "id": "0c837bc5",
   "metadata": {},
   "outputs": [],
   "source": [
    "import matplotlib.pyplot as plt"
   ]
  },
  {
   "cell_type": "code",
   "execution_count": null,
   "id": "0a147b08",
   "metadata": {},
   "outputs": [],
   "source": [
    "fig, ax = plt.subplots()\n",
    "df.divide(df.sum(0),1).mean(1).sort_values(ascending=False).plot(ax=ax)\n",
    "\n",
    "x = np.linspace(1,1e3)\n",
    "ax.plot(x,1e-1*x**(-0.9))\n",
    "\n",
    "ax.set_yscale(\"log\")\n",
    "ax.set_xscale(\"log\")\n",
    "fig.savefig(\"zipf.pdf\")"
   ]
  },
  {
   "cell_type": "markdown",
   "id": "ca9aea29",
   "metadata": {},
   "source": [
    "# Make hSBM graph"
   ]
  },
  {
   "cell_type": "code",
   "execution_count": null,
   "id": "ea063a35",
   "metadata": {},
   "outputs": [],
   "source": [
    "import sys\n",
    "sys.path.append(\"../../hSBM_Topicmodel/\")"
   ]
  },
  {
   "cell_type": "code",
   "execution_count": null,
   "id": "a3d8fa00",
   "metadata": {},
   "outputs": [],
   "source": [
    "import graph_tool.all as gt\n",
    "from sbmtm import sbmtm"
   ]
  },
  {
   "cell_type": "code",
   "execution_count": null,
   "id": "656a196f",
   "metadata": {},
   "outputs": [],
   "source": [
    "sbmtm = sbmtm()\n",
    "sbmtm.make_graph_from_BoW_df(df)\n",
    "sbmtm.save_graph(\"pmc.xml.gz\")"
   ]
  },
  {
   "cell_type": "code",
   "execution_count": null,
   "id": "92febb90",
   "metadata": {},
   "outputs": [],
   "source": [
    "g = sbmtm.g\n",
    "g"
   ]
  },
  {
   "cell_type": "code",
   "execution_count": null,
   "id": "6830b84d",
   "metadata": {},
   "outputs": [],
   "source": [
    "sbmtm.fit(n_init=5, verbose=False, B_min=20, parallel=True)"
   ]
  },
  {
   "cell_type": "code",
   "execution_count": null,
   "id": "af0acf76",
   "metadata": {},
   "outputs": [],
   "source": [
    "sbmtm.groups[0]=sbmtm.get_groups(0)\n",
    "sbmtm.groups[1]=sbmtm.get_groups(1)"
   ]
  },
  {
   "cell_type": "code",
   "execution_count": null,
   "id": "44b85225",
   "metadata": {},
   "outputs": [],
   "source": [
    "os.system(\"rm -rf pmc\")\n",
    "os.system(\"mkdir -p pmc\")\n",
    "os.chdir(\"pmc/\")\n",
    "df_files.to_csv(\"files.dat\")\n",
    "os.system(\"mkdir -p topsbm\")\n",
    "os.chdir(\"topsbm/\")\n",
    "sbmtm.save_data()\n",
    "sbmtm.save_graph()\n",
    "os.chdir(\"../../\")"
   ]
  },
  {
   "cell_type": "code",
   "execution_count": null,
   "id": "ad7aed3f",
   "metadata": {},
   "outputs": [],
   "source": [
    "gt.draw_hierarchy(sbmtm.state, layout=\"bipartite\", hedge_pen_width=8, hvertex_size=25)"
   ]
  },
  {
   "cell_type": "markdown",
   "id": "daf7b52a",
   "metadata": {},
   "source": [
    "## triSBM\n",
    "### keywords"
   ]
  },
  {
   "cell_type": "code",
   "execution_count": null,
   "id": "89372d97",
   "metadata": {},
   "outputs": [],
   "source": [
    "sys.path.append(\"../../trisbm/\")\n",
    "from trisbm import trisbm"
   ]
  },
  {
   "cell_type": "code",
   "execution_count": null,
   "id": "c7776996",
   "metadata": {},
   "outputs": [],
   "source": [
    "trisbm = trisbm()\n",
    "trisbm.make_graph(df.append(df_meta), lambda word_keyword: 2 if word_keyword in df_meta.index else 1)"
   ]
  },
  {
   "cell_type": "code",
   "execution_count": null,
   "id": "14cda101",
   "metadata": {},
   "outputs": [],
   "source": [
    "trisbm.save_graph(\"pmc_keyword.xml.gz\")"
   ]
  },
  {
   "cell_type": "code",
   "execution_count": null,
   "id": "00db9bf0",
   "metadata": {},
   "outputs": [],
   "source": [
    "trisbm.fit(n_init=5, verbose=False, B_min=10)"
   ]
  },
  {
   "cell_type": "code",
   "execution_count": null,
   "id": "a9ee5948",
   "metadata": {},
   "outputs": [],
   "source": [
    "import os"
   ]
  },
  {
   "cell_type": "code",
   "execution_count": null,
   "id": "43fe338d",
   "metadata": {},
   "outputs": [],
   "source": [
    "os.system(\"rm -rf pmc_keyword\")\n",
    "os.system(\"mkdir -p pmc_keyword\")\n",
    "os.chdir(\"pmc_keyword/\")\n",
    "df_files.to_csv(\"files.dat\")\n",
    "os.system(\"mkdir -p trisbm\")\n",
    "os.chdir(\"trisbm/\")\n",
    "trisbm.save_data()\n",
    "trisbm.save_graph()\n",
    "os.chdir(\"../../\")"
   ]
  },
  {
   "cell_type": "code",
   "execution_count": null,
   "id": "b573543f",
   "metadata": {},
   "outputs": [],
   "source": [
    "gt.draw_hierarchy(trisbm.state, \n",
    "                  #pos=gt.sfdp_layout(model.g),\n",
    "                  hedge_pen_width=8, \n",
    "                  hvertex_size=25\n",
    "                 )"
   ]
  },
  {
   "cell_type": "markdown",
   "id": "e8a22378-c26a-4c59-a91a-2fe16ea19c4b",
   "metadata": {},
   "source": [
    "### nauth"
   ]
  },
  {
   "cell_type": "code",
   "execution_count": null,
   "id": "93f23bad-8c84-4dcd-8000-baaecfba77d2",
   "metadata": {},
   "outputs": [],
   "source": [
    "sys.path.append(\"../../trisbm/\")\n",
    "from trisbm import trisbm"
   ]
  },
  {
   "cell_type": "code",
   "execution_count": null,
   "id": "eb19f214-a34f-4dd2-af05-6e9035582979",
   "metadata": {},
   "outputs": [],
   "source": [
    "nauth = trisbm()\n",
    "nauth.make_graph(df.append(df_nauth), lambda word_keyword: 2 if word_keyword in df_meta.index else 1)"
   ]
  },
  {
   "cell_type": "code",
   "execution_count": null,
   "id": "c37f08e8-db00-464b-b0e5-01be4f1a337c",
   "metadata": {},
   "outputs": [],
   "source": [
    "nauth.save_graph(\"pmc_nauth.xml.gz\")"
   ]
  },
  {
   "cell_type": "code",
   "execution_count": null,
   "id": "f0f8b707-0ad4-4aa4-8f37-f7cc41c7f30e",
   "metadata": {},
   "outputs": [],
   "source": [
    "nauth.fit(n_init=5, verbose=False, B_min=10)"
   ]
  },
  {
   "cell_type": "code",
   "execution_count": null,
   "id": "594ddef0-9337-40b1-900d-741c407e50cf",
   "metadata": {},
   "outputs": [],
   "source": [
    "import os"
   ]
  },
  {
   "cell_type": "code",
   "execution_count": null,
   "id": "1b44a805-704c-4747-81cc-d0ff2db4d01e",
   "metadata": {
    "tags": []
   },
   "outputs": [],
   "source": [
    "os.system(\"rm -rf pmc_nauth\")\n",
    "os.system(\"mkdir -p pmc_nauth\")\n",
    "os.chdir(\"pmc_nauth/\")\n",
    "df_files.to_csv(\"files.dat\")\n",
    "os.system(\"mkdir -p trisbm\")\n",
    "os.chdir(\"trisbm/\")\n",
    "nauth.save_data()\n",
    "nauth.save_graph()\n",
    "os.chdir(\"../../\")"
   ]
  },
  {
   "cell_type": "code",
   "execution_count": null,
   "id": "9b906419-a8b8-473e-95d3-d923a099a08a",
   "metadata": {},
   "outputs": [],
   "source": [
    "gt.draw_hierarchy(nauth.state, \n",
    "                  #pos=gt.sfdp_layout(model.g),\n",
    "                  hedge_pen_width=8, \n",
    "                  hvertex_size=25\n",
    "                 )"
   ]
  },
  {
   "cell_type": "markdown",
   "id": "f6e19b61-bc3e-4700-b26b-a2696c05746a",
   "metadata": {},
   "source": [
    "## tetraSBM"
   ]
  },
  {
   "cell_type": "code",
   "execution_count": null,
   "id": "843e59fa-e827-4322-91ba-b743b7c2f2a1",
   "metadata": {},
   "outputs": [],
   "source": [
    "sys.path.append(\"../../trisbm/\")\n",
    "from nsbm import nsbm"
   ]
  },
  {
   "cell_type": "code",
   "execution_count": null,
   "id": "6c9431cc-f34b-421f-9142-e8beb4270fd2",
   "metadata": {},
   "outputs": [],
   "source": [
    "tetra = nsbm()\n",
    "tetra.make_graph_multiple_df(df,[df_meta, df_nauth])"
   ]
  },
  {
   "cell_type": "code",
   "execution_count": null,
   "id": "911cfa17-2d43-4d5e-8270-866ad7ecde0b",
   "metadata": {},
   "outputs": [],
   "source": [
    "tetra.save_graph(\"pmc_tetra.xml.gz\")"
   ]
  },
  {
   "cell_type": "code",
   "execution_count": null,
   "id": "bb9d1814-a019-45eb-8ac4-9b24226f5401",
   "metadata": {},
   "outputs": [],
   "source": [
    "tetra.fit(n_init=5, verbose=False, B_min=10)"
   ]
  },
  {
   "cell_type": "code",
   "execution_count": null,
   "id": "477a88d0-038e-4d9a-b420-f06cdd7e95a9",
   "metadata": {},
   "outputs": [],
   "source": [
    "import os"
   ]
  },
  {
   "cell_type": "code",
   "execution_count": null,
   "id": "ca712adf-6ffa-4f6b-bd11-693f3dca04b3",
   "metadata": {
    "tags": []
   },
   "outputs": [],
   "source": [
    "os.system(\"rm -rf pmc_tetra\")\n",
    "os.system(\"mkdir -p pmc_tetra\")\n",
    "os.chdir(\"pmc_tetra/\")\n",
    "df_files.to_csv(\"files.dat\")\n",
    "os.system(\"mkdir -p trisbm\")\n",
    "os.chdir(\"trisbm/\")\n",
    "tetra.save_data()\n",
    "tetra.save_graph()\n",
    "os.chdir(\"../../\")"
   ]
  },
  {
   "cell_type": "code",
   "execution_count": null,
   "id": "d9147a43-ebff-405e-b18a-87eb55913fc2",
   "metadata": {
    "tags": []
   },
   "outputs": [],
   "source": [
    "gt.draw_hierarchy(tetra.state, \n",
    "                  #pos=gt.sfdp_layout(model.g),\n",
    "                  hedge_pen_width=8, \n",
    "                  hvertex_size=25\n",
    "                 )"
   ]
  },
  {
   "cell_type": "markdown",
   "id": "9d9bbf73",
   "metadata": {},
   "source": [
    "## Benchmark"
   ]
  },
  {
   "cell_type": "code",
   "execution_count": null,
   "id": "60a312c3",
   "metadata": {},
   "outputs": [],
   "source": [
    "from topicpy.hsbmpy import get_scores, get_scores_shuffled, add_score_lines, normalise_score\n",
    "import matplotlib.pyplot as plt\n",
    "import pandas as pd\n",
    "import os"
   ]
  },
  {
   "cell_type": "code",
   "execution_count": null,
   "id": "e206d950",
   "metadata": {},
   "outputs": [],
   "source": [
    "labels = [\"journal\"]\n",
    "scores = get_scores(\"pmc_key\", labels, algorithm=\"trisbm\", verbose=False)\n",
    "scores['triSBM'] = scores[labels[0]]\n",
    "scores[\"hsbm\"]=get_scores(\"pmc\", labels, algorithm=\"topsbm\", verbose=False)[labels[0]]\n",
    "scores[\"triSBM_nauth\"]=get_scores(\"pmc_nauth\", labels, algorithm=\"trisbm\", verbose=False)[labels[0]]\n",
    "scores[\"tetraSBM\"]=get_scores(\"pmc_tetra\", labels, algorithm=\"trisbm\", verbose=False)[labels[0]]\n",
    "scores['shuffle'] = get_scores_shuffled(\"pmc\", pd.read_csv(\"pmc/files.dat\", sep=\",\", index_col=0), label=labels[0], algorithm='topsbm')\n",
    "normalise_score(scores, base_algorithm=\"shuffle\", operation=lambda x,y: x/y)"
   ]
  },
  {
   "cell_type": "code",
   "execution_count": null,
   "id": "11b8e569",
   "metadata": {},
   "outputs": [],
   "source": [
    "fig=plt.figure(figsize=(18,15))\n",
    "ax = fig.subplots(1)\n",
    "add_score_lines(ax,scores,labels=[\"hsbm\",\"triSBM\", \"triSBM_nauth\", \"tetraSBM\", \"shuffle\"], V=\"norm_V\", alpha=1)\n",
    "ax.set_xscale('log')\n",
    "ax.set_ylim(0,max(map(lambda s: max(s[\"norm_V\"]), scores.values()))*1.1)\n",
    "ax.set_xlim(0,max(map(lambda s: max(s[\"xl\"]), scores.values()))*1.1)\n",
    "\n",
    "plt.show()\n",
    "fig.savefig(\"metric_scores.pdf\")"
   ]
  },
  {
   "cell_type": "code",
   "execution_count": null,
   "id": "50f2cedb",
   "metadata": {},
   "outputs": [],
   "source": [
    "import plotly.graph_objects as go"
   ]
  },
  {
   "cell_type": "code",
   "execution_count": null,
   "id": "3fe0e250",
   "metadata": {},
   "outputs": [],
   "source": [
    "fig = go.Figure()\n",
    "fig.add_traces([\n",
    "    go.Bar(x=[0], y = [sbmtm.get_mdl()/sbmtm.g.num_edges()], name=\"hSBM\"),\n",
    "    go.Bar(x=[1], y = [trisbm.get_mdl()/trisbm.g.num_edges()], name=\"triSBM\"),\n",
    "    go.Bar(x=[1], y = [nauth.get_mdl()/nauth.g.num_edges()], name=\"nauth\"),\n",
    "    go.Bar(x=[2], y = [tetra.get_mdl()/tetra.g.num_edges()], name=\"tetraSBM\")\n",
    "])\n",
    "\n",
    "titlefont = {\n",
    "    \"size\": 30 \n",
    "}\n",
    "\n",
    "tickfont = {\n",
    "    \"size\":25\n",
    "}\n",
    "\n",
    "layout = {\n",
    "    \"title\":\"PMC dataset\",\n",
    "    \"xaxis\":{\n",
    "        \"title\": \"Resolution\",\n",
    "        \"titlefont\": titlefont,\n",
    "        \"tickfont\": tickfont,\n",
    "        \"tickmode\":\"array\",\n",
    "        \"tickvals\":[0,1,2],\n",
    "        \"ticktext\":[\"hSBM\", \"triSBM\", \"nSBM\"]\n",
    "    },\n",
    "    \"yaxis\":{\n",
    "        \"title\": \"∑/E\",\n",
    "        \"type\":\"log\",\n",
    "        #\"range\": [10e3,20e3],\n",
    "        \"titlefont\": titlefont,\n",
    "        \"tickfont\": tickfont\n",
    "    },\n",
    "    \"legend\":{\n",
    "        \"font_size\":35\n",
    "    }\n",
    "}\n",
    "\n",
    "fig.update_layout(layout)\n",
    "fig.show()\n",
    "fig.write_image(\"metric_entropies_bar.pdf\", engine=\"kaleido\")"
   ]
  },
  {
   "cell_type": "code",
   "execution_count": null,
   "id": "95317245",
   "metadata": {},
   "outputs": [],
   "source": [
    "fig = go.Figure()\n",
    "fig.add_traces([\n",
    "    go.Bar(y=scores[\"hsbm\"][\"norm_V\"], name=\"hSBM\"),\n",
    "    go.Bar(y=scores[\"trisbm\"][\"norm_V\"], name=\"triSBM\")\n",
    "])\n",
    "\n",
    "titlefont = {\n",
    "    \"size\": 30 \n",
    "}\n",
    "\n",
    "tickfont = {\n",
    "    \"size\":25\n",
    "}\n",
    "\n",
    "layout = {\n",
    "    \"title\":\"PMC dataset\",\n",
    "    \"xaxis\":{\n",
    "        \"title\": \"Resolution\",\n",
    "        \"titlefont\": titlefont,\n",
    "        \"tickfont\": tickfont\n",
    "    },\n",
    "    \"yaxis\":{\n",
    "        \"title\": \"NMI/NMI*\",\n",
    "        \"titlefont\": titlefont,\n",
    "        \"tickfont\": tickfont\n",
    "    },\n",
    "    \"legend\":{\n",
    "        \"font_size\":35\n",
    "    }\n",
    "}\n",
    "\n",
    "fig.update_layout(layout)\n",
    "#fig.write_image(\"metric_scores_bar.pdf\")"
   ]
  },
  {
   "cell_type": "code",
   "execution_count": null,
   "id": "929919a2",
   "metadata": {},
   "outputs": [],
   "source": [
    "from topicpy.hsbmpy import clusteranalysis"
   ]
  },
  {
   "cell_type": "code",
   "execution_count": null,
   "id": "ef20c7de",
   "metadata": {},
   "outputs": [],
   "source": [
    "clusteranalysis(os.getcwd()+\"/pmc/\", [\"journal\"], algorithm=\"topsbm\")\n",
    "clusteranalysis(os.getcwd()+\"/pmc_key/\", [\"journal\"], algorithm=\"trisbm\")"
   ]
  },
  {
   "cell_type": "code",
   "execution_count": null,
   "id": "5c459750",
   "metadata": {},
   "outputs": [],
   "source": [
    "import cloudpickle as pickle\n",
    "\n",
    "with open(\"sbmtm.pkl\", \"wb\") as file:\n",
    "    pickle.dump(sbmtm, file)\n",
    "    \n",
    "with open(\"trisbm.pkl\", \"wb\") as file:\n",
    "    pickle.dump(trisbm, file)\n",
    "    \n",
    "with open(\"nauth.pkl\", \"wb\") as file:\n",
    "    pickle.dump(nauth, file)\n",
    "    \n",
    "with open(\"tetra.pkl\", \"wb\") as file:\n",
    "    pickle.dump(tetra, file)"
   ]
  },
  {
   "cell_type": "code",
   "execution_count": null,
   "id": "eecb37de-f410-457b-af72-b8a0b8a9f46b",
   "metadata": {},
   "outputs": [],
   "source": [
    "import cloudpickle as pickle\n",
    "\n",
    "with open(\"sbmtm.pkl\", \"rb\") as file:\n",
    "    sbmtm = pickle.load(file)\n",
    "    \n",
    "with open(\"trisbm.pkl\", \"rb\") as file:\n",
    "    trisbm = pickle.load(file)\n",
    "    \n",
    "with open(\"nauth.pkl\", \"rb\") as file:\n",
    "    nauth= pickle.load(file)\n",
    "    \n",
    "with open(\"tetra.pkl\", \"rb\") as file:\n",
    "    tetra=pickle.load(file)"
   ]
  },
  {
   "cell_type": "code",
   "execution_count": null,
   "id": "0f909eb4-ee4a-457d-a017-bef7da661879",
   "metadata": {},
   "outputs": [],
   "source": []
  }
 ],
 "metadata": {
  "kernelspec": {
   "display_name": "Python 3",
   "language": "python",
   "name": "python3"
  },
  "language_info": {
   "codemirror_mode": {
    "name": "ipython",
    "version": 3
   },
   "file_extension": ".py",
   "mimetype": "text/x-python",
   "name": "python",
   "nbconvert_exporter": "python",
   "pygments_lexer": "ipython3",
   "version": "3.8.8"
  }
 },
 "nbformat": 4,
 "nbformat_minor": 5
}
