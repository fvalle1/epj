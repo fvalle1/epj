{
 "cells": [
  {
   "cell_type": "code",
   "execution_count": 1,
   "id": "ed474436",
   "metadata": {},
   "outputs": [
    {
     "name": "stdout",
     "output_type": "stream",
     "text": [
      "Author: Filippo_Valle\n",
      "\n",
      "Python implementation: CPython\n",
      "Python version       : 3.8.8\n",
      "IPython version      : 7.22.0\n",
      "\n",
      "pandas     : 1.2.3\n",
      "numpy      : 1.19.0\n",
      "graph_tool : 2.37 (commit afba9459, )\n",
      "cloudpickle: 1.6.0\n",
      "regex      : 2021.4.4\n",
      "topicpy    : 0.2.1\n",
      "scanpy     : 1.7.1\n",
      "matplotlib : 3.4.1\n",
      "plotly     : 4.14.3\n",
      "\n",
      "Compiler    : GCC 9.3.0\n",
      "OS          : Linux\n",
      "Release     : 5.8.0-50-generic\n",
      "Machine     : x86_64\n",
      "Processor   : x86_64\n",
      "CPU cores   : 12\n",
      "Architecture: 64bit\n",
      "\n",
      "Git hash: aec0cb27d23e921cf53771b154b07fadbbd6854a\n",
      "\n",
      "Git repo: git@github.com:fvalle1/epj.git\n",
      "\n"
     ]
    }
   ],
   "source": [
    "%load_ext watermark\n",
    "%watermark  -a Filippo_Valle -v -m -g -r -v -p pandas,numpy,graph_tool,cloudpickle,regex,topicpy,scanpy,matplotlib,plotly"
   ]
  },
  {
   "cell_type": "code",
   "execution_count": 2,
   "id": "9905bf01",
   "metadata": {},
   "outputs": [],
   "source": [
    "import pandas as pd\n",
    "import numpy as np\n",
    "import graph_tool.all as gt\n",
    "import sys\n",
    "sys.path.append(\"../../hSBM_Topicmodel/\")\n",
    "sys.path.append(\"../../trisbm/\")\n",
    "\n",
    "from sbmtm import sbmtm\n",
    "from trisbm import trisbm\n",
    "import scanpy as sc\n",
    "import cloudpickle as pickle"
   ]
  },
  {
   "cell_type": "code",
   "execution_count": null,
   "id": "b5b508ae",
   "metadata": {},
   "outputs": [],
   "source": [
    "df = pd.read_csv(\"mainTable_fpkm.csv\", index_col=0)"
   ]
  },
  {
   "cell_type": "code",
   "execution_count": null,
   "id": "78228df6",
   "metadata": {},
   "outputs": [],
   "source": [
    "df_mirna = pd.read_csv(\"mainTable_cnv.csv\", index_col=0)"
   ]
  },
  {
   "cell_type": "code",
   "execution_count": null,
   "id": "40c2199f",
   "metadata": {},
   "outputs": [],
   "source": [
    "df_files = pd.read_csv(\"tcga/files.dat\")"
   ]
  },
  {
   "cell_type": "code",
   "execution_count": null,
   "id": "d3b422ec",
   "metadata": {},
   "outputs": [],
   "source": [
    "df = df[df.columns[df.columns.isin(df_files[\"file_fpkm\"])]]\n",
    "df_mirna = df_mirna[df_mirna.columns[df_mirna.columns.isin(df_files[\"file_mirna\"])]]"
   ]
  },
  {
   "cell_type": "code",
   "execution_count": null,
   "id": "694290d9",
   "metadata": {},
   "outputs": [],
   "source": [
    "df.columns=df_files.set_index(\"file_fpkm\").reindex(index=df.columns)[\"cases.0.submitter_id\"]\n",
    "df_mirna.columns=df_files.set_index(\"file_mirna\").reindex(index=df_mirna.columns)[\"cases.0.submitter_id\"]\n",
    "df_mirna = df_mirna.reindex(columns=df.columns)"
   ]
  },
  {
   "cell_type": "code",
   "execution_count": null,
   "id": "b59807fd",
   "metadata": {},
   "outputs": [],
   "source": [
    "df_files.set_index(\"cases.0.submitter_id\", inplace=True)"
   ]
  },
  {
   "cell_type": "code",
   "execution_count": null,
   "id": "225f5d6b",
   "metadata": {},
   "outputs": [],
   "source": [
    "with open(\"cases.txt\",\"w\") as file:\n",
    "    file.write(\"\\n\".join(df_files.index))"
   ]
  },
  {
   "cell_type": "markdown",
   "id": "9a096137",
   "metadata": {},
   "source": [
    "## HVG"
   ]
  },
  {
   "cell_type": "code",
   "execution_count": null,
   "id": "682a3359",
   "metadata": {},
   "outputs": [],
   "source": [
    "adata = sc.AnnData(\n",
    "    X=df.transpose().reindex(index=df_files.index), \n",
    "    obs=df_files)"
   ]
  },
  {
   "cell_type": "code",
   "execution_count": null,
   "id": "d2874ebd",
   "metadata": {},
   "outputs": [],
   "source": [
    "sc.pp.log1p(adata)\n",
    "sc.pp.highly_variable_genes(adata, n_top_genes=3000)\n",
    "sc.pl.highly_variable_genes(adata)"
   ]
  },
  {
   "cell_type": "code",
   "execution_count": null,
   "id": "652a815b",
   "metadata": {},
   "outputs": [],
   "source": [
    "hvg = adata.var[adata.var[\"highly_variable\"]==True].index"
   ]
  },
  {
   "cell_type": "markdown",
   "id": "5cafee28",
   "metadata": {},
   "source": [
    "## Highly variable miRNA"
   ]
  },
  {
   "cell_type": "code",
   "execution_count": null,
   "id": "711032b5",
   "metadata": {},
   "outputs": [],
   "source": [
    "adata = sc.AnnData(\n",
    "    X=df_mirna.transpose().reindex(index=df_files.index), \n",
    "    obs=df_files)"
   ]
  },
  {
   "cell_type": "code",
   "execution_count": null,
   "id": "27ae3cf3",
   "metadata": {},
   "outputs": [],
   "source": [
    "sc.pp.log1p(adata)\n",
    "sc.pp.highly_variable_genes(adata, n_top_genes=1000)\n",
    "sc.pl.highly_variable_genes(adata)"
   ]
  },
  {
   "cell_type": "code",
   "execution_count": null,
   "id": "a628a47b",
   "metadata": {},
   "outputs": [],
   "source": [
    "hvmiRNA = adata.var[adata.var[\"highly_variable\"]==True].index.unique()"
   ]
  },
  {
   "cell_type": "markdown",
   "id": "7fc533c4",
   "metadata": {},
   "source": [
    "# hSBM"
   ]
  },
  {
   "cell_type": "code",
   "execution_count": null,
   "id": "acab1664",
   "metadata": {},
   "outputs": [],
   "source": [
    "hsbm = sbmtm()"
   ]
  },
  {
   "cell_type": "code",
   "execution_count": null,
   "id": "e9bf99e8",
   "metadata": {},
   "outputs": [],
   "source": [
    "hsbm.make_graph_from_BoW_df(df.reindex(index=hvg))\n",
    "hsbm.g"
   ]
  },
  {
   "cell_type": "code",
   "execution_count": null,
   "id": "a7c3aa9b",
   "metadata": {},
   "outputs": [],
   "source": [
    "hsbm.save_graph(\"graph_sbmtm.xml.gz\")"
   ]
  },
  {
   "cell_type": "markdown",
   "id": "5bff105d",
   "metadata": {},
   "source": [
    "## triSBM"
   ]
  },
  {
   "cell_type": "code",
   "execution_count": null,
   "id": "a43afebd",
   "metadata": {},
   "outputs": [],
   "source": [
    "df_all = df.reindex(index=hvg).append(df_mirna.reindex(index=hvmiRNA))"
   ]
  },
  {
   "cell_type": "code",
   "execution_count": null,
   "id": "e6a50fe4",
   "metadata": {},
   "outputs": [],
   "source": [
    "trisbm_model = trisbm()\n",
    "trisbm_model.make_graph(df_all, lambda gene: 1 if \"ENSG\" in gene else 2)"
   ]
  },
  {
   "cell_type": "code",
   "execution_count": null,
   "id": "86c10b39",
   "metadata": {},
   "outputs": [],
   "source": [
    "trisbm_model.g"
   ]
  },
  {
   "cell_type": "code",
   "execution_count": null,
   "id": "cabebc72",
   "metadata": {},
   "outputs": [],
   "source": [
    "trisbm_model.save_graph(\"graph_trisbm.xml.gz\")"
   ]
  },
  {
   "cell_type": "code",
   "execution_count": null,
   "id": "34fe28f2",
   "metadata": {},
   "outputs": [],
   "source": [
    "pd.read_csv(\"files.dat\", index_col=0).set_index(\"cases.0.submitter_id\").to_csv(\"files.dat\")"
   ]
  },
  {
   "cell_type": "markdown",
   "id": "64ca979e",
   "metadata": {},
   "source": [
    "## Benchmark"
   ]
  },
  {
   "cell_type": "code",
   "execution_count": null,
   "id": "17625ca7",
   "metadata": {},
   "outputs": [],
   "source": [
    "from topicpy.hsbmpy import get_scores, get_scores_shuffled, add_score_lines, normalise_score\n",
    "import matplotlib.pyplot as plt\n",
    "import pandas as pd\n",
    "import os"
   ]
  },
  {
   "cell_type": "code",
   "execution_count": null,
   "id": "cc41bc10",
   "metadata": {},
   "outputs": [],
   "source": [
    "labels = [\"cases.0.project.primary_site\"]\n",
    "scores = get_scores(\"tcga_key\", labels, algorithm=\"trisbm\", verbose=False)\n",
    "scores['trisbm'] = scores[labels[0]]\n",
    "scores[\"hsbm\"]=get_scores(\"tcga\", labels, algorithm=\"topsbm\", verbose=False)[labels[0]]\n",
    "scores['shuffle'] = get_scores_shuffled(\"tcga_key\", pd.read_csv(\"tcga/files.dat\", sep=\",\", index_col=0), label=labels[0], algorithm='trisbm')\n",
    "normalise_score(scores, base_algorithm=\"shuffle\", operation=lambda x,y: x/y)"
   ]
  },
  {
   "cell_type": "code",
   "execution_count": null,
   "id": "e33247c3",
   "metadata": {},
   "outputs": [],
   "source": [
    "fig=plt.figure(figsize=(18,15))\n",
    "ax = fig.subplots(1)\n",
    "add_score_lines(ax,scores,labels=[\"hsbm\",\"trisbm\", \"shuffle\"], V=\"norm_V\", alpha=1)\n",
    "ax.set_xscale('log')\n",
    "ax.set_ylim(0,max(map(lambda s: max(s[\"norm_V\"]), scores.values()))*1.1)\n",
    "ax.set_xlim(0,max(map(lambda s: max(s[\"xl\"]), scores.values()))*1.1)\n",
    "\n",
    "plt.show()\n",
    "fig.savefig(\"metric_scores.pdf\")"
   ]
  },
  {
   "cell_type": "code",
   "execution_count": null,
   "id": "766952ef",
   "metadata": {},
   "outputs": [],
   "source": [
    "import plotly.graph_objects as go"
   ]
  },
  {
   "cell_type": "code",
   "execution_count": null,
   "id": "209e46f4",
   "metadata": {},
   "outputs": [],
   "source": [
    "import cloudpickle as pickle \n",
    "\n",
    "with open(\"sbmtm.pkl\", \"rb\") as file:\n",
    "    hsbm = pickle.load(file)\n",
    "    \n",
    "with open(\"trisbm.pkl\", \"rb\") as file:\n",
    "    trisbm_model = pickle.load(file)"
   ]
  },
  {
   "cell_type": "code",
   "execution_count": null,
   "id": "cd77a513",
   "metadata": {},
   "outputs": [],
   "source": [
    "fig = go.Figure()\n",
    "fig.add_traces([\n",
    "    go.Bar(y = [hsbm.get_mdl()/hsbm.g.num_edges()], name=\"hSBM\"),\n",
    "    go.Bar(y = [trisbm_model.get_mdl()/trisbm_model.g.num_edges()], name=\"triSBM\")\n",
    "])\n",
    "\n",
    "titlefont = {\n",
    "    \"size\": 30 \n",
    "}\n",
    "\n",
    "tickfont = {\n",
    "    \"size\":25\n",
    "}\n",
    "\n",
    "layout = {\n",
    "    \"title\":\"TCGA dataset\",\n",
    "    \"xaxis\":{\n",
    "        \"title\": \"Resolution\",\n",
    "        \"titlefont\": titlefont,\n",
    "        \"tickfont\": tickfont\n",
    "    },\n",
    "    \"yaxis\":{\n",
    "        \"title\": \"∑\",\n",
    "        \"type\":\"log\",\n",
    "        #\"range\": [10e3,20e3],\n",
    "        \"titlefont\": titlefont,\n",
    "        \"tickfont\": tickfont\n",
    "    },\n",
    "    \"legend\":{\n",
    "        \"font_size\":35\n",
    "    }\n",
    "}\n",
    "\n",
    "fig.update_layout(layout)\n",
    "#fig.write_image(\"metric_entropies_bar.pdf\")"
   ]
  },
  {
   "cell_type": "code",
   "execution_count": null,
   "id": "f9a79ba4",
   "metadata": {},
   "outputs": [],
   "source": [
    "fig = go.Figure()\n",
    "fig.add_traces([\n",
    "    go.Bar(y=scores[\"hsbm\"][\"norm_V\"], name=\"hSBM\"),\n",
    "    go.Bar(y=scores[\"trisbm\"][\"norm_V\"], name=\"triSBM\")\n",
    "])\n",
    "\n",
    "titlefont = {\n",
    "    \"size\": 30 \n",
    "}\n",
    "\n",
    "tickfont = {\n",
    "    \"size\":25\n",
    "}\n",
    "\n",
    "layout = {\n",
    "    \"xaxis\":{\n",
    "        \"title\": \"Resolution\",\n",
    "        \"titlefont\": titlefont,\n",
    "        \"tickfont\": tickfont\n",
    "    },\n",
    "    \"yaxis\":{\n",
    "        \"title\": \"NMI/NMI*\",\n",
    "        \"titlefont\": titlefont,\n",
    "        \"tickfont\": tickfont\n",
    "    },\n",
    "    \"legend\":{\n",
    "        \"font_size\":35\n",
    "    }\n",
    "}\n",
    "\n",
    "fig.update_layout(layout)\n",
    "#fig.write_image(\"metric_scores_bar.pdf\")"
   ]
  },
  {
   "cell_type": "code",
   "execution_count": null,
   "id": "b0944359",
   "metadata": {},
   "outputs": [],
   "source": []
  }
 ],
 "metadata": {
  "kernelspec": {
   "display_name": "Python 3",
   "language": "python",
   "name": "python3"
  },
  "language_info": {
   "codemirror_mode": {
    "name": "ipython",
    "version": 3
   },
   "file_extension": ".py",
   "mimetype": "text/x-python",
   "name": "python",
   "nbconvert_exporter": "python",
   "pygments_lexer": "ipython3",
   "version": "3.8.8"
  }
 },
 "nbformat": 4,
 "nbformat_minor": 5
}
